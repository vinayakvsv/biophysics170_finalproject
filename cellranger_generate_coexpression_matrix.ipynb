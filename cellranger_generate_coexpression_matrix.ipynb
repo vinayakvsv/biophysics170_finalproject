{
 "cells": [
  {
   "cell_type": "code",
   "execution_count": null,
   "metadata": {
    "collapsed": true
   },
   "outputs": [],
   "source": [
    "# This script will perform the covariation calculations on Orchestra. \n",
    "# This is meant to produce a pairwise contact file that we can utilize for analysis on Cooler"
   ]
  },
  {
   "cell_type": "code",
   "execution_count": null,
   "metadata": {
    "collapsed": true
   },
   "outputs": [],
   "source": [
    "#Basics\n",
    "import os, sys, re\n",
    "import h5py\n",
    "import multiprocessing as mp\n",
    "\n",
    "#Packages for big data\n",
    "import csv\n",
    "import scipy.io\n",
    "import pandas as pd\n",
    "import matplotlib.pyplot as plt\n",
    "import matplotlib.pylab as pylab\n",
    "import numpy as np\n",
    "import scipy.sparse as sps\n",
    "import scipy.spatial.distance as ds\n",
    "\n",
    "\n",
    "#import cooler\n",
    "#import re\n",
    "#import seaborn\n"
   ]
  },
  {
   "cell_type": "code",
   "execution_count": null,
   "metadata": {
    "collapsed": true
   },
   "outputs": [],
   "source": [
    "# matrix import function\n",
    "def import_matrix_mtx_file(filename,aspd=False):\n",
    "    inmat = scipy.io.mmread(source=filename)\n",
    "    if (aspd==True):\n",
    "        return(pd.SparseDataFrame(inmat))\n",
    "    else:\n",
    "        return(inmat)\n"
   ]
  },
  {
   "cell_type": "code",
   "execution_count": null,
   "metadata": {
    "collapsed": true
   },
   "outputs": [],
   "source": []
  },
  {
   "cell_type": "code",
   "execution_count": null,
   "metadata": {
    "collapsed": true
   },
   "outputs": [],
   "source": [
    "#####\n",
    "# Main\n",
    "\n",
    "# Set imports; these will be the only three inputs we need\n",
    "in_matrix_mtx = sys.argv[1] # os.path.join(bcell_matrix_dir, \"matrix.mtx\")\n",
    "in_genes = sys.argv[2] # os.path.join(bcell_matrix_dir, \"genes.tsv\")\n",
    "in_barcodes = sys.argv[3] # os.path.join(bcell_matrix_dir, \"barcodes.tsv\")\n"
   ]
  },
  {
   "cell_type": "code",
   "execution_count": null,
   "metadata": {
    "collapsed": true
   },
   "outputs": [],
   "source": [
    "# Import the files\n",
    "# 1. inmatrix\n",
    "mp_pool = mp.Pool(5)\n",
    "infile = mp_pool.map(import_matrix_mtx_file, [inmatrix])\n",
    "mp_pool.close()\n",
    "\n",
    "# 2. genes_df\n",
    "gene_ids = [row[0] for row in csv.reader(open(genes_path), delimiter=\"\\t\")]\n",
    "gene_names = [row[1] for row in csv.reader(open(genes_path), delimiter=\"\\t\")]\n",
    "genes_df = pd.DataFrame()\n",
    "genes_df = genes_df.assign(genename=pd.Series(gene_names),geneid=pd.Series(gene_ids))\n",
    "\n",
    "# 3. barcodes_df\n",
    "barcodes = [row[0] for row in csv.reader(open(barcodes_path), delimiter=\"\\t\")]"
   ]
  },
  {
   "cell_type": "code",
   "execution_count": null,
   "metadata": {
    "collapsed": true
   },
   "outputs": [],
   "source": []
  }
 ],
 "metadata": {
  "kernelspec": {
   "display_name": "Python 3",
   "language": "python",
   "name": "python3"
  },
  "language_info": {
   "codemirror_mode": {
    "name": "ipython",
    "version": 3
   },
   "file_extension": ".py",
   "mimetype": "text/x-python",
   "name": "python",
   "nbconvert_exporter": "python",
   "pygments_lexer": "ipython3",
   "version": "3.6.3"
  }
 },
 "nbformat": 4,
 "nbformat_minor": 2
}
