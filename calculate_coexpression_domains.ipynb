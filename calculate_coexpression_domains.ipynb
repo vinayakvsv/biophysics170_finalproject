{
 "cells": [
  {
   "cell_type": "markdown",
   "metadata": {},
   "source": [
    "# Introduction\n",
    "\n",
    "In this script, we will calculate co-expression domains from the RNA-seq data in Nora et al Cell 2017. \n",
    "\n",
    "The procedure will go as follows:\n",
    "\n",
    "1. Import RNA-seq bigwig files, and define signal over genes (mm9 Refseq annotation), and store as Cooler files\n",
    "    a. visualize in HiGlass with TAD data\n",
    "2. Compute a co-expression matrix of genes.\n",
    "3. Utilize TAD-calling strategies to define blocks of significantly-correlated blocks.\n",
    "4. Export the result as a "
   ]
  },
  {
   "cell_type": "code",
   "execution_count": null,
   "metadata": {
    "collapsed": true
   },
   "outputs": [],
   "source": [
    "# imports\n",
    "from common import * #see common.py for the packages that were just imported\n",
    "\n",
    "#contents of this directory\n",
    "datafiles = [os.path.join(DATA_DIR,i) for i in os.listdir(DATA_DIR)]\n",
    "rnaseqbw = [i for i in datafiles if \"RNA-seq\" in i]\n",
    "print(rnaseqbw)"
   ]
  },
  {
   "cell_type": "code",
   "execution_count": null,
   "metadata": {
    "collapsed": true
   },
   "outputs": [],
   "source": [
    "#let's import the genes\n",
    "mm9genes = pandas.read_table(filepath_or_buffer=\"./mm-data/mm9.txt\")\n",
    "print(mm9genes)"
   ]
  },
  {
   "cell_type": "code",
   "execution_count": null,
   "metadata": {
    "collapsed": true
   },
   "outputs": [],
   "source": [
    "#import pyBigWig"
   ]
  },
  {
   "cell_type": "code",
   "execution_count": 3,
   "metadata": {},
   "outputs": [
    {
     "ename": "ModuleNotFoundError",
     "evalue": "No module named 'pybedtools'",
     "output_type": "error",
     "traceback": [
      "\u001b[0;31m---------------------------------------------------------------------------\u001b[0m",
      "\u001b[0;31mModuleNotFoundError\u001b[0m                       Traceback (most recent call last)",
      "\u001b[0;32m<ipython-input-3-78fd26d6bdcf>\u001b[0m in \u001b[0;36m<module>\u001b[0;34m()\u001b[0m\n\u001b[0;32m----> 1\u001b[0;31m \u001b[0;32mimport\u001b[0m \u001b[0mpybedtools\u001b[0m\u001b[0;34m\u001b[0m\u001b[0m\n\u001b[0m",
      "\u001b[0;31mModuleNotFoundError\u001b[0m: No module named 'pybedtools'"
     ]
    }
   ],
   "source": [
    "import pybedtools"
   ]
  }
 ],
 "metadata": {
  "kernelspec": {
   "display_name": "Python 3",
   "language": "python",
   "name": "python3"
  },
  "language_info": {
   "codemirror_mode": {
    "name": "ipython",
    "version": 3
   },
   "file_extension": ".py",
   "mimetype": "text/x-python",
   "name": "python",
   "nbconvert_exporter": "python",
   "pygments_lexer": "ipython3",
   "version": "3.6.3"
  }
 },
 "nbformat": 4,
 "nbformat_minor": 2
}
