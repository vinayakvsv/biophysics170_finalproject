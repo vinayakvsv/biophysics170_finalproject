{
 "cells": [
  {
   "cell_type": "code",
   "execution_count": 1,
   "metadata": {},
   "outputs": [
    {
     "name": "stdout",
     "output_type": "stream",
     "text": [
      "/Users/vinayakvsv/biophysics170/biophysics170_finalproject/../data2\n"
     ]
    }
   ],
   "source": [
    "from common import *\n",
    "import gzip\n",
    "import io"
   ]
  },
  {
   "cell_type": "code",
   "execution_count": 3,
   "metadata": {},
   "outputs": [],
   "source": [
    "#print(datafiles)\n",
    "datafiles = [os.path.join(DATA_DIR,'coolfiles',i) for i in os.listdir(DATA_DIR)]\n",
    "nora_coolerfiles = [i for i in datafiles if '.cool' in i]"
   ]
  },
  {
   "cell_type": "code",
   "execution_count": 4,
   "metadata": {},
   "outputs": [
    {
     "name": "stdout",
     "output_type": "stream",
     "text": [
      "/Users/vinayakvsv/biophysics170/biophysics170_finalproject/../data2/coolfiles/GSM2644946_Untreated-R2.20000.cool\n"
     ]
    }
   ],
   "source": [
    "coolertest = nora_coolerfiles[0]\n",
    "print(coolertest)"
   ]
  },
  {
   "cell_type": "code",
   "execution_count": 6,
   "metadata": {},
   "outputs": [],
   "source": [
    "#decompress the file\n",
    "#compressedFile = io.StringIO(response.read())\n",
    "#decompressedFile = gzip.GzipFile(fileobj=coolertest)\n",
    "#f = gzip.open(coolertest, 'rb')\n",
    "cooler1 = cooler.Cooler(coolertest)"
   ]
  },
  {
   "cell_type": "code",
   "execution_count": 7,
   "metadata": {},
   "outputs": [
    {
     "data": {
      "text/plain": [
       "<Cooler \"GSM2644946_Untreated-R2.20000.cool::/\">"
      ]
     },
     "execution_count": 7,
     "metadata": {},
     "output_type": "execute_result"
    }
   ],
   "source": [
    "cooler1"
   ]
  }
 ],
 "metadata": {
  "kernelspec": {
   "display_name": "Python 3",
   "language": "python",
   "name": "python3"
  },
  "language_info": {
   "codemirror_mode": {
    "name": "ipython",
    "version": 3
   },
   "file_extension": ".py",
   "mimetype": "text/x-python",
   "name": "python",
   "nbconvert_exporter": "python",
   "pygments_lexer": "ipython3",
   "version": "3.6.3"
  }
 },
 "nbformat": 4,
 "nbformat_minor": 2
}
