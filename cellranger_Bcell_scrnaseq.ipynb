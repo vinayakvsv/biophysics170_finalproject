{
 "cells": [
  {
   "cell_type": "markdown",
   "metadata": {},
   "source": [
    "# Introduction\n",
    "This notebook loads in analysis of B-cells isolated from PBMC's from a healthy donor and analyzed on the 10X Genomics platform. Data was downloaded from the 10X website (https://support.10xgenomics.com/single-cell-gene-expression/datasets/1.1.0/fresh_68k_pbmc_donor_a). Instructions on using the ``matrix.mtx`` files are included here: https://support.10xgenomics.com/single-cell-gene-expression/software/pipelines/latest/output/matrices. We will follow this tutorial"
   ]
  },
  {
   "cell_type": "code",
   "execution_count": 1,
   "metadata": {
    "collapsed": true
   },
   "outputs": [],
   "source": [
    "# import necessary packages\n",
    "import csv\n",
    "import os\n",
    "import scipy.io\n",
    "import pandas as pd\n",
    "import matplotlib.pyplot as plt\n",
    "import matplotlib.pylab as pylab\n",
    "import numpy as np\n",
    "import scipy.sparse as sps\n",
    "import multiprocessing as mp\n",
    "import h5py\n",
    "import cooler\n",
    "import re\n",
    "import seaborn\n",
    "import scipy.spatial.distance as ds\n",
    "import time"
   ]
  },
  {
   "cell_type": "code",
   "execution_count": 2,
   "metadata": {
    "collapsed": true
   },
   "outputs": [],
   "source": [
    "# set paths\n",
    "genome = \"hg19\"\n",
    "celltype = \"bcells\"\n",
    "matfolder = \"filtered_matrices_mex\"\n",
    "clusterfolder = \"analysis_csv\"\n",
    "scrnaseq_dir = \"../scrnaseq_10x/\"\n",
    "\n",
    "bcell_matrix_dir = os.path.join(scrnaseq_dir,celltype,matfolder,genome)\n",
    "bcell_analysis_dir = os.path.join(scrnaseq_dir,celltype,clusterfolder)\n",
    "\n",
    "pca_dir = os.path.join(bcell_analysis_dir,\"pca\")\n",
    "tsne_dir = os.path.join(bcell_analysis_dir,\"tsne\")\n",
    "kmeans_dir = os.path.join(bcell_analysis_dir,\"kmeans\")"
   ]
  },
  {
   "cell_type": "code",
   "execution_count": 3,
   "metadata": {
    "collapsed": true
   },
   "outputs": [],
   "source": [
    "#set import functions\n",
    "\n",
    "def import_matrix_mtx_file(filename,aspd=False):\n",
    "    inmat = scipy.io.mmread(source=filename)\n",
    "    if (aspd==True):\n",
    "        return(pd.SparseDataFrame(inmat))\n",
    "    else:\n",
    "        return(inmat)"
   ]
  },
  {
   "cell_type": "code",
   "execution_count": 4,
   "metadata": {
    "collapsed": true
   },
   "outputs": [],
   "source": [
    "#import the file. Use multiprocessing to make this run smoother\n",
    "\n",
    "inmatrix = os.path.join(bcell_matrix_dir, \"matrix.mtx\")\n",
    "genes_path = os.path.join(bcell_matrix_dir, \"genes.tsv\")\n",
    "barcodes_path = os.path.join(bcell_matrix_dir, \"barcodes.tsv\")\n"
   ]
  },
  {
   "cell_type": "code",
   "execution_count": 5,
   "metadata": {
    "collapsed": true
   },
   "outputs": [],
   "source": [
    "#impor the matrix file\n",
    "mp_pool = mp.Pool(5)\n",
    "infile = mp_pool.map(import_matrix_mtx_file, [inmatrix])\n",
    "mp_pool.close()"
   ]
  },
  {
   "cell_type": "code",
   "execution_count": 6,
   "metadata": {},
   "outputs": [
    {
     "name": "stdout",
     "output_type": "stream",
     "text": [
      "(32738, 10085)\n",
      "<class 'scipy.sparse.coo.coo_matrix'>\n",
      "  (32732, 0)\t1.0\n",
      "  (32708, 0)\t2.0\n",
      "  (32705, 0)\t3.0\n",
      "  (32702, 0)\t12.0\n",
      "  (32699, 0)\t2.0\n",
      "  (32698, 0)\t17.0\n",
      "  (32697, 0)\t2.0\n",
      "  (32696, 0)\t9.0\n",
      "  (32645, 0)\t2.0\n",
      "  (32643, 0)\t1.0\n",
      "  (32641, 0)\t1.0\n",
      "  (32595, 0)\t1.0\n",
      "  (32502, 0)\t1.0\n",
      "  (32437, 0)\t1.0\n",
      "  (32416, 0)\t1.0\n",
      "  (32398, 0)\t1.0\n",
      "  (32187, 0)\t1.0\n",
      "  (32186, 0)\t1.0\n",
      "  (32132, 0)\t1.0\n",
      "  (32120, 0)\t1.0\n",
      "  (32105, 0)\t1.0\n",
      "  (32099, 0)\t1.0\n",
      "  (32067, 0)\t1.0\n",
      "  (32047, 0)\t1.0\n",
      "  (32045, 0)\t1.0\n",
      "  :\t:\n",
      "  (610, 10084)\t1.0\n",
      "  (607, 10084)\t1.0\n",
      "  (601, 10084)\t1.0\n",
      "  (594, 10084)\t1.0\n",
      "  (558, 10084)\t10.0\n",
      "  (556, 10084)\t1.0\n",
      "  (528, 10084)\t2.0\n",
      "  (525, 10084)\t1.0\n",
      "  (500, 10084)\t1.0\n",
      "  (492, 10084)\t40.0\n",
      "  (490, 10084)\t2.0\n",
      "  (484, 10084)\t1.0\n",
      "  (482, 10084)\t1.0\n",
      "  (457, 10084)\t1.0\n",
      "  (446, 10084)\t1.0\n",
      "  (412, 10084)\t2.0\n",
      "  (363, 10084)\t1.0\n",
      "  (316, 10084)\t1.0\n",
      "  (248, 10084)\t1.0\n",
      "  (201, 10084)\t1.0\n",
      "  (166, 10084)\t3.0\n",
      "  (120, 10084)\t1.0\n",
      "  (105, 10084)\t1.0\n",
      "  (67, 10084)\t2.0\n",
      "  (42, 10084)\t1.0\n"
     ]
    }
   ],
   "source": [
    "mat = infile[0]\n",
    "print(mat.shape)\n",
    "print(type(mat))\n",
    "print(mat)\n",
    "#rows are genes, columns are cells!"
   ]
  },
  {
   "cell_type": "markdown",
   "metadata": {
    "collapsed": true
   },
   "source": [
    "```\n",
    "#attempts at h5py\n",
    "\n",
    "#attempt to save as an h5py file\n",
    "\n",
    "#mat.to_hdf(os.path.join(bcell_matrix_dir, \"matrix.h5\"), 'sparse_df')\n",
    "\n",
    "# with h5py.File(os.path.join(bcell_matrix_dir, \"matrix.h5\"), 'w') as hf:\n",
    "#     hf.create_dataset(\"bcell_8k\",  data=mat)\n",
    "\n",
    "#filepath = os.path.join(bcell_matrix_dir, \"matrix.h5\")\n",
    "# filepath = os.path.join(bcell_matrix_dir, \"matrix.h5\")\n",
    "# print(filepath)\n",
    "# store1 = pd.HDFStore(os.path.join(bcell_matrix_dir, \"matrix.h5\"))\n",
    "\n",
    "\n",
    "# import h5py\n",
    "# h5 = h5py.File(filepath=\"../scrnaseq_10x/bcells/\", 'r')\n",
    "\n",
    "# import cooler\n",
    "# cooler.matrix()\n",
    "\n",
    "\n",
    "# #attempt to load\n",
    "# with h5py.File(os.path.join(bcell_matrix_dir, \"matrix.h5\"), 'r') as hf:\n",
    "#     indata = hf['bcell_8k'][:]\n",
    "```"
   ]
  },
  {
   "cell_type": "markdown",
   "metadata": {},
   "source": [
    "# Tiling the transcriptome\n",
    "\n",
    "Since we have over 32,000 genes, we would like to condense them into genomic tiles that would allow us to work with a smaller, sparser matrix. \n",
    "\n",
    "1. We will import the GTF, intersect it with 100-kb genomic tiles (giving us roughly 10,000 regions), and convert the matrix from a ~32,000 x 10,000 matrix to a ~10,000 x 10,000 matrix. \n",
    "2. The reads for genes in each bin for each cell will be summed up so that the \"transcriptional output\" of the bin can be compared with other bins. \n",
    "3. We will then calculate the correlation matrix for the cell-bin matrix such that we correlate the transcriptional outputs of bin 1 with bin 2. We then save this as a \"contact map\" of sorts and output it to a file\n",
    "4. We then convert the matrix into a Cooler file (using the 100-kb bins from earlier) and work it up in Ccooler or Hi-Glass"
   ]
  },
  {
   "cell_type": "code",
   "execution_count": 7,
   "metadata": {
    "collapsed": true
   },
   "outputs": [],
   "source": [
    "# load the gene IDs and names\n",
    "gene_ids = [row[0] for row in csv.reader(open(genes_path), delimiter=\"\\t\")]\n",
    "gene_names = [row[1] for row in csv.reader(open(genes_path), delimiter=\"\\t\")]"
   ]
  },
  {
   "cell_type": "code",
   "execution_count": 8,
   "metadata": {
    "collapsed": true
   },
   "outputs": [],
   "source": [
    "# load the barcode IDs\n",
    "barcodes = [row[0] for row in csv.reader(open(barcodes_path), delimiter=\"\\t\")]"
   ]
  },
  {
   "cell_type": "code",
   "execution_count": 9,
   "metadata": {
    "collapsed": true
   },
   "outputs": [],
   "source": [
    "genes_df = pd.DataFrame()\n",
    "genes_df = genes_df.assign(genename=pd.Series(gene_names),geneid=pd.Series(gene_ids))"
   ]
  },
  {
   "cell_type": "markdown",
   "metadata": {
    "collapsed": true
   },
   "source": [
    "for multi-core jobs\n",
    "https://stackoverflow.com/questions/33480675/multiprocessing-on-a-set-number-of-cores"
   ]
  },
  {
   "cell_type": "markdown",
   "metadata": {},
   "source": [
    "## Import ENSEMBL GTF"
   ]
  },
  {
   "cell_type": "code",
   "execution_count": 10,
   "metadata": {},
   "outputs": [
    {
     "name": "stderr",
     "output_type": "stream",
     "text": [
      "/Users/vinayakvsv/anaconda3/lib/python3.6/site-packages/IPython/core/interactiveshell.py:2698: DtypeWarning: Columns (0) have mixed types. Specify dtype option on import or set low_memory=False.\n",
      "  interactivity=interactivity, compiler=compiler, result=result)\n"
     ]
    }
   ],
   "source": [
    "#set ensembl file\n",
    "#scrnaseq_dir = \"../scrnaseq_10x/\"\n",
    "hg19gtf = \"../hg19ref/refdata-cellranger-hg19-1.2.0/genes/genes.gtf\"\n",
    "hg19gtf_dir = os.path.join(scrnaseq_dir,hg19gtf)\n",
    "\n",
    "hg19gtf_genes = pd.read_csv(hg19gtf,delimiter=\"\\t\",comment=\"#\",header=None)"
   ]
  },
  {
   "cell_type": "code",
   "execution_count": 11,
   "metadata": {
    "collapsed": true
   },
   "outputs": [],
   "source": [
    "hg19gtf_genes.columns = [\"chr\",\"database\",\"type\",\"start\",\"end\",\"other\",\"strand\",\"other2\",\"metadata\"]"
   ]
  },
  {
   "cell_type": "code",
   "execution_count": 12,
   "metadata": {
    "collapsed": true
   },
   "outputs": [],
   "source": [
    "metadata = hg19gtf_genes.metadata.apply(lambda x: re.split(r\"[a-zA-Z]+_[a-zA-Z]+ \\\"|\\\";\",x)[1])"
   ]
  },
  {
   "cell_type": "code",
   "execution_count": 13,
   "metadata": {},
   "outputs": [
    {
     "name": "stdout",
     "output_type": "stream",
     "text": [
      "(32738, 10)\n"
     ]
    }
   ],
   "source": [
    "hg19gtf_genes['gene_id'] = pd.Series(metadata)\n",
    "#hg19gtf_genes\n",
    "hg19gtf_genes_expression = hg19gtf_genes[hg19gtf_genes.gene_id.isin(gene_ids) & hg19gtf_genes.type.isin([\"gene\"])]\n",
    "print(hg19gtf_genes_expression.shape)"
   ]
  },
  {
   "cell_type": "markdown",
   "metadata": {},
   "source": [
    "# Visualization\n",
    "Let's view the cell clusters"
   ]
  },
  {
   "cell_type": "markdown",
   "metadata": {},
   "source": [
    "We now load T-SNE metadata for this population. We will show what the populations look like and then isolate the cells responsible to generate co-expression blocks"
   ]
  },
  {
   "cell_type": "code",
   "execution_count": null,
   "metadata": {
    "collapsed": true
   },
   "outputs": [],
   "source": [
    "#tsne_data = scipy.io.mmread(os.path.join(tsne_dir, \"projection.csv\")) \n",
    "tsne_data = os.path.join(tsne_dir, \"projection.csv\")\n",
    "tsne_points = [row for row in csv.reader(open(tsne_data), delimiter=\",\")]\n",
    "tsne_meta = pd.DataFrame(tsne_points[1:])\n",
    "tsne_meta.columns = tsne_points[0]"
   ]
  },
  {
   "cell_type": "code",
   "execution_count": null,
   "metadata": {},
   "outputs": [],
   "source": [
    "#import clustering\n",
    "cluster_10 = os.path.join(kmeans_dir,\"10_clusters\")\n",
    "print(cluster_10)\n",
    "#get the cluster designations\n",
    "cluster_10_ids = pd.read_csv(os.path.join(cluster_10,\"clusters.csv\"))\n",
    "#cluster_10_ids\n",
    "#kmeans_10 = os.path.join(pca_dir,\"10_clusters\") "
   ]
  },
  {
   "cell_type": "code",
   "execution_count": null,
   "metadata": {
    "scrolled": false
   },
   "outputs": [],
   "source": [
    "plt.figure(figsize=(10, 10))\n",
    "plt.scatter(tsne_meta.iloc[:,1],tsne_meta.iloc[:,2],c = cluster_10_ids.iloc[:,1])\n",
    "\n",
    "xlist = tsne_meta.iloc[:,1].tolist()\n",
    "ylist = tsne_meta.iloc[:,2].tolist()\n",
    "\n",
    "plt.xticks([float(min(xlist))-1, float(max(xlist))+1])\n",
    "plt.yticks([float(min(ylist))-1, float(max(ylist))+1])\n",
    "\n",
    "# plt.xticks(tsne_meta.iloc[:,1].tolist())\n",
    "# plt.yticks(tsne_meta.iloc[:,2].tolist())\n",
    "\n",
    "# plt.xticks(np.arange(float(min(xlist))-1, float(max(xlist))+1,0.01))\n",
    "# plt.yticks(np.arange(float(min(ylist))-1, float(min(ylist))+1,0.01))\n",
    "\n",
    "plt.show()"
   ]
  },
  {
   "cell_type": "code",
   "execution_count": null,
   "metadata": {},
   "outputs": [],
   "source": [
    "xlist = tsne_meta.iloc[:,1].tolist()\n",
    "ylist = tsne_meta.iloc[:,2].tolist()\n",
    "\n",
    "xticks = [float(min(xlist))-1, float(max(xlist))+1]\n",
    "yticks = [float(min(ylist))-1, float(max(ylist))+1]\n",
    "\n",
    "fig, ax = plt.subplots()\n",
    "plt.scatter(tsne_meta.iloc[:,1],tsne_meta.iloc[:,2],c = cluster_10_ids.iloc[:,1])\n",
    "plt.title(\"T-SNE Representation of ~10K Human B-cells\")\n",
    "\n",
    "ylims = ax.get_ylim()\n",
    "# ylims = tuple([( float(format(j, '.2f'))) for j in ylims])\n",
    "# print(ylims)\n",
    "\n",
    "ax.set_yticks(ylims)\n",
    "\n",
    "xlims = ax.get_xlim()\n",
    "ax.set_xticks(xlims)\n",
    "\n",
    "plt.show()\n"
   ]
  },
  {
   "cell_type": "markdown",
   "metadata": {},
   "source": [
    "# Isolating co-expression domains\n",
    "\n",
    "Rather than solving a \"clustering\" problem, we would like to identify contiguous blocks along the diagonal where \"squares\" exist. This is essentially a Hi-C problem (to call TADs), and we can involve \"cooltools\" to do so.\n",
    "\n",
    "We could think of the problem \"algorithmically\" as such: Given n points and n^2 relationships to each other, how can we identify m groupings such that the total signal within the...\n",
    "\n",
    "\n",
    "The counts are rather sparse for a given set of cells. Most of the genes have 0 counts across all of the cells. See below"
   ]
  },
  {
   "cell_type": "code",
   "execution_count": 53,
   "metadata": {},
   "outputs": [
    {
     "data": {
      "image/png": "[encoded data removed]",
      "text/plain": [
       "<matplotlib.figure.Figure at 0x1a0c2eef60>"
      ]
     },
     "metadata": {},
     "output_type": "display_data"
    }
   ],
   "source": [
    "plt.hist(np.log10(np.sum(mat,axis=1)+1),bins=50,density=True)\n",
    "plt.xlabel(s=\"log10(total counts across cells + 1)\")\n",
    "plt.ylabel(s=\"density\")\n",
    "plt.title(\"Distribution of reads mapping to %d genes\\nacross all %d human B-cells\"%(mat.shape[0],mat.shape[1]))\n",
    "plt.show()"
   ]
  },
  {
   "cell_type": "markdown",
   "metadata": {},
   "source": [
    "## Remove zero-sum genes"
   ]
  },
  {
   "cell_type": "markdown",
   "metadata": {},
   "source": [
    "First, we will remove genes from the matrix that have zero-sum across all of the cells (since such genes have an \"indeterminate\" status across the cells"
   ]
  },
  {
   "cell_type": "markdown",
   "metadata": {},
   "source": [
    "## Functions for computing pairwise correlations"
   ]
  },
  {
   "cell_type": "markdown",
   "metadata": {},
   "source": [
    "Now, we compute the pairwise correlation of genes"
   ]
  },
  {
   "cell_type": "code",
   "execution_count": 54,
   "metadata": {
    "collapsed": true
   },
   "outputs": [],
   "source": [
    "def filter_genes(inmat,ingenes):\n",
    "    #first, remove genes that have zero sums all throughout the cells\n",
    "    mat1_sumxcells = np.sum(inmat,axis=1)\n",
    "    zerogenes_ind = np.where(mat1_sumxcells == mat1_sumxcells.min())[0].tolist()\n",
    "    nonzerogenes_ind = np.where(mat1_sumxcells != mat1_sumxcells.min())[0].tolist()\n",
    "\n",
    "#     mask = ingenes.index.isin(zerogenes_ind)\n",
    "#     nonzero_genes = genes_df[~mask]\n",
    "\n",
    "    mask = ingenes.index.isin(nonzerogenes_ind)\n",
    "    nonzero_genes = genes_df[mask]\n",
    "    \n",
    "    return(nonzero_genes)\n",
    "\n",
    "# print(genes_df.shape)\n",
    "# print(mat.shape)\n",
    "\n",
    "def calculate_correlation_matrices(ingenes,inmat=mat):\n",
    "    #first, remove genes that have zero sums all throughout the cells\n",
    "    mat1_sumxcells = np.sum(inmat,axis=1)\n",
    "    nonzerogenes_ind = np.where(mat1_sumxcells != mat1_sumxcells.min())[0].tolist()\n",
    "\n",
    "    mask = ingenes.index.isin(nonzerogenes_ind)\n",
    "#     nonzero_genes = genes_df[~mask]\n",
    "    nonzero_genes = genes_df[mask]\n",
    "    \n",
    "    mat1_nonzerogenes = inmat.todense()[nonzerogenes_ind,:]\n",
    "    mat1_nonzerogenes_corr = np.corrcoef(mat1_nonzerogenes)\n",
    "    \n",
    "    return(mat1_nonzerogenes_corr)"
   ]
  },
  {
   "cell_type": "markdown",
   "metadata": {},
   "source": [
    "## Correlation for all cells"
   ]
  },
  {
   "cell_type": "code",
   "execution_count": 60,
   "metadata": {},
   "outputs": [
    {
     "name": "stdout",
     "output_type": "stream",
     "text": [
      "(15858, 2)\n"
     ]
    }
   ],
   "source": [
    "# inputmats = [(mat,genes_df)] # for i in cellgroups_keep]\n",
    "\n",
    "\n",
    "# mp_pool = mp.Pool(4)\n",
    "# filtgenes = mp_pool.starmap(filter_genes,inputmats)\n",
    "# cormats = mp_pool.starmap(calculate_correlation_matrices,inputmats)\n",
    "# mp_pool.close()\n",
    "\n",
    "filtgenes = filter_genes(inmat=mat,ingenes=genes_df)\n",
    "# cormat = calculate_correlation_matrices(ingenes=genes_df,inmat=mat)\n",
    "print(filtgenes.shape)\n",
    "# mat"
   ]
  },
  {
   "cell_type": "code",
   "execution_count": 55,
   "metadata": {},
   "outputs": [],
   "source": [
    "mp_pool = mp.Pool(5)\n",
    "# cormat = mp_pool.starmap(calculate_correlation_matrices,[genes_df,mat])\n",
    "cormat_nonzerogenes = mp_pool.map(calculate_correlation_matrices,[genes_df])\n",
    "mp_pool.close()"
   ]
  },
  {
   "cell_type": "code",
   "execution_count": 56,
   "metadata": {},
   "outputs": [],
   "source": [
    "cormat = cormat_nonzerogenes[0]"
   ]
  },
  {
   "cell_type": "code",
   "execution_count": 57,
   "metadata": {},
   "outputs": [
    {
     "name": "stdout",
     "output_type": "stream",
     "text": [
      "(15858, 15858)\n",
      "[[  1.00000000e+00  -9.91669972e-05  -4.09200767e-04 ...,  -2.80584028e-04\n",
      "   -1.53193196e-03  -1.61944429e-03]\n",
      " [ -9.91669972e-05   1.00000000e+00  -4.09200767e-04 ...,  -2.80584028e-04\n",
      "   -1.53193196e-03  -1.61944429e-03]\n",
      " [ -4.09200767e-04  -4.09200767e-04   1.00000000e+00 ...,  -1.15779647e-03\n",
      "   -6.32133422e-03   2.09430707e-02]\n",
      " ..., \n",
      " [ -2.80584028e-04  -2.80584028e-04  -1.15779647e-03 ...,   1.00000000e+00\n",
      "   -4.33446260e-03  -4.58207079e-03]\n",
      " [ -1.53193196e-03  -1.53193196e-03  -6.32133422e-03 ...,  -4.33446260e-03\n",
      "    1.00000000e+00   7.30167674e-04]\n",
      " [ -1.61944429e-03  -1.61944429e-03   2.09430707e-02 ...,  -4.58207079e-03\n",
      "    7.30167674e-04   1.00000000e+00]]\n"
     ]
    }
   ],
   "source": [
    "print(cormat.shape)\n",
    "print(cormat)"
   ]
  },
  {
   "cell_type": "markdown",
   "metadata": {},
   "source": [
    "We'll use this matrix"
   ]
  },
  {
   "cell_type": "code",
   "execution_count": 58,
   "metadata": {},
   "outputs": [
    {
     "data": {
      "image/png": "[encoded data removed]",
      "text/plain": [
       "<matplotlib.figure.Figure at 0x1a0d942f28>"
      ]
     },
     "metadata": {},
     "output_type": "display_data"
    }
   ],
   "source": [
    "seaborn.heatmap(cormat[1600:1700,1600:1700])\n",
    "plt.xticks([])\n",
    "plt.yticks([])\n",
    "plt.show()"
   ]
  },
  {
   "cell_type": "markdown",
   "metadata": {},
   "source": [
    "## Map entries onto genomic intervals"
   ]
  },
  {
   "cell_type": "markdown",
   "metadata": {},
   "source": [
    "Now, we want to convert the correlation matrix to a \"list of contacts\" so that we can work with it as a cooler file. "
   ]
  },
  {
   "cell_type": "markdown",
   "metadata": {},
   "source": [
    "### Isolate the GTF genes that are used"
   ]
  },
  {
   "cell_type": "code",
   "execution_count": 61,
   "metadata": {},
   "outputs": [],
   "source": [
    "hg19gtf_genes_filt = hg19gtf_genes[hg19gtf_genes.gene_id.isin(filtgenes.geneid) & hg19gtf_genes.type.isin([\"gene\"])]\n",
    "#filtgenes"
   ]
  },
  {
   "cell_type": "code",
   "execution_count": 62,
   "metadata": {
    "collapsed": true
   },
   "outputs": [],
   "source": [
    "#re-index the filtgenes to match the indexing of the cormat\n",
    "filtgenes.index = range(cormat.shape[0])\n",
    "\n",
    "#re-inded the hg19gtf as well\n",
    "hg19gtf_genes_filt.index =  range(cormat.shape[0])\n",
    "\n",
    "#print(filtgenes.shape)\n",
    "#print(cormat.shape)\n",
    "#hg19gtf_genes_filt"
   ]
  },
  {
   "cell_type": "code",
   "execution_count": 63,
   "metadata": {},
   "outputs": [
    {
     "data": {
      "text/plain": [
       "(15858, 10)"
      ]
     },
     "execution_count": 63,
     "metadata": {},
     "output_type": "execute_result"
    }
   ],
   "source": [
    "hg19gtf_genes_filt.shape"
   ]
  },
  {
   "cell_type": "markdown",
   "metadata": {},
   "source": [
    "### Get the pair-wise listing of intervals and the correlation"
   ]
  },
  {
   "cell_type": "code",
   "execution_count": null,
   "metadata": {},
   "outputs": [],
   "source": [
    "#test\n",
    "\n",
    "a = []\n",
    "for i in hg19gtf_genes_filt.index[0:100]:\n",
    "    for j in hg19gtf_genes_filt.index[0:100]:\n",
    "        gene1 = hg19gtf_genes_filt.iloc[i,[0,3,6]].tolist()\n",
    "#         gene1 = hg19gtf_genes_filt.iloc[i,[0,3,4,6]].tolist()\n",
    "        gene2 = hg19gtf_genes_filt.iloc[j,[0,3,6]].tolist()\n",
    "#         gene2 = hg19gtf_genes_filt.iloc[j,[0,3,4,6]].tolist()\n",
    "        gene1[0] = \"chr\"+str(gene1[0])\n",
    "        gene2[0] = \"chr\"+str(gene2[0])\n",
    "        corscore = cormat[i,j]\n",
    "        outline = [str(n) for n in gene1+gene2+[corscore]]\n",
    "        a.append(\"\\t\".join(outline)+\"\\n\")\n",
    "\n",
    "# for i in range(len(hg19gtf_genes_filt.index[0:5])):\n",
    "#     for j in range(len(hg19gtf_genes_filt.index[0:5])):\n",
    "#         gene1 = hg19gtf_genes_filt.iloc[i,[0,3,4,6]].tolist()\n",
    "#         gene2 = hg19gtf_genes_filt.iloc[j,[0,3,4,6]].tolist()\n",
    "#         gene1[0] = \"chr\"+str(gene1[0])\n",
    "#         gene2[0] = \"chr\"+str(gene2[0])\n",
    "#         corscore = cormat.todense()[i,j]\n",
    "#         outline = [str(n) for n in gene1+gene2+[corscore]]\n",
    "#         print(\"\\t\".join(outline))"
   ]
  },
  {
   "cell_type": "code",
   "execution_count": 64,
   "metadata": {},
   "outputs": [],
   "source": [
    "def create_coexp_pairmap (inds):\n",
    "    a = []\n",
    "    startind = inds[0]\n",
    "    endind = inds[1]\n",
    "    \n",
    "    for i in hg19gtf_genes_filt.index[startind:endind]:\n",
    "        for j in hg19gtf_genes_filt.index[startind:endind]:\n",
    "            gene1 = hg19gtf_genes_filt.iloc[i,[0,3,6]].tolist()\n",
    "    #         gene1 = hg19gtf_genes_filt.iloc[i,[0,3,4,6]].tolist()\n",
    "            gene2 = hg19gtf_genes_filt.iloc[j,[0,3,6]].tolist()\n",
    "    #         gene2 = hg19gtf_genes_filt.iloc[j,[0,3,4,6]].tolist()\n",
    "            gene1[0] = \"chr\"+str(gene1[0])\n",
    "            gene2[0] = \"chr\"+str(gene2[0])\n",
    "            corscore = cormat[i,j]\n",
    "            outline = [str(n) for n in gene1+gene2+[corscore]]\n",
    "            a.append(\"\\t\".join(outline)+\"\\n\")\n",
    "    return(a)"
   ]
  },
  {
   "cell_type": "code",
   "execution_count": 65,
   "metadata": {
    "collapsed": true
   },
   "outputs": [],
   "source": [
    "def create_coexp_pairmap_chunks (genelist):\n",
    "    a = []\n",
    "    for i in genelist.index:\n",
    "        for j in genelist.index:\n",
    "            print(i,j)\n",
    "            gene1 = genelist.iloc[i,[0,3,6]].tolist()\n",
    "            gene2 = genelist.iloc[j,[0,3,6]].tolist()\n",
    "\n",
    "            gene1[0] = \"chr\"+str(gene1[0])\n",
    "            gene2[0] = \"chr\"+str(gene2[0])\n",
    "            \n",
    "            corscore = cormat[i,j]\n",
    "            \n",
    "            outline = [str(n) for n in gene1+gene2+[corscore]]\n",
    "            \n",
    "            a.append(\"\\t\".join(outline)+\"\\n\")\n",
    "    return(a)"
   ]
  },
  {
   "cell_type": "code",
   "execution_count": null,
   "metadata": {},
   "outputs": [],
   "source": [
    "# print(hg19gtf_genes_filt.shape)"
   ]
  },
  {
   "cell_type": "code",
   "execution_count": 96,
   "metadata": {},
   "outputs": [
    {
     "name": "stdout",
     "output_type": "stream",
     "text": [
      "[     chr        database  type     start       end other strand other2  \\\n",
      "0      1          havana  gene     89295    133566     .      -      .   \n",
      "1      1          havana  gene     89551     91105     .      -      .   \n",
      "2      1         ensembl  gene    134901    139379     .      -      .   \n",
      "3      1          havana  gene    227615    267253     .      -      .   \n",
      "4      1          havana  gene    700237    714006     .      -      .   \n",
      "5      1  ensembl_havana  gene    714150    745440     .      +      .   \n",
      "6      1  ensembl_havana  gene    761586    762902     .      -      .   \n",
      "7      1  ensembl_havana  gene    803451    812283     .      -      .   \n",
      "8      1  ensembl_havana  gene    860260    879955     .      +      .   \n",
      "9      1  ensembl_havana  gene    879584    894689     .      -      .   \n",
      "10     1  ensembl_havana  gene    895967    901095     .      +      .   \n",
      "11     1  ensembl_havana  gene    901877    911245     .      +      .   \n",
      "12     1  ensembl_havana  gene    934342    935552     .      -      .   \n",
      "13     1          havana  gene    947377    948573     .      -      .   \n",
      "14     1  ensembl_havana  gene    948803    949920     .      +      .   \n",
      "15     1  ensembl_havana  gene    955503    991496     .      +      .   \n",
      "16     1  ensembl_havana  gene   1006346   1009687     .      -      .   \n",
      "17     1  ensembl_havana  gene   1017198   1051741     .      -      .   \n",
      "18     1          havana  gene   1072397   1079436     .      +      .   \n",
      "19     1  ensembl_havana  gene   1109264   1133315     .      +      .   \n",
      "20     1  ensembl_havana  gene   1138888   1142071     .      -      .   \n",
      "21     1  ensembl_havana  gene   1146706   1149518     .      -      .   \n",
      "22     1  ensembl_havana  gene   1152288   1167411     .      -      .   \n",
      "23     1  ensembl_havana  gene   1167629   1170421     .      +      .   \n",
      "24     1  ensembl_havana  gene   1177826   1182102     .      -      .   \n",
      "25     1          havana  gene   1185157   1186714     .      -      .   \n",
      "26     1  ensembl_havana  gene   1189289   1209265     .      -      .   \n",
      "27     1  ensembl_havana  gene   1215816   1227409     .      +      .   \n",
      "28     1  ensembl_havana  gene   1227756   1244989     .      -      .   \n",
      "29     1  ensembl_havana  gene   1243947   1247057     .      +      .   \n",
      "...   ..             ...   ...       ...       ...   ...    ...    ...   \n",
      "1970   2  ensembl_havana  gene  68405989  68483369     .      -      .   \n",
      "1971   2          havana  gene  68406965  68407664     .      +      .   \n",
      "1972   2          havana  gene  68480002  68480980     .      +      .   \n",
      "1973   2          havana  gene  68588346  68592716     .      -      .   \n",
      "1974   2  ensembl_havana  gene  68592305  68624585     .      +      .   \n",
      "1975   2  ensembl_havana  gene  68686551  68694390     .      -      .   \n",
      "1976   2  ensembl_havana  gene  68694693  68858004     .      +      .   \n",
      "1977   2  ensembl_havana  gene  68906733  69053965     .      +      .   \n",
      "1978   2  ensembl_havana  gene  69546905  69614382     .      -      .   \n",
      "1979   2  ensembl_havana  gene  69622882  69664760     .      -      .   \n",
      "1980   2  ensembl_havana  gene  69685129  69693664     .      -      .   \n",
      "1981   2  ensembl_havana  gene  69688532  69901481     .      -      .   \n",
      "1982   2  ensembl_havana  gene  69871557  70053596     .      +      .   \n",
      "1983   2  ensembl_havana  gene  70056774  70108528     .      +      .   \n",
      "1984   2  ensembl_havana  gene  70120692  70132707     .      +      .   \n",
      "1985   2  ensembl_havana  gene  70124820  70170077     .      +      .   \n",
      "1986   2  ensembl_havana  gene  70187226  70189397     .      -      .   \n",
      "1987   2          havana  gene  70189395  70315978     .      -      .   \n",
      "1988   2  ensembl_havana  gene  70314585  70316332     .      +      .   \n",
      "1989   2          havana  gene  70351168  70352449     .      -      .   \n",
      "1990   2  ensembl_havana  gene  70377012  70475747     .      -      .   \n",
      "1991   2  ensembl_havana  gene  70436576  70475792     .      -      .   \n",
      "1992   2  ensembl_havana  gene  70484518  70508323     .      +      .   \n",
      "1993   2  ensembl_havana  gene  70508494  70520903     .      -      .   \n",
      "1994   2  ensembl_havana  gene  70523107  70529222     .      -      .   \n",
      "1995   2          havana  gene  70528583  70529204     .      +      .   \n",
      "1996   2  ensembl_havana  gene  70834750  70995357     .      -      .   \n",
      "1997   2  ensembl_havana  gene  71205510  71212626     .      +      .   \n",
      "1998   2  ensembl_havana  gene  71213068  71222075     .      -      .   \n",
      "1999   2  ensembl_havana  gene  71291474  71306935     .      +      .   \n",
      "\n",
      "                                               metadata          gene_id  \n",
      "0     gene_id \"ENSG00000238009\"; gene_version \"2\"; g...  ENSG00000238009  \n",
      "1     gene_id \"ENSG00000239945\"; gene_version \"1\"; g...  ENSG00000239945  \n",
      "2     gene_id \"ENSG00000237683\"; gene_version \"5\"; g...  ENSG00000237683  \n",
      "3     gene_id \"ENSG00000228463\"; gene_version \"4\"; g...  ENSG00000228463  \n",
      "4     gene_id \"ENSG00000228327\"; gene_version \"2\"; g...  ENSG00000228327  \n",
      "5     gene_id \"ENSG00000237491\"; gene_version \"4\"; g...  ENSG00000237491  \n",
      "6     gene_id \"ENSG00000225880\"; gene_version \"4\"; g...  ENSG00000225880  \n",
      "7     gene_id \"ENSG00000230368\"; gene_version \"2\"; g...  ENSG00000230368  \n",
      "8     gene_id \"ENSG00000187634\"; gene_version \"6\"; g...  ENSG00000187634  \n",
      "9     gene_id \"ENSG00000188976\"; gene_version \"6\"; g...  ENSG00000188976  \n",
      "10    gene_id \"ENSG00000187961\"; gene_version \"9\"; g...  ENSG00000187961  \n",
      "11    gene_id \"ENSG00000187583\"; gene_version \"6\"; g...  ENSG00000187583  \n",
      "12    gene_id \"ENSG00000188290\"; gene_version \"6\"; g...  ENSG00000188290  \n",
      "13    gene_id \"ENSG00000224969\"; gene_version \"1\"; g...  ENSG00000224969  \n",
      "14    gene_id \"ENSG00000187608\"; gene_version \"5\"; g...  ENSG00000187608  \n",
      "15    gene_id \"ENSG00000188157\"; gene_version \"9\"; g...  ENSG00000188157  \n",
      "16    gene_id \"ENSG00000237330\"; gene_version \"2\"; g...  ENSG00000237330  \n",
      "17    gene_id \"ENSG00000131591\"; gene_version \"13\"; ...  ENSG00000131591  \n",
      "18    gene_id \"ENSG00000223823\"; gene_version \"1\"; g...  ENSG00000223823  \n",
      "19    gene_id \"ENSG00000162571\"; gene_version \"9\"; g...  ENSG00000162571  \n",
      "20    gene_id \"ENSG00000186891\"; gene_version \"9\"; g...  ENSG00000186891  \n",
      "21    gene_id \"ENSG00000186827\"; gene_version \"6\"; g...  ENSG00000186827  \n",
      "22    gene_id \"ENSG00000078808\"; gene_version \"12\"; ...  ENSG00000078808  \n",
      "23    gene_id \"ENSG00000176022\"; gene_version \"3\"; g...  ENSG00000176022  \n",
      "24    gene_id \"ENSG00000184163\"; gene_version \"3\"; g...  ENSG00000184163  \n",
      "25    gene_id \"ENSG00000260179\"; gene_version \"1\"; g...  ENSG00000260179  \n",
      "26    gene_id \"ENSG00000160087\"; gene_version \"16\"; ...  ENSG00000160087  \n",
      "27    gene_id \"ENSG00000162572\"; gene_version \"15\"; ...  ENSG00000162572  \n",
      "28    gene_id \"ENSG00000131584\"; gene_version \"14\"; ...  ENSG00000131584  \n",
      "29    gene_id \"ENSG00000169972\"; gene_version \"7\"; g...  ENSG00000169972  \n",
      "...                                                 ...              ...  \n",
      "1970  gene_id \"ENSG00000221823\"; gene_version \"6\"; g...  ENSG00000221823  \n",
      "1971  gene_id \"ENSG00000273275\"; gene_version \"1\"; g...  ENSG00000273275  \n",
      "1972  gene_id \"ENSG00000273064\"; gene_version \"1\"; g...  ENSG00000273064  \n",
      "1973  gene_id \"ENSG00000203395\"; gene_version \"2\"; g...  ENSG00000203395  \n",
      "1974  gene_id \"ENSG00000115956\"; gene_version \"9\"; g...  ENSG00000115956  \n",
      "1975  gene_id \"ENSG00000204923\"; gene_version \"3\"; g...  ENSG00000204923  \n",
      "1976  gene_id \"ENSG00000169621\"; gene_version \"5\"; g...  ENSG00000169621  \n",
      "1977  gene_id \"ENSG00000163219\"; gene_version \"7\"; g...  ENSG00000163219  \n",
      "1978  gene_id \"ENSG00000198380\"; gene_version \"8\"; g...  ENSG00000198380  \n",
      "1979  gene_id \"ENSG00000169599\"; gene_version \"8\"; g...  ENSG00000169599  \n",
      "1980  gene_id \"ENSG00000188971\"; gene_version \"4\"; g...  ENSG00000188971  \n",
      "1981  gene_id \"ENSG00000115977\"; gene_version \"14\"; ...  ENSG00000115977  \n",
      "1982  gene_id \"ENSG00000196975\"; gene_version \"10\"; ...  ENSG00000196975  \n",
      "1983  gene_id \"ENSG00000087338\"; gene_version \"4\"; g...  ENSG00000087338  \n",
      "1984  gene_id \"ENSG00000124380\"; gene_version \"6\"; g...  ENSG00000124380  \n",
      "1985  gene_id \"ENSG00000059728\"; gene_version \"6\"; g...  ENSG00000059728  \n",
      "1986  gene_id \"ENSG00000244617\"; gene_version \"1\"; g...  ENSG00000244617  \n",
      "1987  gene_id \"ENSG00000179818\"; gene_version \"9\"; g...  ENSG00000179818  \n",
      "1988  gene_id \"ENSG00000169564\"; gene_version \"5\"; g...  ENSG00000169564  \n",
      "1989  gene_id \"ENSG00000231327\"; gene_version \"1\"; g...  ENSG00000231327  \n",
      "1990  gene_id \"ENSG00000115998\"; gene_version \"3\"; g...  ENSG00000115998  \n",
      "1991  gene_id \"ENSG00000116001\"; gene_version \"11\"; ...  ENSG00000116001  \n",
      "1992  gene_id \"ENSG00000116005\"; gene_version \"7\"; g...  ENSG00000116005  \n",
      "1993  gene_id \"ENSG00000143977\"; gene_version \"9\"; g...  ENSG00000143977  \n",
      "1994  gene_id \"ENSG00000035141\"; gene_version \"3\"; g...  ENSG00000035141  \n",
      "1995  gene_id \"ENSG00000233849\"; gene_version \"1\"; g...  ENSG00000233849  \n",
      "1996  gene_id \"ENSG00000075340\"; gene_version \"18\"; ...  ENSG00000075340  \n",
      "1997  gene_id \"ENSG00000144031\"; gene_version \"7\"; g...  ENSG00000144031  \n",
      "1998  gene_id \"ENSG00000144043\"; gene_version \"7\"; g...  ENSG00000144043  \n",
      "1999  gene_id \"ENSG00000124357\"; gene_version \"8\"; g...  ENSG00000124357  \n",
      "\n",
      "[2000 rows x 10 columns],      chr        database  type      start        end other strand other2  \\\n",
      "2000   2          havana  gene   71294649   71295255     .      -      .   \n",
      "2001   2  ensembl_havana  gene   71336814   71357369     .      -      .   \n",
      "2002   2  ensembl_havana  gene   71357444   71377231     .      +      .   \n",
      "2003   2  ensembl_havana  gene   71409869   71454213     .      -      .   \n",
      "2004   2  ensembl_havana  gene   71503691   71662199     .      +      .   \n",
      "2005   2  ensembl_havana  gene   71680852   71913898     .      +      .   \n",
      "2006   2  ensembl_havana  gene   72403113   73053170     .      -      .   \n",
      "2007   2  ensembl_havana  gene   73169165   73302747     .      -      .   \n",
      "2008   2  ensembl_havana  gene   73300510   73383849     .      -      .   \n",
      "2009   2  ensembl_havana  gene   73441350   73454365     .      +      .   \n",
      "2010   2  ensembl_havana  gene   73455134   73460366     .      -      .   \n",
      "2011   2  ensembl_havana  gene   73460548   73480149     .      +      .   \n",
      "2012   2  ensembl_havana  gene   73481810   73511559     .      -      .   \n",
      "2013   2  ensembl_havana  gene   73612886   73837920     .      +      .   \n",
      "2014   2  ensembl_havana  gene   73956231   73964527     .      -      .   \n",
      "2015   2          havana  gene   73977383   73977913     .      -      .   \n",
      "2016   2  ensembl_havana  gene   73989311   74007284     .      -      .   \n",
      "2017   2  ensembl_havana  gene   74056086   74100786     .      +      .   \n",
      "2018   2  ensembl_havana  gene   74153953   74186088     .      +      .   \n",
      "2019   2          havana  gene   74174769   74208568     .      -      .   \n",
      "2020   2          havana  gene   74213653   74220867     .      +      .   \n",
      "2021   2  ensembl_havana  gene   74229840   74335303     .      +      .   \n",
      "2022   2  ensembl_havana  gene   74362525   74375121     .      -      .   \n",
      "2023   2          havana  gene   74375136   74377188     .      +      .   \n",
      "2024   2  ensembl_havana  gene   74379655   74406025     .      -      .   \n",
      "2025   2  ensembl_havana  gene   74425689   74444692     .      +      .   \n",
      "2026   2          havana  gene   74438731   74590504     .      -      .   \n",
      "2027   2  ensembl_havana  gene   74443369   74570541     .      -      .   \n",
      "2028   2  ensembl_havana  gene   74588281   74619214     .      -      .   \n",
      "2029   2          havana  gene   74612613   74621009     .      +      .   \n",
      "...   ..             ...   ...        ...        ...   ...    ...    ...   \n",
      "3970   4  ensembl_havana  gene  109571740  109588976     .      +      .   \n",
      "3971   4          havana  gene  110268631  110354973     .      -      .   \n",
      "3972   4  ensembl_havana  gene  110354928  110462052     .      +      .   \n",
      "3973   4  ensembl_havana  gene  110481361  110609874     .      +      .   \n",
      "3974   4  ensembl_havana  gene  110609785  110624739     .      -      .   \n",
      "3975   4          havana  gene  110613160  110613859     .      +      .   \n",
      "3976   4  ensembl_havana  gene  110631145  110651233     .      -      .   \n",
      "3977   4          havana  gene  110736203  110736566     .      -      .   \n",
      "3978   4  ensembl_havana  gene  110736666  110745893     .      +      .   \n",
      "3979   4  ensembl_havana  gene  113066553  113116412     .      +      .   \n",
      "3980   4          havana  gene  113150717  113152752     .      -      .   \n",
      "3981   4  ensembl_havana  gene  113152893  113191203     .      +      .   \n",
      "3982   4          havana  gene  113194124  113194472     .      -      .   \n",
      "3983   4  ensembl_havana  gene  113195698  113207059     .      -      .   \n",
      "3984   4  ensembl_havana  gene  113206665  113363776     .      +      .   \n",
      "3985   4          havana  gene  113436541  113468037     .      +      .   \n",
      "3986   4  ensembl_havana  gene  113460492  113558151     .      -      .   \n",
      "3987   4  ensembl_havana  gene  113558120  113578748     .      +      .   \n",
      "3988   4  ensembl_havana  gene  113567632  113571207     .      -      .   \n",
      "3989   4          havana  gene  113614203  113627966     .      -      .   \n",
      "3990   4  ensembl_havana  gene  114372188  114683083     .      -      .   \n",
      "3991   4  ensembl_havana  gene  115519611  115599380     .      +      .   \n",
      "3992   4  ensembl_havana  gene  118954773  119179803     .      +      .   \n",
      "3993   4  ensembl_havana  gene  119199864  119200978     .      +      .   \n",
      "3994   4          havana  gene  119512928  119554884     .      +      .   \n",
      "3995   4  ensembl_havana  gene  119606523  119636588     .      +      .   \n",
      "3996   4  ensembl_havana  gene  119643978  119759838     .      -      .   \n",
      "3997   4          havana  gene  119990479  119991452     .      -      .   \n",
      "3998   4  ensembl_havana  gene  120133742  120216672     .      +      .   \n",
      "3999   4  ensembl_havana  gene  120218207  120225600     .      -      .   \n",
      "\n",
      "                                               metadata          gene_id  \n",
      "2000  gene_id \"ENSG00000272735\"; gene_version \"1\"; g...  ENSG00000272735  \n",
      "2001  gene_id \"ENSG00000124370\"; gene_version \"6\"; g...  ENSG00000124370  \n",
      "2002  gene_id \"ENSG00000124383\"; gene_version \"4\"; g...  ENSG00000124383  \n",
      "2003  gene_id \"ENSG00000124374\"; gene_version \"8\"; g...  ENSG00000124374  \n",
      "2004  gene_id \"ENSG00000075292\"; gene_version \"14\"; ...  ENSG00000075292  \n",
      "2005  gene_id \"ENSG00000135636\"; gene_version \"9\"; g...  ENSG00000135636  \n",
      "2006  gene_id \"ENSG00000144036\"; gene_version \"10\"; ...  ENSG00000144036  \n",
      "2007  gene_id \"ENSG00000144040\"; gene_version \"8\"; g...  ENSG00000144040  \n",
      "2008  gene_id \"ENSG00000135631\"; gene_version \"11\"; ...  ENSG00000135631  \n",
      "2009  gene_id \"ENSG00000135632\"; gene_version \"7\"; g...  ENSG00000135632  \n",
      "2010  gene_id \"ENSG00000135617\"; gene_version \"3\"; g...  ENSG00000135617  \n",
      "2011  gene_id \"ENSG00000135624\"; gene_version \"11\"; ...  ENSG00000135624  \n",
      "2012  gene_id \"ENSG00000163013\"; gene_version \"7\"; g...  ENSG00000163013  \n",
      "2013  gene_id \"ENSG00000116127\"; gene_version \"13\"; ...  ENSG00000116127  \n",
      "2014  gene_id \"ENSG00000144034\"; gene_version \"10\"; ...  ENSG00000144034  \n",
      "2015  gene_id \"ENSG00000273245\"; gene_version \"1\"; g...  ENSG00000273245  \n",
      "2016  gene_id \"ENSG00000144048\"; gene_version \"6\"; g...  ENSG00000144048  \n",
      "2017  gene_id \"ENSG00000124356\"; gene_version \"11\"; ...  ENSG00000124356  \n",
      "2018  gene_id \"ENSG00000114956\"; gene_version \"15\"; ...  ENSG00000114956  \n",
      "2019  gene_id \"ENSG00000237883\"; gene_version \"1\"; g...  ENSG00000237883  \n",
      "2020  gene_id \"ENSG00000255989\"; gene_version \"1\"; g...  ENSG00000255989  \n",
      "2021  gene_id \"ENSG00000187605\"; gene_version \"11\"; ...  ENSG00000187605  \n",
      "2022  gene_id \"ENSG00000163170\"; gene_version \"7\"; g...  ENSG00000163170  \n",
      "2023  gene_id \"ENSG00000225439\"; gene_version \"2\"; g...  ENSG00000225439  \n",
      "2024  gene_id \"ENSG00000114978\"; gene_version \"13\"; ...  ENSG00000114978  \n",
      "2025  gene_id \"ENSG00000065911\"; gene_version \"7\"; g...  ENSG00000065911  \n",
      "2026  gene_id \"ENSG00000264324\"; gene_version \"1\"; g...  ENSG00000264324  \n",
      "2027  gene_id \"ENSG00000188687\"; gene_version \"11\"; ...  ENSG00000188687  \n",
      "2028  gene_id \"ENSG00000204843\"; gene_version \"8\"; g...  ENSG00000204843  \n",
      "2029  gene_id \"ENSG00000237737\"; gene_version \"1\"; g...  ENSG00000237737  \n",
      "...                                                 ...              ...  \n",
      "3970  gene_id \"ENSG00000198856\"; gene_version \"8\"; g...  ENSG00000198856  \n",
      "3971  gene_id \"ENSG00000247950\"; gene_version \"2\"; g...  ENSG00000247950  \n",
      "3972  gene_id \"ENSG00000138802\"; gene_version \"7\"; g...  ENSG00000138802  \n",
      "3973  gene_id \"ENSG00000005059\"; gene_version \"11\"; ...  ENSG00000005059  \n",
      "3974  gene_id \"ENSG00000138794\"; gene_version \"5\"; g...  ENSG00000138794  \n",
      "3975  gene_id \"ENSG00000273447\"; gene_version \"1\"; g...  ENSG00000273447  \n",
      "3976  gene_id \"ENSG00000123739\"; gene_version \"6\"; g...  ENSG00000123739  \n",
      "3977  gene_id \"ENSG00000272795\"; gene_version \"1\"; g...  ENSG00000272795  \n",
      "3978  gene_id \"ENSG00000109534\"; gene_version \"12\"; ...  ENSG00000109534  \n",
      "3979  gene_id \"ENSG00000174749\"; gene_version \"5\"; g...  ENSG00000174749  \n",
      "3980  gene_id \"ENSG00000260526\"; gene_version \"1\"; g...  ENSG00000260526  \n",
      "3981  gene_id \"ENSG00000138660\"; gene_version \"7\"; g...  ENSG00000138660  \n",
      "3982  gene_id \"ENSG00000272567\"; gene_version \"1\"; g...  ENSG00000272567  \n",
      "3983  gene_id \"ENSG00000145365\"; gene_version \"10\"; ...  ENSG00000145365  \n",
      "3984  gene_id \"ENSG00000073331\"; gene_version \"13\"; ...  ENSG00000073331  \n",
      "3985  gene_id \"ENSG00000249509\"; gene_version \"1\"; g...  ENSG00000249509  \n",
      "3986  gene_id \"ENSG00000138658\"; gene_version \"11\"; ...  ENSG00000138658  \n",
      "3987  gene_id \"ENSG00000174720\"; gene_version \"11\"; ...  ENSG00000174720  \n",
      "3988  gene_id \"ENSG00000249532\"; gene_version \"2\"; g...  ENSG00000249532  \n",
      "3989  gene_id \"ENSG00000250046\"; gene_version \"3\"; g...  ENSG00000250046  \n",
      "3990  gene_id \"ENSG00000145349\"; gene_version \"12\"; ...  ENSG00000145349  \n",
      "3991  gene_id \"ENSG00000174607\"; gene_version \"6\"; g...  ENSG00000174607  \n",
      "3992  gene_id \"ENSG00000164100\"; gene_version \"7\"; g...  ENSG00000164100  \n",
      "3993  gene_id \"ENSG00000269893\"; gene_version \"2\"; g...  ENSG00000269893  \n",
      "3994  gene_id \"ENSG00000260404\"; gene_version \"2\"; g...  ENSG00000260404  \n",
      "3995  gene_id \"ENSG00000145388\"; gene_version \"10\"; ...  ENSG00000145388  \n",
      "3996  gene_id \"ENSG00000150961\"; gene_version \"10\"; ...  ENSG00000150961  \n",
      "3997  gene_id \"ENSG00000249356\"; gene_version \"1\"; g...  ENSG00000249356  \n",
      "3998  gene_id \"ENSG00000145390\"; gene_version \"7\"; g...  ENSG00000145390  \n",
      "3999  gene_id \"ENSG00000164096\"; gene_version \"10\"; ...  ENSG00000164096  \n",
      "\n",
      "[2000 rows x 10 columns],      chr        database  type      start        end other strand other2  \\\n",
      "4000   4  ensembl_havana  gene  120415550  120550146     .      -      .   \n",
      "4001   4  ensembl_havana  gene  120976763  120988229     .      -      .   \n",
      "4002   4          havana  gene  120988113  121337921     .      +      .   \n",
      "4003   4  ensembl_havana  gene  122589110  122618268     .      -      .   \n",
      "4004   4  ensembl_havana  gene  122722472  122738176     .      +      .   \n",
      "4005   4  ensembl_havana  gene  122737599  122745087     .      -      .   \n",
      "4006   4  ensembl_havana  gene  122745595  122791652     .      -      .   \n",
      "4007   4  ensembl_havana  gene  123073488  123283913     .      +      .   \n",
      "4008   4  ensembl_havana  gene  123653857  123666098     .      +      .   \n",
      "4009   4  ensembl_havana  gene  123809852  123844123     .      -      .   \n",
      "4010   4  ensembl_havana  gene  123844229  124240605     .      +      .   \n",
      "4011   4  ensembl_havana  gene  124317950  124324910     .      +      .   \n",
      "4012   4  ensembl_havana  gene  125585207  125633887     .      -      .   \n",
      "4013   4  ensembl_havana  gene  128702976  128761888     .      +      .   \n",
      "4014   4  ensembl_havana  gene  128802016  128820350     .      +      .   \n",
      "4015   4  ensembl_havana  gene  128838960  128887150     .      -      .   \n",
      "4016   4  ensembl_havana  gene  128886461  128960866     .      +      .   \n",
      "4017   4  ensembl_havana  gene  128982423  129144086     .      +      .   \n",
      "4018   4  ensembl_havana  gene  129190397  129209984     .      -      .   \n",
      "4019   4          havana  gene  129213906  129440549     .      +      .   \n",
      "4020   4  ensembl_havana  gene  129730779  129796379     .      +      .   \n",
      "4021   4  ensembl_havana  gene  129786076  130014764     .      -      .   \n",
      "4022   4  ensembl_havana  gene  130014472  130037795     .      +      .   \n",
      "4023   4          havana  gene  132925965  133045186     .      -      .   \n",
      "4024   4          havana  gene  132948330  132949589     .      -      .   \n",
      "4025   4          havana  gene  138466885  138524584     .      +      .   \n",
      "4026   4  ensembl_havana  gene  139085251  139163503     .      -      .   \n",
      "4027   4          havana  gene  139198269  139202938     .      -      .   \n",
      "4028   4  ensembl_havana  gene  139936943  139966906     .      +      .   \n",
      "4029   4  ensembl_havana  gene  139949266  140098372     .      -      .   \n",
      "...   ..             ...   ...        ...        ...   ...    ...    ...   \n",
      "5970   7  ensembl_havana  gene   66452664   66460588     .      -      .   \n",
      "5971   7  ensembl_havana  gene   66460160   66704501     .      +      .   \n",
      "5972   7          havana  gene   66798034   66799370     .      +      .   \n",
      "5973   7          havana  gene   66800963   66805011     .      +      .   \n",
      "5974   7          havana  gene   69060944   69062434     .      -      .   \n",
      "5975   7  ensembl_havana  gene   69063905   70258054     .      +      .   \n",
      "5976   7  ensembl_havana  gene   71244476   71912136     .      -      .   \n",
      "5977   7  ensembl_havana  gene   72349936   72421979     .      +      .   \n",
      "5978   7          havana  gene   72394956   72395663     .      -      .   \n",
      "5979   7  ensembl_havana  gene   72430016   72439997     .      -      .   \n",
      "5980   7  ensembl_havana  gene   72716514   72722864     .      -      .   \n",
      "5981   7  ensembl_havana  gene   72742167   72772634     .      +      .   \n",
      "5982   7  ensembl_havana  gene   72848109   72850450     .      +      .   \n",
      "5983   7  ensembl_havana  gene   72854728   72936608     .      -      .   \n",
      "5984   7  ensembl_havana  gene   72950686   72972332     .      -      .   \n",
      "5985   7  ensembl_havana  gene   72983262   72993121     .      -      .   \n",
      "5986   7  ensembl_havana  gene   73082155   73086442     .      +      .   \n",
      "5987   7  ensembl_havana  gene   73095299   73097783     .      -      .   \n",
      "5988   7  ensembl_havana  gene   73097355   73119491     .      +      .   \n",
      "5989   7  ensembl_havana  gene   73113536   73134002     .      -      .   \n",
      "5990   7          havana  gene   73149368   73150384     .      +      .   \n",
      "5991   7  ensembl_havana  gene   73150424   73153197     .      -      .   \n",
      "5992   7  ensembl_havana  gene   73248920   73256865     .      -      .   \n",
      "5993   7  ensembl_havana  gene   73442119   73484237     .      +      .   \n",
      "5994   7  ensembl_havana  gene   73497263   73536855     .      +      .   \n",
      "5995   7  ensembl_havana  gene   73588575   73611431     .      +      .   \n",
      "5996   7  ensembl_havana  gene   73613982   73644161     .      +      .   \n",
      "5997   7  ensembl_havana  gene   73645829   73668774     .      -      .   \n",
      "5998   7  ensembl_havana  gene   73703805   73820273     .      +      .   \n",
      "5999   7  ensembl_havana  gene   73868120   74016931     .      +      .   \n",
      "\n",
      "                                               metadata          gene_id  \n",
      "4000  gene_id \"ENSG00000138735\"; gene_version \"11\"; ...  ENSG00000138735  \n",
      "4001  gene_id \"ENSG00000164109\"; gene_version \"9\"; g...  ENSG00000164109  \n",
      "4002  gene_id \"ENSG00000250938\"; gene_version \"1\"; g...  ENSG00000250938  \n",
      "4003  gene_id \"ENSG00000164111\"; gene_version \"10\"; ...  ENSG00000164111  \n",
      "4004  gene_id \"ENSG00000123737\"; gene_version \"8\"; g...  ENSG00000123737  \n",
      "4005  gene_id \"ENSG00000145386\"; gene_version \"5\"; g...  ENSG00000145386  \n",
      "4006  gene_id \"ENSG00000138686\"; gene_version \"5\"; g...  ENSG00000138686  \n",
      "4007  gene_id \"ENSG00000138688\"; gene_version \"11\"; ...  ENSG00000138688  \n",
      "4008  gene_id \"ENSG00000181004\"; gene_version \"5\"; g...  ENSG00000181004  \n",
      "4009  gene_id \"ENSG00000170917\"; gene_version \"9\"; g...  ENSG00000170917  \n",
      "4010  gene_id \"ENSG00000145375\"; gene_version \"7\"; g...  ENSG00000145375  \n",
      "4011  gene_id \"ENSG00000164056\"; gene_version \"6\"; g...  ENSG00000164056  \n",
      "4012  gene_id \"ENSG00000151458\"; gene_version \"7\"; g...  ENSG00000151458  \n",
      "4013  gene_id \"ENSG00000164070\"; gene_version \"7\"; g...  ENSG00000164070  \n",
      "4014  gene_id \"ENSG00000142731\"; gene_version \"6\"; g...  ENSG00000142731  \n",
      "4015  gene_id \"ENSG00000164073\"; gene_version \"5\"; g...  ENSG00000164073  \n",
      "4016  gene_id \"ENSG00000164074\"; gene_version \"10\"; ...  ENSG00000164074  \n",
      "4017  gene_id \"ENSG00000138709\"; gene_version \"13\"; ...  ENSG00000138709  \n",
      "4018  gene_id \"ENSG00000164040\"; gene_version \"12\"; ...  ENSG00000164040  \n",
      "4019  gene_id \"ENSG00000251432\"; gene_version \"2\"; g...  ENSG00000251432  \n",
      "4020  gene_id \"ENSG00000077684\"; gene_version \"11\"; ...  ENSG00000077684  \n",
      "4021  gene_id \"ENSG00000151466\"; gene_version \"7\"; g...  ENSG00000151466  \n",
      "4022  gene_id \"ENSG00000151470\"; gene_version \"8\"; g...  ENSG00000151470  \n",
      "4023  gene_id \"ENSG00000251598\"; gene_version \"1\"; g...  ENSG00000251598  \n",
      "4024  gene_id \"ENSG00000249463\"; gene_version \"1\"; g...  ENSG00000249463  \n",
      "4025  gene_id \"ENSG00000251632\"; gene_version \"1\"; g...  ENSG00000251632  \n",
      "4026  gene_id \"ENSG00000151012\"; gene_version \"9\"; g...  ENSG00000151012  \n",
      "4027  gene_id \"ENSG00000249091\"; gene_version \"1\"; g...  ENSG00000249091  \n",
      "4028  gene_id \"ENSG00000151014\"; gene_version \"4\"; g...  ENSG00000151014  \n",
      "4029  gene_id \"ENSG00000109381\"; gene_version \"15\"; ...  ENSG00000109381  \n",
      "...                                                 ...              ...  \n",
      "5970  gene_id \"ENSG00000126524\"; gene_version \"5\"; g...  ENSG00000126524  \n",
      "5971  gene_id \"ENSG00000198874\"; gene_version \"8\"; g...  ENSG00000198874  \n",
      "5972  gene_id \"ENSG00000273448\"; gene_version \"1\"; g...  ENSG00000273448  \n",
      "5973  gene_id \"ENSG00000235475\"; gene_version \"1\"; g...  ENSG00000235475  \n",
      "5974  gene_id \"ENSG00000234215\"; gene_version \"2\"; g...  ENSG00000234215  \n",
      "5975  gene_id \"ENSG00000158321\"; gene_version \"11\"; ...  ENSG00000158321  \n",
      "5976  gene_id \"ENSG00000183166\"; gene_version \"6\"; g...  ENSG00000183166  \n",
      "5977  gene_id \"ENSG00000196313\"; gene_version \"7\"; g...  ENSG00000196313  \n",
      "5978  gene_id \"ENSG00000272843\"; gene_version \"1\"; g...  ENSG00000272843  \n",
      "5979  gene_id \"ENSG00000155428\"; gene_version \"8\"; g...  ENSG00000155428  \n",
      "5980  gene_id \"ENSG00000130305\"; gene_version \"12\"; ...  ENSG00000130305  \n",
      "5981  gene_id \"ENSG00000077800\"; gene_version \"7\"; g...  ENSG00000077800  \n",
      "5982  gene_id \"ENSG00000188763\"; gene_version \"3\"; g...  ENSG00000188763  \n",
      "5983  gene_id \"ENSG00000009954\"; gene_version \"6\"; g...  ENSG00000009954  \n",
      "5984  gene_id \"ENSG00000106635\"; gene_version \"3\"; g...  ENSG00000106635  \n",
      "5985  gene_id \"ENSG00000106638\"; gene_version \"11\"; ...  ENSG00000106638  \n",
      "5986  gene_id \"ENSG00000176428\"; gene_version \"5\"; g...  ENSG00000176428  \n",
      "5987  gene_id \"ENSG00000176410\"; gene_version \"7\"; g...  ENSG00000176410  \n",
      "5988  gene_id \"ENSG00000071462\"; gene_version \"7\"; g...  ENSG00000071462  \n",
      "5989  gene_id \"ENSG00000106089\"; gene_version \"7\"; g...  ENSG00000106089  \n",
      "5990  gene_id \"ENSG00000225969\"; gene_version \"1\"; g...  ENSG00000225969  \n",
      "5991  gene_id \"ENSG00000106077\"; gene_version \"14\"; ...  ENSG00000106077  \n",
      "5992  gene_id \"ENSG00000165171\"; gene_version \"6\"; g...  ENSG00000165171  \n",
      "5993  gene_id \"ENSG00000049540\"; gene_version \"12\"; ...  ENSG00000049540  \n",
      "5994  gene_id \"ENSG00000106683\"; gene_version \"10\"; ...  ENSG00000106683  \n",
      "5995  gene_id \"ENSG00000106682\"; gene_version \"10\"; ...  ENSG00000106682  \n",
      "5996  gene_id \"ENSG00000086730\"; gene_version \"12\"; ...  ENSG00000086730  \n",
      "5997  gene_id \"ENSG00000049541\"; gene_version \"6\"; g...  ENSG00000049541  \n",
      "5998  gene_id \"ENSG00000106665\"; gene_version \"11\"; ...  ENSG00000106665  \n",
      "5999  gene_id \"ENSG00000006704\"; gene_version \"6\"; g...  ENSG00000006704  \n",
      "\n",
      "[2000 rows x 10 columns],      chr        database  type      start        end other strand other2  \\\n",
      "6000   7  ensembl_havana  gene   74071994   74175026     .      +      .   \n",
      "6001   7  ensembl_havana  gene   74188309   74203659     .      +      .   \n",
      "6002   7  ensembl_havana  gene   74210483   74267847     .      -      .   \n",
      "6003   7  ensembl_havana  gene   74441226   74490064     .      -      .   \n",
      "6004   7  ensembl_havana  gene   74508364   74565623     .      +      .   \n",
      "6005   7  ensembl_havana  gene   75024337   75040279     .      +      .   \n",
      "6006   7  ensembl_havana  gene   75046066   75115548     .      -      .   \n",
      "6007   7  ensembl_havana  gene   75162621   75368280     .      -      .   \n",
      "6008   7  ensembl_havana  gene   75471920   75518244     .      +      .   \n",
      "6009   7  ensembl_havana  gene   75528518   75616173     .      +      .   \n",
      "6010   7  ensembl_havana  gene   75625656   75677322     .      -      .   \n",
      "6011   7  ensembl_havana  gene   75677369   75696826     .      +      .   \n",
      "6012   7  ensembl_havana  gene   75931861   75933612     .      +      .   \n",
      "6013   7  ensembl_havana  gene   75956116   75988348     .      -      .   \n",
      "6014   7  ensembl_havana  gene   76018651   76039012     .      -      .   \n",
      "6015   7  ensembl_havana  gene   76026835   76071388     .      +      .   \n",
      "6016   7  ensembl_havana  gene   76090993   76135312     .      +      .   \n",
      "6017   7  ensembl_havana  gene   76139745   76648340     .      +      .   \n",
      "6018   7  ensembl_havana  gene   76239303   76256578     .      -      .   \n",
      "6019   7  ensembl_havana  gene   76751751   76958850     .      +      .   \n",
      "6020   7  ensembl_havana  gene   76822688   76829143     .      -      .   \n",
      "6021   7  ensembl_havana  gene   76940068   77045717     .      -      .   \n",
      "6022   7          havana  gene   77045990   77054760     .      +      .   \n",
      "6023   7  ensembl_havana  gene   77166592   77269388     .      +      .   \n",
      "6024   7          havana  gene   77286977   77325582     .      -      .   \n",
      "6025   7  ensembl_havana  gene   77325760   77412339     .      +      .   \n",
      "6026   7  ensembl_havana  gene   77423045   77427897     .      -      .   \n",
      "6027   7  ensembl_havana  gene   77428122   77586818     .      +      .   \n",
      "6028   7          havana  gene   77619701   77624488     .      +      .   \n",
      "6029   7  ensembl_havana  gene   77646393   79082890     .      -      .   \n",
      "...   ..             ...   ...        ...        ...   ...    ...    ...   \n",
      "7970   9  ensembl_havana  gene  131939050  131972827     .      +      .   \n",
      "7971   9          havana  gene  132337688  132346835     .      +      .   \n",
      "7972   9  ensembl_havana  gene  132371163  132398209     .      +      .   \n",
      "7973   9  ensembl_havana  gene  132399171  132404444     .      -      .   \n",
      "7974   9  ensembl_havana  gene  132565432  132573560     .      +      .   \n",
      "7975   9  ensembl_havana  gene  132575223  132586413     .      -      .   \n",
      "7976   9  ensembl_havana  gene  132589569  132598142     .      -      .   \n",
      "7977   9  ensembl_havana  gene  132596977  132644107     .      +      .   \n",
      "7978   9  ensembl_havana  gene  132649466  132805473     .      -      .   \n",
      "7979   9          havana  gene  132806992  132807360     .      +      .   \n",
      "7980   9  ensembl_havana  gene  132815705  132902448     .      +      .   \n",
      "7981   9  ensembl_havana  gene  133454352  133513739     .      +      .   \n",
      "7982   9  ensembl_havana  gene  133569108  133580248     .      +      .   \n",
      "7983   9  ensembl_havana  gene  133589333  133763062     .      +      .   \n",
      "7984   9  ensembl_havana  gene  134000948  134110057     .      +      .   \n",
      "7985   9          havana  gene  134008252  134042892     .      -      .   \n",
      "7986   9          havana  gene  134065297  134069592     .      -      .   \n",
      "7987   9  ensembl_havana  gene  134133463  134151934     .      -      .   \n",
      "7988   9  ensembl_havana  gene  134165081  134184649     .      +      .   \n",
      "7989   9  ensembl_havana  gene  134269480  134375584     .      +      .   \n",
      "7990   9  ensembl_havana  gene  134378289  134399193     .      +      .   \n",
      "7991   9          havana  gene  134391945  134397616     .      -      .   \n",
      "7992   9  ensembl_havana  gene  134399188  134406655     .      -      .   \n",
      "7993   9  ensembl_havana  gene  134452157  134615461     .      -      .   \n",
      "7994   9  ensembl_havana  gene  134735494  134955295     .      -      .   \n",
      "7995   9  ensembl_havana  gene  135037334  135119921     .      +      .   \n",
      "7996   9  ensembl_havana  gene  135136743  135230372     .      -      .   \n",
      "7997   9  ensembl_havana  gene  135251008  135282209     .      -      .   \n",
      "7998   9  ensembl_havana  gene  135468384  135545788     .      -      .   \n",
      "7999   9  ensembl_havana  gene  135545422  135570342     .      +      .   \n",
      "\n",
      "                                               metadata          gene_id  \n",
      "6000  gene_id \"ENSG00000077809\"; gene_version \"8\"; g...  ENSG00000077809  \n",
      "6001  gene_id \"ENSG00000158517\"; gene_version \"9\"; g...  ENSG00000158517  \n",
      "6002  gene_id \"ENSG00000196275\"; gene_version \"9\"; g...  ENSG00000196275  \n",
      "6003  gene_id \"ENSG00000174374\"; gene_version \"9\"; g...  ENSG00000174374  \n",
      "6004  gene_id \"ENSG00000174428\"; gene_version \"12\"; ...  ENSG00000174428  \n",
      "6005  gene_id \"ENSG00000178809\"; gene_version \"7\"; g...  ENSG00000178809  \n",
      "6006  gene_id \"ENSG00000135213\"; gene_version \"8\"; g...  ENSG00000135213  \n",
      "6007  gene_id \"ENSG00000127946\"; gene_version \"12\"; ...  ENSG00000127946  \n",
      "6008  gene_id \"ENSG00000005486\"; gene_version \"12\"; ...  ENSG00000005486  \n",
      "6009  gene_id \"ENSG00000127948\"; gene_version \"9\"; g...  ENSG00000127948  \n",
      "6010  gene_id \"ENSG00000127952\"; gene_version \"12\"; ...  ENSG00000127952  \n",
      "6011  gene_id \"ENSG00000146701\"; gene_version \"7\"; g...  ENSG00000146701  \n",
      "6012  gene_id \"ENSG00000106211\"; gene_version \"8\"; g...  ENSG00000106211  \n",
      "6013  gene_id \"ENSG00000170027\"; gene_version \"5\"; g...  ENSG00000170027  \n",
      "6014  gene_id \"ENSG00000146700\"; gene_version \"8\"; g...  ENSG00000146700  \n",
      "6015  gene_id \"ENSG00000188372\"; gene_version \"10\"; ...  ENSG00000188372  \n",
      "6016  gene_id \"ENSG00000091073\"; gene_version \"15\"; ...  ENSG00000091073  \n",
      "6017  gene_id \"ENSG00000243566\"; gene_version \"2\"; g...  ENSG00000243566  \n",
      "6018  gene_id \"ENSG00000146707\"; gene_version \"10\"; ...  ENSG00000146707  \n",
      "6019  gene_id \"ENSG00000135205\"; gene_version \"10\"; ...  ENSG00000135205  \n",
      "6020  gene_id \"ENSG00000127951\"; gene_version \"5\"; g...  ENSG00000127951  \n",
      "6021  gene_id \"ENSG00000186088\"; gene_version \"11\"; ...  ENSG00000186088  \n",
      "6022  gene_id \"ENSG00000273341\"; gene_version \"1\"; g...  ENSG00000273341  \n",
      "6023  gene_id \"ENSG00000127947\"; gene_version \"11\"; ...  ENSG00000127947  \n",
      "6024  gene_id \"ENSG00000214293\"; gene_version \"4\"; g...  ENSG00000214293  \n",
      "6025  gene_id \"ENSG00000187257\"; gene_version \"10\"; ...  ENSG00000187257  \n",
      "6026  gene_id \"ENSG00000135211\"; gene_version \"5\"; g...  ENSG00000135211  \n",
      "6027  gene_id \"ENSG00000006576\"; gene_version \"12\"; ...  ENSG00000006576  \n",
      "6028  gene_id \"ENSG00000232756\"; gene_version \"1\"; g...  ENSG00000232756  \n",
      "6029  gene_id \"ENSG00000187391\"; gene_version \"13\"; ...  ENSG00000187391  \n",
      "...                                                 ...              ...  \n",
      "7970  gene_id \"ENSG00000204055\"; gene_version \"4\"; g...  ENSG00000204055  \n",
      "7971  gene_id \"ENSG00000227619\"; gene_version \"1\"; g...  ENSG00000227619  \n",
      "7972  gene_id \"ENSG00000148335\"; gene_version \"10\"; ...  ENSG00000148335  \n",
      "7973  gene_id \"ENSG00000148331\"; gene_version \"7\"; g...  ENSG00000148331  \n",
      "7974  gene_id \"ENSG00000136816\"; gene_version \"11\"; ...  ENSG00000136816  \n",
      "7975  gene_id \"ENSG00000136827\"; gene_version \"11\"; ...  ENSG00000136827  \n",
      "7976  gene_id \"ENSG00000136819\"; gene_version \"10\"; ...  ENSG00000136819  \n",
      "7977  gene_id \"ENSG00000136878\"; gene_version \"8\"; g...  ENSG00000136878  \n",
      "7978  gene_id \"ENSG00000187239\"; gene_version \"12\"; ...  ENSG00000187239  \n",
      "7979  gene_id \"ENSG00000270755\"; gene_version \"1\"; g...  ENSG00000270755  \n",
      "7980  gene_id \"ENSG00000148358\"; gene_version \"15\"; ...  ENSG00000148358  \n",
      "7981  gene_id \"ENSG00000107164\"; gene_version \"15\"; ...  ENSG00000107164  \n",
      "7982  gene_id \"ENSG00000130713\"; gene_version \"11\"; ...  ENSG00000130713  \n",
      "7983  gene_id \"ENSG00000097007\"; gene_version \"13\"; ...  ENSG00000097007  \n",
      "7984  gene_id \"ENSG00000126883\"; gene_version \"12\"; ...  ENSG00000126883  \n",
      "7985  gene_id \"ENSG00000236986\"; gene_version \"2\"; g...  ENSG00000236986  \n",
      "7986  gene_id \"ENSG00000246851\"; gene_version \"1\"; g...  ENSG00000246851  \n",
      "7987  gene_id \"ENSG00000126882\"; gene_version \"8\"; g...  ENSG00000126882  \n",
      "7988  gene_id \"ENSG00000160539\"; gene_version \"4\"; g...  ENSG00000160539  \n",
      "7989  gene_id \"ENSG00000130723\"; gene_version \"13\"; ...  ENSG00000130723  \n",
      "7990  gene_id \"ENSG00000130714\"; gene_version \"11\"; ...  ENSG00000130714  \n",
      "7991  gene_id \"ENSG00000230289\"; gene_version \"1\"; g...  ENSG00000230289  \n",
      "7992  gene_id \"ENSG00000130717\"; gene_version \"8\"; g...  ENSG00000130717  \n",
      "7993  gene_id \"ENSG00000107263\"; gene_version \"14\"; ...  ENSG00000107263  \n",
      "7994  gene_id \"ENSG00000160563\"; gene_version \"9\"; g...  ENSG00000160563  \n",
      "7995  gene_id \"ENSG00000196358\"; gene_version \"6\"; g...  ENSG00000196358  \n",
      "7996  gene_id \"ENSG00000107290\"; gene_version \"9\"; g...  ENSG00000107290  \n",
      "7997  gene_id \"ENSG00000125482\"; gene_version \"8\"; g...  ENSG00000125482  \n",
      "7998  gene_id \"ENSG00000125485\"; gene_version \"13\"; ...  ENSG00000125485  \n",
      "7999  gene_id \"ENSG00000125484\"; gene_version \"7\"; g...  ENSG00000125484  \n",
      "\n",
      "[2000 rows x 10 columns],      chr        database  type      start        end other strand other2  \\\n",
      "8000   9  ensembl_havana  gene  135600965  135754164     .      -      .   \n",
      "8001   9  ensembl_havana  gene  135753414  135765588     .      +      .   \n",
      "8002   9  ensembl_havana  gene  135766735  135820020     .      -      .   \n",
      "8003   9  ensembl_havana  gene  135906076  135933890     .      +      .   \n",
      "8004   9  ensembl_havana  gene  135973107  136039301     .      -      .   \n",
      "8005   9  ensembl_havana  gene  136028340  136039332     .      -      .   \n",
      "8006   9  ensembl_havana  gene  136197552  136203235     .      -      .   \n",
      "8007   9  ensembl_havana  gene  136205160  136214986     .      -      .   \n",
      "8008   9  ensembl_havana  gene  136215069  136218281     .      +      .   \n",
      "8009   9  ensembl_havana  gene  136218610  136223552     .      -      .   \n",
      "8010   9  ensembl_havana  gene  136223428  136228045     .      +      .   \n",
      "8011   9  ensembl_havana  gene  136228325  136242970     .      -      .   \n",
      "8012   9  ensembl_havana  gene  136243117  136271220     .      +      .   \n",
      "8013   9  ensembl_havana  gene  136271186  136283164     .      -      .   \n",
      "8014   9  ensembl_havana  gene  136279478  136324508     .      +      .   \n",
      "8015   9  ensembl_havana  gene  136325089  136335970     .      +      .   \n",
      "8016   9  ensembl_havana  gene  136336217  136344259     .      -      .   \n",
      "8017   9  ensembl_havana  gene  136627016  136857726     .      -      .   \n",
      "8018   9  ensembl_havana  gene  136890561  136899788     .      +      .   \n",
      "8019   9  ensembl_havana  gene  136895427  136933657     .      -      .   \n",
      "8020   9          havana  gene  136919412  136923927     .      +      .   \n",
      "8021   9          havana  gene  136997364  137000894     .      -      .   \n",
      "8022   9  ensembl_havana  gene  137000487  137025093     .      +      .   \n",
      "8023   9  ensembl_havana  gene  137208944  137332431     .      +      .   \n",
      "8024   9  ensembl_havana  gene  137801431  137809809     .      -      .   \n",
      "8025   9  ensembl_havana  gene  138370925  138380739     .      +      .   \n",
      "8026   9  ensembl_havana  gene  138387027  138393580     .      -      .   \n",
      "8027   9  ensembl_havana  gene  138391830  138396519     .      +      .   \n",
      "8028   9  ensembl_havana  gene  138700333  138799074     .      -      .   \n",
      "8029   9          havana  gene  138799658  138805359     .      +      .   \n",
      "...   ..             ...   ...        ...        ...   ...    ...    ...   \n",
      "9970  12  ensembl_havana  gene   57392618   57400230     .      -      .   \n",
      "9971  12  ensembl_havana  gene   57403784   57422667     .      -      .   \n",
      "9972  12  ensembl_havana  gene   57449426   57481846     .      -      .   \n",
      "9973  12  ensembl_havana  gene   57482677   57489259     .      +      .   \n",
      "9974  12  ensembl_havana  gene   57489191   57525922     .      -      .   \n",
      "9975  12  ensembl_havana  gene   57522276   57607134     .      +      .   \n",
      "9976  12  ensembl_havana  gene   57610578   57620232     .      +      .   \n",
      "9977  12  ensembl_havana  gene   57623110   57628718     .      +      .   \n",
      "9978  12  ensembl_havana  gene   57628686   57634498     .      -      .   \n",
      "9979  12  ensembl_havana  gene   57637236   57644976     .      -      .   \n",
      "9980  12  ensembl_havana  gene   57643392   57824788     .      -      .   \n",
      "9981  12          havana  gene   57824899   57827718     .      +      .   \n",
      "9982  12  ensembl_havana  gene   57853918   57866045     .      +      .   \n",
      "9983  12  ensembl_havana  gene   57866038   57882597     .      -      .   \n",
      "9984  12  ensembl_havana  gene   57869228   57911352     .      +      .   \n",
      "9985  12  ensembl_havana  gene   57910371   57914300     .      -      .   \n",
      "9986  12  ensembl_havana  gene   57914493   57923931     .      +      .   \n",
      "9987  12  ensembl_havana  gene   57923885   57941114     .      -      .   \n",
      "9988  12  ensembl_havana  gene   57984957   57997198     .      +      .   \n",
      "9989  12  ensembl_havana  gene   57998405   58003587     .      +      .   \n",
      "9990  12  ensembl_havana  gene   58087738   58115340     .      +      .   \n",
      "9991  12  ensembl_havana  gene   58118980   58135940     .      -      .   \n",
      "9992  12          havana  gene   58120054   58122139     .      +      .   \n",
      "9993  12  ensembl_havana  gene   58131796   58143994     .      +      .   \n",
      "9994  12  ensembl_havana  gene   58141510   58149796     .      -      .   \n",
      "9995  12  ensembl_havana  gene   58148881   58154190     .      +      .   \n",
      "9996  12  ensembl_havana  gene   58162254   58166576     .      -      .   \n",
      "9997  12  ensembl_havana  gene   58165275   58176324     .      +      .   \n",
      "9998  12  ensembl_havana  gene   58176372   58201854     .      +      .   \n",
      "9999  12  ensembl_havana  gene   58191159   58212487     .      -      .   \n",
      "\n",
      "                                               metadata          gene_id  \n",
      "8000  gene_id \"ENSG00000165695\"; gene_version \"5\"; g...  ENSG00000165695  \n",
      "8001  gene_id \"ENSG00000165698\"; gene_version \"11\"; ...  ENSG00000165698  \n",
      "8002  gene_id \"ENSG00000165699\"; gene_version \"9\"; g...  ENSG00000165699  \n",
      "8003  gene_id \"ENSG00000148308\"; gene_version \"13\"; ...  ENSG00000148308  \n",
      "8004  gene_id \"ENSG00000160271\"; gene_version \"10\"; ...  ENSG00000160271  \n",
      "8005  gene_id \"ENSG00000148288\"; gene_version \"7\"; g...  ENSG00000148288  \n",
      "8006  gene_id \"ENSG00000148296\"; gene_version \"5\"; g...  ENSG00000148296  \n",
      "8007  gene_id \"ENSG00000148297\"; gene_version \"11\"; ...  ENSG00000148297  \n",
      "8008  gene_id \"ENSG00000148303\"; gene_version \"12\"; ...  ENSG00000148303  \n",
      "8009  gene_id \"ENSG00000148290\"; gene_version \"5\"; g...  ENSG00000148290  \n",
      "8010  gene_id \"ENSG00000148291\"; gene_version \"5\"; g...  ENSG00000148291  \n",
      "8011  gene_id \"ENSG00000148248\"; gene_version \"9\"; g...  ENSG00000148248  \n",
      "8012  gene_id \"ENSG00000198870\"; gene_version \"6\"; g...  ENSG00000198870  \n",
      "8013  gene_id \"ENSG00000148300\"; gene_version \"7\"; g...  ENSG00000148300  \n",
      "8014  gene_id \"ENSG00000160323\"; gene_version \"14\"; ...  ENSG00000160323  \n",
      "8015  gene_id \"ENSG00000160325\"; gene_version \"10\"; ...  ENSG00000160325  \n",
      "8016  gene_id \"ENSG00000160326\"; gene_version \"9\"; g...  ENSG00000160326  \n",
      "8017  gene_id \"ENSG00000160293\"; gene_version \"12\"; ...  ENSG00000160293  \n",
      "8018  gene_id \"ENSG00000235106\"; gene_version \"4\"; g...  ENSG00000235106  \n",
      "8019  gene_id \"ENSG00000169925\"; gene_version \"12\"; ...  ENSG00000169925  \n",
      "8020  gene_id \"ENSG00000235138\"; gene_version \"1\"; g...  ENSG00000235138  \n",
      "8021  gene_id \"ENSG00000273249\"; gene_version \"1\"; g...  ENSG00000273249  \n",
      "8022  gene_id \"ENSG00000196363\"; gene_version \"5\"; g...  ENSG00000196363  \n",
      "8023  gene_id \"ENSG00000186350\"; gene_version \"8\"; g...  ENSG00000186350  \n",
      "8024  gene_id \"ENSG00000085265\"; gene_version \"6\"; g...  ENSG00000085265  \n",
      "8025  gene_id \"ENSG00000196422\"; gene_version \"6\"; g...  ENSG00000196422  \n",
      "8026  gene_id \"ENSG00000160345\"; gene_version \"8\"; g...  ENSG00000160345  \n",
      "8027  gene_id \"ENSG00000122140\"; gene_version \"6\"; g...  ENSG00000122140  \n",
      "8028  gene_id \"ENSG00000130559\"; gene_version \"14\"; ...  ENSG00000130559  \n",
      "8029  gene_id \"ENSG00000238058\"; gene_version \"1\"; g...  ENSG00000238058  \n",
      "...                                                 ...              ...  \n",
      "9970  gene_id \"ENSG00000166860\"; gene_version \"2\"; g...  ENSG00000166860  \n",
      "9971  gene_id \"ENSG00000166863\"; gene_version \"7\"; g...  ENSG00000166863  \n",
      "9972  gene_id \"ENSG00000166881\"; gene_version \"5\"; g...  ENSG00000166881  \n",
      "9973  gene_id \"ENSG00000166886\"; gene_version \"8\"; g...  ENSG00000166886  \n",
      "9974  gene_id \"ENSG00000166888\"; gene_version \"6\"; g...  ENSG00000166888  \n",
      "9975  gene_id \"ENSG00000123384\"; gene_version \"9\"; g...  ENSG00000123384  \n",
      "9976  gene_id \"ENSG00000182379\"; gene_version \"9\"; g...  ENSG00000182379  \n",
      "9977  gene_id \"ENSG00000182199\"; gene_version \"6\"; g...  ENSG00000182199  \n",
      "9978  gene_id \"ENSG00000185633\"; gene_version \"6\"; g...  ENSG00000185633  \n",
      "9979  gene_id \"ENSG00000185482\"; gene_version \"3\"; g...  ENSG00000185482  \n",
      "9980  gene_id \"ENSG00000179912\"; gene_version \"15\"; ...  ENSG00000179912  \n",
      "9981  gene_id \"ENSG00000258001\"; gene_version \"1\"; g...  ENSG00000258001  \n",
      "9982  gene_id \"ENSG00000111087\"; gene_version \"5\"; g...  ENSG00000111087  \n",
      "9983  gene_id \"ENSG00000123329\"; gene_version \"13\"; ...  ENSG00000123329  \n",
      "9984  gene_id \"ENSG00000166986\"; gene_version \"8\"; g...  ENSG00000166986  \n",
      "9985  gene_id \"ENSG00000175197\"; gene_version \"6\"; g...  ENSG00000175197  \n",
      "9986  gene_id \"ENSG00000166987\"; gene_version \"10\"; ...  ENSG00000166987  \n",
      "9987  gene_id \"ENSG00000175203\"; gene_version \"11\"; ...  ENSG00000175203  \n",
      "9988  gene_id \"ENSG00000166908\"; gene_version \"13\"; ...  ENSG00000166908  \n",
      "9989  gene_id \"ENSG00000178498\"; gene_version \"11\"; ...  ENSG00000178498  \n",
      "9990  gene_id \"ENSG00000135506\"; gene_version \"11\"; ...  ENSG00000135506  \n",
      "9991  gene_id \"ENSG00000135439\"; gene_version \"7\"; g...  ENSG00000135439  \n",
      "9992  gene_id \"ENSG00000255737\"; gene_version \"2\"; g...  ENSG00000255737  \n",
      "9993  gene_id \"ENSG00000135452\"; gene_version \"5\"; g...  ENSG00000135452  \n",
      "9994  gene_id \"ENSG00000135446\"; gene_version \"12\"; ...  ENSG00000135446  \n",
      "9995  gene_id \"ENSG00000139266\"; gene_version \"5\"; g...  ENSG00000139266  \n",
      "9996  gene_id \"ENSG00000037897\"; gene_version \"12\"; ...  ENSG00000037897  \n",
      "9997  gene_id \"ENSG00000123427\"; gene_version \"11\"; ...  ENSG00000123427  \n",
      "9998  gene_id \"ENSG00000123297\"; gene_version \"12\"; ...  ENSG00000123297  \n",
      "9999  gene_id \"ENSG00000135407\"; gene_version \"6\"; g...  ENSG00000135407  \n",
      "\n",
      "[2000 rows x 10 columns],       chr        database  type     start       end other strand other2  \\\n",
      "10000  12          havana  gene  58197621  58198198     .      +      .   \n",
      "10001  12  ensembl_havana  gene  58213710  58240522     .      -      .   \n",
      "10002  12          havana  gene  58325311  58329958     .      -      .   \n",
      "10003  12  ensembl_havana  gene  58335324  58351052     .      +      .   \n",
      "10004  12  ensembl_havana  gene  59265931  59314303     .      -      .   \n",
      "10005  12  ensembl_havana  gene  59989848  60176395     .      +      .   \n",
      "10006  12  ensembl_havana  gene  62102040  62672931     .      -      .   \n",
      "10007  12  ensembl_havana  gene  62654119  62811211     .      +      .   \n",
      "10008  12  ensembl_havana  gene  62860597  62991363     .      +      .   \n",
      "10009  12  ensembl_havana  gene  62995531  62997214     .      -      .   \n",
      "10010  12          havana  gene  62996532  63007855     .      +      .   \n",
      "10011  12  ensembl_havana  gene  63952693  64062719     .      -      .   \n",
      "10012  12  ensembl_havana  gene  64173583  64203338     .      +      .   \n",
      "10013  12  ensembl_havana  gene  64238073  64541613     .      +      .   \n",
      "10014  12  ensembl_havana  gene  64580096  64616076     .      -      .   \n",
      "10015  12  ensembl_havana  gene  64798130  64844907     .      +      .   \n",
      "10016  12  ensembl_havana  gene  64845660  64895888     .      +      .   \n",
      "10017  12  ensembl_havana  gene  65004293  65091347     .      +      .   \n",
      "10018  12          havana  gene  65047840  65048799     .      -      .   \n",
      "10019  12  ensembl_havana  gene  65107225  65153227     .      -      .   \n",
      "10020  12  ensembl_havana  gene  65174589  65274812     .      +      .   \n",
      "10021  12  ensembl_havana  gene  65563351  65642107     .      +      .   \n",
      "10022  12  ensembl_havana  gene  66516842  66524548     .      -      .   \n",
      "10023  12  ensembl_havana  gene  66517709  66563852     .      -      .   \n",
      "10024  12          havana  gene  66524531  66528229     .      +      .   \n",
      "10025  12  ensembl_havana  gene  66582659  66648402     .      +      .   \n",
      "10026  12  ensembl_havana  gene  66696325  66737423     .      +      .   \n",
      "10027  12  ensembl_havana  gene  67663061  67713731     .      +      .   \n",
      "10028  12  ensembl_havana  gene  68042118  68059186     .      +      .   \n",
      "10029  12          havana  gene  68052771  68064699     .      -      .   \n",
      "...    ..             ...   ...       ...       ...   ...    ...    ...   \n",
      "11970  16  ensembl_havana  gene  24741016  24838953     .      +      .   \n",
      "11971  16  ensembl_havana  gene  24930706  25026987     .      -      .   \n",
      "11972  16          havana  gene  25078258  25080264     .      +      .   \n",
      "11973  16          havana  gene  25096913  25122876     .      -      .   \n",
      "11974  16  ensembl_havana  gene  25123050  25189552     .      +      .   \n",
      "11975  16  ensembl_havana  gene  25247322  25269252     .      -      .   \n",
      "11976  16  ensembl_havana  gene  27214807  27233089     .      +      .   \n",
      "11977  16          havana  gene  27224631  27226314     .      -      .   \n",
      "11978  16  ensembl_havana  gene  27236312  27280115     .      -      .   \n",
      "11979  16          havana  gene  27279526  27301813     .      +      .   \n",
      "11980  16  ensembl_havana  gene  27324989  27376099     .      +      .   \n",
      "11981  16  ensembl_havana  gene  27413483  27462115     .      +      .   \n",
      "11982  16          havana  gene  27458990  27464714     .      -      .   \n",
      "11983  16  ensembl_havana  gene  27470876  27561234     .      -      .   \n",
      "11984  16  ensembl_havana  gene  27561454  27791690     .      +      .   \n",
      "11985  16  ensembl_havana  gene  28109300  28223241     .      -      .   \n",
      "11986  16          havana  gene  28296206  28303385     .      -      .   \n",
      "11987  16  ensembl_havana  gene  28303840  28335170     .      +      .   \n",
      "11988  16          havana  gene  28353876  28374829     .      -      .   \n",
      "11989  16  ensembl_havana  gene  28390900  28415200     .      -      .   \n",
      "11990  16          havana  gene  28477974  28503333     .      -      .   \n",
      "11991  16  ensembl_havana  gene  28477983  28506896     .      -      .   \n",
      "11992  16  ensembl_havana  gene  28505970  28510291     .      +      .   \n",
      "11993  16  ensembl_havana  gene  28565236  28603111     .      +      .   \n",
      "11994  16  ensembl_havana  gene  28616903  28634946     .      -      .   \n",
      "11995  16  ensembl_havana  gene  28699879  28747051     .      +      .   \n",
      "11996  16  ensembl_havana  gene  28763108  28784128     .      +      .   \n",
      "11997  16          havana  gene  28814097  28829149     .      +      .   \n",
      "11998  16  ensembl_havana  gene  28834356  28848558     .      +      .   \n",
      "11999  16  ensembl_havana  gene  28853732  28857729     .      -      .   \n",
      "\n",
      "                                                metadata          gene_id  \n",
      "10000  gene_id \"ENSG00000270039\"; gene_version \"1\"; g...  ENSG00000270039  \n",
      "10001  gene_id \"ENSG00000175215\"; gene_version \"5\"; g...  ENSG00000175215  \n",
      "10002  gene_id \"ENSG00000257698\"; gene_version \"1\"; g...  ENSG00000257698  \n",
      "10003  gene_id \"ENSG00000166896\"; gene_version \"3\"; g...  ENSG00000166896  \n",
      "10004  gene_id \"ENSG00000139263\"; gene_version \"7\"; g...  ENSG00000139263  \n",
      "10005  gene_id \"ENSG00000118596\"; gene_version \"7\"; g...  ENSG00000118596  \n",
      "10006  gene_id \"ENSG00000198673\"; gene_version \"6\"; g...  ENSG00000198673  \n",
      "10007  gene_id \"ENSG00000135655\"; gene_version \"9\"; g...  ENSG00000135655  \n",
      "10008  gene_id \"ENSG00000061987\"; gene_version \"10\"; ...  ENSG00000061987  \n",
      "10009  gene_id \"ENSG00000221949\"; gene_version \"2\"; g...  ENSG00000221949  \n",
      "10010  gene_id \"ENSG00000257354\"; gene_version \"1\"; g...  ENSG00000257354  \n",
      "10011  gene_id \"ENSG00000177990\"; gene_version \"7\"; g...  ENSG00000177990  \n",
      "10012  gene_id \"ENSG00000118600\"; gene_version \"7\"; g...  ENSG00000118600  \n",
      "10013  gene_id \"ENSG00000196935\"; gene_version \"4\"; g...  ENSG00000196935  \n",
      "10014  gene_id \"ENSG00000174206\"; gene_version \"8\"; g...  ENSG00000174206  \n",
      "10015  gene_id \"ENSG00000184575\"; gene_version \"7\"; g...  ENSG00000184575  \n",
      "10016  gene_id \"ENSG00000183735\"; gene_version \"5\"; g...  ENSG00000183735  \n",
      "10017  gene_id \"ENSG00000153179\"; gene_version \"7\"; g...  ENSG00000153179  \n",
      "10018  gene_id \"ENSG00000256314\"; gene_version \"1\"; g...  ENSG00000256314  \n",
      "10019  gene_id \"ENSG00000135677\"; gene_version \"6\"; g...  ENSG00000135677  \n",
      "10020  gene_id \"ENSG00000111490\"; gene_version \"8\"; g...  ENSG00000111490  \n",
      "10021  gene_id \"ENSG00000174106\"; gene_version \"2\"; g...  ENSG00000174106  \n",
      "10022  gene_id \"ENSG00000139233\"; gene_version \"2\"; g...  ENSG00000139233  \n",
      "10023  gene_id \"ENSG00000155957\"; gene_version \"12\"; ...  ENSG00000155957  \n",
      "10024  gene_id \"ENSG00000239335\"; gene_version \"4\"; g...  ENSG00000239335  \n",
      "10025  gene_id \"ENSG00000090376\"; gene_version \"4\"; g...  ENSG00000090376  \n",
      "10026  gene_id \"ENSG00000127311\"; gene_version \"5\"; g...  ENSG00000127311  \n",
      "10027  gene_id \"ENSG00000111530\"; gene_version \"8\"; g...  ENSG00000111530  \n",
      "10028  gene_id \"ENSG00000127334\"; gene_version \"10\"; ...  ENSG00000127334  \n",
      "10029  gene_id \"ENSG00000235872\"; gene_version \"2\"; g...  ENSG00000235872  \n",
      "...                                                  ...              ...  \n",
      "11970  gene_id \"ENSG00000090905\"; gene_version \"13\"; ...  ENSG00000090905  \n",
      "11971  gene_id \"ENSG00000140750\"; gene_version \"12\"; ...  ENSG00000140750  \n",
      "11972  gene_id \"ENSG00000262155\"; gene_version \"1\"; g...  ENSG00000262155  \n",
      "11973  gene_id \"ENSG00000260448\"; gene_version \"1\"; g...  ENSG00000260448  \n",
      "11974  gene_id \"ENSG00000205629\"; gene_version \"7\"; g...  ENSG00000205629  \n",
      "11975  gene_id \"ENSG00000155592\"; gene_version \"11\"; ...  ENSG00000155592  \n",
      "11976  gene_id \"ENSG00000155666\"; gene_version \"7\"; g...  ENSG00000155666  \n",
      "11977  gene_id \"ENSG00000259940\"; gene_version \"1\"; g...  ENSG00000259940  \n",
      "11978  gene_id \"ENSG00000169189\"; gene_version \"12\"; ...  ENSG00000169189  \n",
      "11979  gene_id \"ENSG00000245888\"; gene_version \"2\"; g...  ENSG00000245888  \n",
      "11980  gene_id \"ENSG00000077238\"; gene_version \"9\"; g...  ENSG00000077238  \n",
      "11981  gene_id \"ENSG00000103522\"; gene_version \"11\"; ...  ENSG00000103522  \n",
      "11982  gene_id \"ENSG00000259954\"; gene_version \"1\"; g...  ENSG00000259954  \n",
      "11983  gene_id \"ENSG00000077235\"; gene_version \"13\"; ...  ENSG00000077235  \n",
      "11984  gene_id \"ENSG00000047578\"; gene_version \"8\"; g...  ENSG00000047578  \n",
      "11985  gene_id \"ENSG00000169180\"; gene_version \"7\"; g...  ENSG00000169180  \n",
      "11986  gene_id \"ENSG00000246465\"; gene_version \"1\"; g...  ENSG00000246465  \n",
      "11987  gene_id \"ENSG00000188322\"; gene_version \"4\"; g...  ENSG00000188322  \n",
      "11988  gene_id \"ENSG00000198156\"; gene_version \"6\"; g...  ENSG00000198156  \n",
      "11989  gene_id \"ENSG00000205609\"; gene_version \"8\"; g...  ENSG00000205609  \n",
      "11990  gene_id \"ENSG00000261832\"; gene_version \"1\"; g...  ENSG00000261832  \n",
      "11991  gene_id \"ENSG00000188603\"; gene_version \"12\"; ...  ENSG00000188603  \n",
      "11992  gene_id \"ENSG00000184730\"; gene_version \"6\"; g...  ENSG00000184730  \n",
      "11993  gene_id \"ENSG00000176476\"; gene_version \"4\"; g...  ENSG00000176476  \n",
      "11994  gene_id \"ENSG00000196502\"; gene_version \"7\"; g...  ENSG00000196502  \n",
      "11995  gene_id \"ENSG00000184110\"; gene_version \"10\"; ...  ENSG00000184110  \n",
      "11996  gene_id \"ENSG00000196993\"; gene_version \"4\"; g...  ENSG00000196993  \n",
      "11997  gene_id \"ENSG00000251417\"; gene_version \"1\"; g...  ENSG00000251417  \n",
      "11998  gene_id \"ENSG00000168488\"; gene_version \"14\"; ...  ENSG00000168488  \n",
      "11999  gene_id \"ENSG00000178952\"; gene_version \"4\"; g...  ENSG00000178952  \n",
      "\n",
      "[2000 rows x 10 columns],       chr        database  type     start       end other strand other2  \\\n",
      "12000  16  ensembl_havana  gene  28857921  28885526     .      +      .   \n",
      "12001  16          havana  gene  28873487  28874661     .      -      .   \n",
      "12002  16  ensembl_havana  gene  28889726  28915830     .      +      .   \n",
      "12003  16          havana  gene  28890278  28891241     .      -      .   \n",
      "12004  16  ensembl_havana  gene  28915742  28947847     .      -      .   \n",
      "12005  16  ensembl_havana  gene  28943260  28950667     .      +      .   \n",
      "12006  16  ensembl_havana  gene  28962128  28978418     .      +      .   \n",
      "12007  16  ensembl_havana  gene  28985542  28995869     .      +      .   \n",
      "12008  16  ensembl_havana  gene  28996147  29002104     .      +      .   \n",
      "12009  16          havana  gene  29127448  29229181     .      +      .   \n",
      "12010  16  ensembl_havana  gene  29262829  29519817     .      +      .   \n",
      "12011  16          havana  gene  29392675  29415350     .      -      .   \n",
      "12012  16          havana  gene  29454551  29465972     .      -      .   \n",
      "12013  16  ensembl_havana  gene  29464914  29466285     .      -      .   \n",
      "12014  16  ensembl_havana  gene  29465822  29469540     .      +      .   \n",
      "12015  16  ensembl_havana  gene  29467127  29476300     .      +      .   \n",
      "12016  16  ensembl_havana  gene  29674300  29682187     .      +      .   \n",
      "12017  16  ensembl_havana  gene  29674600  29710020     .      +      .   \n",
      "12018  16  ensembl_havana  gene  29753784  29757327     .      -      .   \n",
      "12019  16          havana  gene  29756568  29759620     .      +      .   \n",
      "12020  16  ensembl_havana  gene  29802040  29816706     .      +      .   \n",
      "12021  16  ensembl_havana  gene  29817427  29823649     .      +      .   \n",
      "12022  16          havana  gene  29817817  29819053     .      -      .   \n",
      "12023  16          havana  gene  29819966  29823306     .      -      .   \n",
      "12024  16          havana  gene  29820250  29831687     .      -      .   \n",
      "12025  16  ensembl_havana  gene  29823177  29827201     .      +      .   \n",
      "12026  16  ensembl_havana  gene  29827285  29841948     .      +      .   \n",
      "12027  16          havana  gene  29829301  29832573     .      -      .   \n",
      "12028  16  ensembl_havana  gene  29831715  29859355     .      +      .   \n",
      "12029  16  ensembl_havana  gene  29869678  29875057     .      -      .   \n",
      "...    ..             ...   ...       ...       ...   ...    ...    ...   \n",
      "13970  20  ensembl_havana  gene  55043647  55093943     .      +      .   \n",
      "13971  20  ensembl_havana  gene  55092243  55101198     .      +      .   \n",
      "13972  20  ensembl_havana  gene  55108302  55111576     .      +      .   \n",
      "13973  20  ensembl_havana  gene  55926066  55954267     .      +      .   \n",
      "13974  20  ensembl_havana  gene  55933496  55934878     .      -      .   \n",
      "13975  20  ensembl_havana  gene  55959216  55968118     .      -      .   \n",
      "13976  20  ensembl_havana  gene  55966463  55984389     .      +      .   \n",
      "13977  20          havana  gene  56174751  56176256     .      -      .   \n",
      "13978  20  ensembl_havana  gene  56178902  56195632     .      -      .   \n",
      "13979  20  ensembl_havana  gene  56223448  56286592     .      -      .   \n",
      "13980  20  ensembl_havana  gene  56806188  56884495     .      -      .   \n",
      "13981  20  ensembl_havana  gene  56884752  56942563     .      +      .   \n",
      "13982  20  ensembl_havana  gene  56964178  57026157     .      +      .   \n",
      "13983  20  ensembl_havana  gene  57226328  57254582     .      +      .   \n",
      "13984  20          havana  gene  57226490  57290466     .      +      .   \n",
      "13985  20  ensembl_havana  gene  57264187  57294294     .      +      .   \n",
      "13986  20          havana  gene  57393974  57425958     .      -      .   \n",
      "13987  20  ensembl_havana  gene  57414773  57486247     .      +      .   \n",
      "13988  20  ensembl_havana  gene  57556263  57570188     .      +      .   \n",
      "13989  20  ensembl_havana  gene  57570240  57582302     .      -      .   \n",
      "13990  20  ensembl_havana  gene  57600522  57607437     .      -      .   \n",
      "13991  20  ensembl_havana  gene  57608200  57617964     .      -      .   \n",
      "13992  20  ensembl_havana  gene  57766075  57834168     .      +      .   \n",
      "13993  20  ensembl_havana  gene  58438618  58508710     .      -      .   \n",
      "13994  20  ensembl_havana  gene  58508819  58523735     .      +      .   \n",
      "13995  20  ensembl_havana  gene  58511894  58515352     .      -      .   \n",
      "13996  20  ensembl_havana  gene  58533471  58609066     .      +      .   \n",
      "13997  20          havana  gene  58662895  59102516     .      +      .   \n",
      "13998  20  ensembl_havana  gene  60528525  60640866     .      -      .   \n",
      "13999  20  ensembl_havana  gene  60697517  60710434     .      +      .   \n",
      "\n",
      "                                                metadata          gene_id  \n",
      "12000  gene_id \"ENSG00000178188\"; gene_version \"10\"; ...  ENSG00000178188  \n",
      "12001  gene_id \"ENSG00000261766\"; gene_version \"1\"; g...  ENSG00000261766  \n",
      "12002  gene_id \"ENSG00000196296\"; gene_version \"9\"; g...  ENSG00000196296  \n",
      "12003  gene_id \"ENSG00000260442\"; gene_version \"1\"; g...  ENSG00000260442  \n",
      "12004  gene_id \"ENSG00000177548\"; gene_version \"8\"; g...  ENSG00000177548  \n",
      "12005  gene_id \"ENSG00000177455\"; gene_version \"7\"; g...  ENSG00000177455  \n",
      "12006  gene_id \"ENSG00000176953\"; gene_version \"6\"; g...  ENSG00000176953  \n",
      "12007  gene_id \"ENSG00000169682\"; gene_version \"13\"; ...  ENSG00000169682  \n",
      "12008  gene_id \"ENSG00000213658\"; gene_version \"6\"; g...  ENSG00000213658  \n",
      "12009  gene_id \"ENSG00000260517\"; gene_version \"1\"; g...  ENSG00000260517  \n",
      "12010  gene_id \"ENSG00000198106\"; gene_version \"7\"; g...  ENSG00000198106  \n",
      "12011  gene_id \"ENSG00000254206\"; gene_version \"1\"; g...  ENSG00000254206  \n",
      "12012  gene_id \"ENSG00000261740\"; gene_version \"1\"; g...  ENSG00000261740  \n",
      "12013  gene_id \"ENSG00000183336\"; gene_version \"7\"; g...  ENSG00000183336  \n",
      "12014  gene_id \"ENSG00000181625\"; gene_version \"13\"; ...  ENSG00000181625  \n",
      "12015  gene_id \"ENSG00000213648\"; gene_version \"6\"; g...  ENSG00000213648  \n",
      "12016  gene_id \"ENSG00000197471\"; gene_version \"7\"; g...  ENSG00000197471  \n",
      "12017  gene_id \"ENSG00000103485\"; gene_version \"13\"; ...  ENSG00000103485  \n",
      "12018  gene_id \"ENSG00000185905\"; gene_version \"3\"; g...  ENSG00000185905  \n",
      "12019  gene_id \"ENSG00000260719\"; gene_version \"1\"; g...  ENSG00000260719  \n",
      "12020  gene_id \"ENSG00000079616\"; gene_version \"8\"; g...  ENSG00000079616  \n",
      "12021  gene_id \"ENSG00000103495\"; gene_version \"9\"; g...  ENSG00000103495  \n",
      "12022  gene_id \"ENSG00000259952\"; gene_version \"1\"; g...  ENSG00000259952  \n",
      "12023  gene_id \"ENSG00000238045\"; gene_version \"5\"; g...  ENSG00000238045  \n",
      "12024  gene_id \"ENSG00000261962\"; gene_version \"1\"; g...  ENSG00000261962  \n",
      "12025  gene_id \"ENSG00000167371\"; gene_version \"12\"; ...  ENSG00000167371  \n",
      "12026  gene_id \"ENSG00000185928\"; gene_version \"7\"; g...  ENSG00000185928  \n",
      "12027  gene_id \"ENSG00000261690\"; gene_version \"1\"; g...  ENSG00000261690  \n",
      "12028  gene_id \"ENSG00000013364\"; gene_version \"14\"; ...  ENSG00000013364  \n",
      "12029  gene_id \"ENSG00000103502\"; gene_version \"9\"; g...  ENSG00000103502  \n",
      "...                                                  ...              ...  \n",
      "13970  gene_id \"ENSG00000022277\"; gene_version \"8\"; g...  ENSG00000022277  \n",
      "13971  gene_id \"ENSG00000124103\"; gene_version \"8\"; g...  ENSG00000124103  \n",
      "13972  gene_id \"ENSG00000213714\"; gene_version \"1\"; g...  ENSG00000213714  \n",
      "13973  gene_id \"ENSG00000101146\"; gene_version \"8\"; g...  ENSG00000101146  \n",
      "13974  gene_id \"ENSG00000256222\"; gene_version \"1\"; g...  ENSG00000256222  \n",
      "13975  gene_id \"ENSG00000218018\"; gene_version \"2\"; g...  ENSG00000218018  \n",
      "13976  gene_id \"ENSG00000132819\"; gene_version \"12\"; ...  ENSG00000132819  \n",
      "13977  gene_id \"ENSG00000227297\"; gene_version \"1\"; g...  ENSG00000227297  \n",
      "13978  gene_id \"ENSG00000124256\"; gene_version \"10\"; ...  ENSG00000124256  \n",
      "13979  gene_id \"ENSG00000124225\"; gene_version \"11\"; ...  ENSG00000124225  \n",
      "13980  gene_id \"ENSG00000124224\"; gene_version \"12\"; ...  ENSG00000124224  \n",
      "13981  gene_id \"ENSG00000124209\"; gene_version \"3\"; g...  ENSG00000124209  \n",
      "13982  gene_id \"ENSG00000124164\"; gene_version \"11\"; ...  ENSG00000124164  \n",
      "13983  gene_id \"ENSG00000124222\"; gene_version \"17\"; ...  ENSG00000124222  \n",
      "13984  gene_id \"ENSG00000254995\"; gene_version \"4\"; g...  ENSG00000254995  \n",
      "13985  gene_id \"ENSG00000215440\"; gene_version \"7\"; g...  ENSG00000215440  \n",
      "13986  gene_id \"ENSG00000235590\"; gene_version \"3\"; g...  ENSG00000235590  \n",
      "13987  gene_id \"ENSG00000087460\"; gene_version \"19\"; ...  ENSG00000087460  \n",
      "13988  gene_id \"ENSG00000101158\"; gene_version \"8\"; g...  ENSG00000101158  \n",
      "13989  gene_id \"ENSG00000101160\"; gene_version \"9\"; g...  ENSG00000101160  \n",
      "13990  gene_id \"ENSG00000124172\"; gene_version \"5\"; g...  ENSG00000124172  \n",
      "13991  gene_id \"ENSG00000101166\"; gene_version \"11\"; ...  ENSG00000101166  \n",
      "13992  gene_id \"ENSG00000124203\"; gene_version \"5\"; g...  ENSG00000124203  \n",
      "13993  gene_id \"ENSG00000196074\"; gene_version \"8\"; g...  ENSG00000196074  \n",
      "13994  gene_id \"ENSG00000196227\"; gene_version \"6\"; g...  ENSG00000196227  \n",
      "13995  gene_id \"ENSG00000132825\"; gene_version \"5\"; g...  ENSG00000132825  \n",
      "13996  gene_id \"ENSG00000124215\"; gene_version \"12\"; ...  ENSG00000124215  \n",
      "13997  gene_id \"ENSG00000228340\"; gene_version \"1\"; g...  ENSG00000228340  \n",
      "13998  gene_id \"ENSG00000130699\"; gene_version \"12\"; ...  ENSG00000130699  \n",
      "13999  gene_id \"ENSG00000149657\"; gene_version \"15\"; ...  ENSG00000149657  \n",
      "\n",
      "[2000 rows x 10 columns],               chr        database  type     start       end other strand  \\\n",
      "14000          20  ensembl_havana  gene  60711791  60718496     .      -   \n",
      "14001          20  ensembl_havana  gene  60718822  60757540     .      +   \n",
      "14002          20  ensembl_havana  gene  60758085  60778624     .      +   \n",
      "14003          20  ensembl_havana  gene  60813580  60871268     .      +   \n",
      "14004          20  ensembl_havana  gene  60877149  60883918     .      +   \n",
      "14005          20          havana  gene  60880488  60881381     .      -   \n",
      "14006          20  ensembl_havana  gene  60883011  60942368     .      -   \n",
      "14007          20          havana  gene  60928051  60931536     .      +   \n",
      "14008          20  ensembl_havana  gene  60962172  60963576     .      +   \n",
      "14009          20  ensembl_havana  gene  60963688  60982341     .      -   \n",
      "14010          20  ensembl_havana  gene  61273797  61317137     .      +   \n",
      "14011          20          havana  gene  61405480  61406764     .      -   \n",
      "14012          20  ensembl_havana  gene  61427805  61431945     .      +   \n",
      "14013          20  ensembl_havana  gene  61436187  61445352     .      +   \n",
      "14014          20  ensembl_havana  gene  61447596  61472511     .      +   \n",
      "14015          20  ensembl_havana  gene  61472467  61493115     .      -   \n",
      "14016          20  ensembl_havana  gene  61509090  61569304     .      -   \n",
      "14017          20  ensembl_havana  gene  61569471  61576996     .      +   \n",
      "14018          20  ensembl_havana  gene  61584052  61599949     .      +   \n",
      "14019          20          havana  gene  61726845  61733671     .      -   \n",
      "14020          20  ensembl_havana  gene  61733483  61735738     .      +   \n",
      "14021          20  ensembl_havana  gene  61826781  61847586     .      -   \n",
      "14022          20  ensembl_havana  gene  61904137  61921142     .      +   \n",
      "14023          20  ensembl_havana  gene  62037542  62103993     .      -   \n",
      "14024          20  ensembl_havana  gene  62119366  62130505     .      -   \n",
      "14025          20  ensembl_havana  gene  62152077  62153559     .      +   \n",
      "14026          20  ensembl_havana  gene  62159778  62168723     .      -   \n",
      "14027          20  ensembl_havana  gene  62184373  62188061     .      +   \n",
      "14028          20  ensembl_havana  gene  62189439  62205592     .      -   \n",
      "14029          20  ensembl_havana  gene  62218955  62258394     .      -   \n",
      "...           ...             ...   ...       ...       ...   ...    ...   \n",
      "15828          21  ensembl_havana  gene  47581062  47604390     .      -   \n",
      "15829          21  ensembl_havana  gene  47608055  47648738     .      -   \n",
      "15830          21  ensembl_havana  gene  47649131  47679304     .      +   \n",
      "15831          21  ensembl_havana  gene  47655047  47706211     .      -   \n",
      "15832          21          havana  gene  47671463  47674047     .      -   \n",
      "15833          21  ensembl_havana  gene  47706251  47717665     .      +   \n",
      "15834          21  ensembl_havana  gene  47720095  47743789     .      -   \n",
      "15835          21  ensembl_havana  gene  47744036  47865682     .      +   \n",
      "15836          21  ensembl_havana  gene  47878812  47989926     .      +   \n",
      "15837          21  ensembl_havana  gene  48055079  48085036     .      +   \n",
      "15838          MT           insdc  gene      3307      4262     .      +   \n",
      "15839          MT           insdc  gene      4470      5511     .      +   \n",
      "15840          MT           insdc  gene      5904      7445     .      +   \n",
      "15841          MT           insdc  gene      7586      8269     .      +   \n",
      "15842          MT           insdc  gene      8366      8572     .      +   \n",
      "15843          MT           insdc  gene      8527      9207     .      +   \n",
      "15844          MT           insdc  gene      9207      9990     .      +   \n",
      "15845          MT           insdc  gene     10059     10404     .      +   \n",
      "15846          MT           insdc  gene     10470     10766     .      +   \n",
      "15847          MT           insdc  gene     10760     12137     .      +   \n",
      "15848          MT           insdc  gene     12337     14148     .      +   \n",
      "15849          MT           insdc  gene     14149     14673     .      -   \n",
      "15850          MT           insdc  gene     14747     15887     .      +   \n",
      "15851  GL000194.1         ensembl  gene     53590     56132     .      -   \n",
      "15852  GL000223.1         ensembl  gene     42781     68787     .      -   \n",
      "15853  GL000219.1         ensembl  gene     53831     99642     .      -   \n",
      "15854  GL000205.1         ensembl  gene    117169    119085     .      +   \n",
      "15855  GL000218.1         ensembl  gene     38792     97421     .      -   \n",
      "15856  GL000191.1         ensembl  gene     29663     33264     .      +   \n",
      "15857  GL000191.1         ensembl  gene     36277     50281     .      -   \n",
      "\n",
      "      other2                                           metadata  \\\n",
      "14000      .  gene_id \"ENSG00000101182\"; gene_version \"10\"; ...   \n",
      "14001      .  gene_id \"ENSG00000184402\"; gene_version \"10\"; ...   \n",
      "14002      .  gene_id \"ENSG00000101181\"; gene_version \"13\"; ...   \n",
      "14003      .  gene_id \"ENSG00000130703\"; gene_version \"11\"; ...   \n",
      "14004      .  gene_id \"ENSG00000130706\"; gene_version \"8\"; g...   \n",
      "14005      .  gene_id \"ENSG00000226332\"; gene_version \"2\"; g...   \n",
      "14006      .  gene_id \"ENSG00000130702\"; gene_version \"9\"; g...   \n",
      "14007      .  gene_id \"ENSG00000228812\"; gene_version \"3\"; g...   \n",
      "14008      .  gene_id \"ENSG00000171858\"; gene_version \"13\"; ...   \n",
      "14009      .  gene_id \"ENSG00000149679\"; gene_version \"7\"; g...   \n",
      "14010      .  gene_id \"ENSG00000101187\"; gene_version \"11\"; ...   \n",
      "14011      .  gene_id \"ENSG00000228705\"; gene_version \"1\"; g...   \n",
      "14012      .  gene_id \"ENSG00000101189\"; gene_version \"5\"; g...   \n",
      "14013      .  gene_id \"ENSG00000060491\"; gene_version \"12\"; ...   \n",
      "14014      .  gene_id \"ENSG00000092758\"; gene_version \"11\"; ...   \n",
      "14015      .  gene_id \"ENSG00000101190\"; gene_version \"8\"; g...   \n",
      "14016      .  gene_id \"ENSG00000101191\"; gene_version \"12\"; ...   \n",
      "14017      .  gene_id \"ENSG00000101193\"; gene_version \"6\"; g...   \n",
      "14018      .  gene_id \"ENSG00000101194\"; gene_version \"13\"; ...   \n",
      "14019      .  gene_id \"ENSG00000231133\"; gene_version \"2\"; g...   \n",
      "14020      .  gene_id \"ENSG00000225978\"; gene_version \"2\"; g...   \n",
      "14021      .  gene_id \"ENSG00000149658\"; gene_version \"13\"; ...   \n",
      "14022      .  gene_id \"ENSG00000101199\"; gene_version \"8\"; g...   \n",
      "14023      .  gene_id \"ENSG00000075043\"; gene_version \"13\"; ...   \n",
      "14024      .  gene_id \"ENSG00000101210\"; gene_version \"6\"; g...   \n",
      "14025      .  gene_id \"ENSG00000125534\"; gene_version \"5\"; g...   \n",
      "14026      .  gene_id \"ENSG00000101213\"; gene_version \"5\"; g...   \n",
      "14027      .  gene_id \"ENSG00000125531\"; gene_version \"5\"; g...   \n",
      "14028      .  gene_id \"ENSG00000130589\"; gene_version \"12\"; ...   \n",
      "14029      .  gene_id \"ENSG00000101216\"; gene_version \"6\"; g...   \n",
      "...      ...                                                ...   \n",
      "15828      .  gene_id \"ENSG00000160284\"; gene_version \"10\"; ...   \n",
      "15829      .  gene_id \"ENSG00000160285\"; gene_version \"10\"; ...   \n",
      "15830      .  gene_id \"ENSG00000215424\"; gene_version \"5\"; g...   \n",
      "15831      .  gene_id \"ENSG00000160294\"; gene_version \"6\"; g...   \n",
      "15832      .  gene_id \"ENSG00000239415\"; gene_version \"1\"; g...   \n",
      "15833      .  gene_id \"ENSG00000182362\"; gene_version \"9\"; g...   \n",
      "15834      .  gene_id \"ENSG00000160298\"; gene_version \"13\"; ...   \n",
      "15835      .  gene_id \"ENSG00000160299\"; gene_version \"12\"; ...   \n",
      "15836      .  gene_id \"ENSG00000160305\"; gene_version \"13\"; ...   \n",
      "15837      .  gene_id \"ENSG00000160310\"; gene_version \"12\"; ...   \n",
      "15838      .  gene_id \"ENSG00000198888\"; gene_version \"2\"; g...   \n",
      "15839      .  gene_id \"ENSG00000198763\"; gene_version \"3\"; g...   \n",
      "15840      .  gene_id \"ENSG00000198804\"; gene_version \"2\"; g...   \n",
      "15841      .  gene_id \"ENSG00000198712\"; gene_version \"1\"; g...   \n",
      "15842      .  gene_id \"ENSG00000228253\"; gene_version \"1\"; g...   \n",
      "15843      .  gene_id \"ENSG00000198899\"; gene_version \"2\"; g...   \n",
      "15844      .  gene_id \"ENSG00000198938\"; gene_version \"2\"; g...   \n",
      "15845      .  gene_id \"ENSG00000198840\"; gene_version \"2\"; g...   \n",
      "15846      .  gene_id \"ENSG00000212907\"; gene_version \"2\"; g...   \n",
      "15847      .  gene_id \"ENSG00000198886\"; gene_version \"2\"; g...   \n",
      "15848      .  gene_id \"ENSG00000198786\"; gene_version \"2\"; g...   \n",
      "15849      .  gene_id \"ENSG00000198695\"; gene_version \"2\"; g...   \n",
      "15850      .  gene_id \"ENSG00000198727\"; gene_version \"2\"; g...   \n",
      "15851      .  gene_id \"ENSG00000215750\"; gene_version \"5\"; g...   \n",
      "15852      .  gene_id \"ENSG00000218497\"; gene_version \"3\"; g...   \n",
      "15853      .  gene_id \"ENSG00000220023\"; gene_version \"3\"; g...   \n",
      "15854      .  gene_id \"ENSG00000212884\"; gene_version \"2\"; g...   \n",
      "15855      .  gene_id \"ENSG00000215615\"; gene_version \"1\"; g...   \n",
      "15856      .  gene_id \"ENSG00000215700\"; gene_version \"1\"; g...   \n",
      "15857      .  gene_id \"ENSG00000215699\"; gene_version \"3\"; g...   \n",
      "\n",
      "               gene_id  \n",
      "14000  ENSG00000101182  \n",
      "14001  ENSG00000184402  \n",
      "14002  ENSG00000101181  \n",
      "14003  ENSG00000130703  \n",
      "14004  ENSG00000130706  \n",
      "14005  ENSG00000226332  \n",
      "14006  ENSG00000130702  \n",
      "14007  ENSG00000228812  \n",
      "14008  ENSG00000171858  \n",
      "14009  ENSG00000149679  \n",
      "14010  ENSG00000101187  \n",
      "14011  ENSG00000228705  \n",
      "14012  ENSG00000101189  \n",
      "14013  ENSG00000060491  \n",
      "14014  ENSG00000092758  \n",
      "14015  ENSG00000101190  \n",
      "14016  ENSG00000101191  \n",
      "14017  ENSG00000101193  \n",
      "14018  ENSG00000101194  \n",
      "14019  ENSG00000231133  \n",
      "14020  ENSG00000225978  \n",
      "14021  ENSG00000149658  \n",
      "14022  ENSG00000101199  \n",
      "14023  ENSG00000075043  \n",
      "14024  ENSG00000101210  \n",
      "14025  ENSG00000125534  \n",
      "14026  ENSG00000101213  \n",
      "14027  ENSG00000125531  \n",
      "14028  ENSG00000130589  \n",
      "14029  ENSG00000101216  \n",
      "...                ...  \n",
      "15828  ENSG00000160284  \n",
      "15829  ENSG00000160285  \n",
      "15830  ENSG00000215424  \n",
      "15831  ENSG00000160294  \n",
      "15832  ENSG00000239415  \n",
      "15833  ENSG00000182362  \n",
      "15834  ENSG00000160298  \n",
      "15835  ENSG00000160299  \n",
      "15836  ENSG00000160305  \n",
      "15837  ENSG00000160310  \n",
      "15838  ENSG00000198888  \n",
      "15839  ENSG00000198763  \n",
      "15840  ENSG00000198804  \n",
      "15841  ENSG00000198712  \n",
      "15842  ENSG00000228253  \n",
      "15843  ENSG00000198899  \n",
      "15844  ENSG00000198938  \n",
      "15845  ENSG00000198840  \n",
      "15846  ENSG00000212907  \n",
      "15847  ENSG00000198886  \n",
      "15848  ENSG00000198786  \n",
      "15849  ENSG00000198695  \n",
      "15850  ENSG00000198727  \n",
      "15851  ENSG00000215750  \n",
      "15852  ENSG00000218497  \n",
      "15853  ENSG00000220023  \n",
      "15854  ENSG00000212884  \n",
      "15855  ENSG00000215615  \n",
      "15856  ENSG00000215700  \n",
      "15857  ENSG00000215699  \n",
      "\n",
      "[1858 rows x 10 columns]]\n"
     ]
    }
   ],
   "source": [
    "n = 2000\n",
    "chunks = [hg19gtf_genes_filt.iloc[i:i+n] for i in range(2000,len(hg19gtf_genes_filt.index[2000:]),n)]\n",
    "print(chunks)"
   ]
  },
  {
   "cell_type": "code",
   "execution_count": null,
   "metadata": {},
   "outputs": [],
   "source": [
    "# chunks[0]"
   ]
  },
  {
   "cell_type": "code",
   "execution_count": null,
   "metadata": {},
   "outputs": [],
   "source": [
    "mp_pool = mp.Pool(5)\n",
    "# matrices_2000_chunks = mp_pool.map(create_coexp_pairmap_chunks,chunks[0:2])\n",
    "matrices_2000_3000 = mp_pool.map(create_coexp_pairmap,[3000])\n",
    "mp_pool.close()"
   ]
  },
  {
   "cell_type": "code",
   "execution_count": 99,
   "metadata": {},
   "outputs": [
    {
     "name": "stdout",
     "output_type": "stream",
     "text": [
      "[(0, 1000), (1000, 2000), (2000, 3000), (3000, 4000), (4000, 5000), (5000, 6000), (6000, 7000), (7000, 8000), (8000, 9000), (9000, 10000), (10000, 11000), (11000, 12000), (12000, 13000), (13000, 14000), (14000, 15000), (15000, 15858)]\n"
     ]
    }
   ],
   "source": [
    "#chunks = [(i,i+n) for i in range(2000,len(hg19gtf_genes_filt.index[2000:]),n)]\n",
    "#generate chunks\n",
    "chunks = [] \n",
    "n = 1000\n",
    "startind = 0\n",
    "for i in range(startind,len(hg19gtf_genes_filt.index),n):\n",
    "#     print(i)\n",
    "    if i+n < len(hg19gtf_genes_filt.index[startind:]):\n",
    "        chunks.append((i,i+n))\n",
    "    else:\n",
    "        nlen = len(hg19gtf_genes_filt.index[startind:])\n",
    "        chunks.append((i,nlen))\n",
    "print(chunks)"
   ]
  },
  {
   "cell_type": "code",
   "execution_count": 103,
   "metadata": {},
   "outputs": [
    {
     "data": {
      "text/plain": [
       "[(10000, 11000),\n",
       " (11000, 12000),\n",
       " (12000, 13000),\n",
       " (13000, 14000),\n",
       " (14000, 15000),\n",
       " (15000, 15858)]"
      ]
     },
     "execution_count": 103,
     "metadata": {},
     "output_type": "execute_result"
    }
   ],
   "source": [
    "chunks[10:]"
   ]
  },
  {
   "cell_type": "code",
   "execution_count": 139,
   "metadata": {},
   "outputs": [
    {
     "name": "stdout",
     "output_type": "stream",
     "text": [
      "Took: 1204.300548 seconds with 4 threads\n"
     ]
    }
   ],
   "source": [
    "#chunking\n",
    "# takes 563.3457841873169 seconds for a single run on the 6 threads\n",
    "npool = 4\n",
    "mp_pool = mp.Pool(npool)\n",
    "# matrices_2000_chunks = mp_pool.map(create_coexp_pairmap_chunks,chunks[0:2])\n",
    "# matrices_chunks = mp_pool.map(create_coexp_pairmap,chunks[0:2])\n",
    "d = time.time()\n",
    "# matrices_chunks_ind3_7 = mp_pool.map(create_coexp_pairmap,chunks)\n",
    "matrices_chunks_1000on = mp_pool.map(create_coexp_pairmap,chunks[10:])\n",
    "d1 = time.time() - d\n",
    "mp_pool.close()\n",
    "print(\"Took: %f seconds with %d threads\"%(d1,npool))"
   ]
  },
  {
   "cell_type": "code",
   "execution_count": 115,
   "metadata": {
    "collapsed": true
   },
   "outputs": [],
   "source": [
    "mp_pool.close()"
   ]
  },
  {
   "cell_type": "code",
   "execution_count": 140,
   "metadata": {},
   "outputs": [
    {
     "name": "stdout",
     "output_type": "stream",
     "text": [
      "['chr12\\t58197621\\t+\\tchr12\\t58197621\\t+\\t1.0\\n', 'chr12\\t58197621\\t+\\tchr12\\t58213710\\t-\\t-0.00168604324465\\n', 'chr12\\t58197621\\t+\\tchr12\\t58325311\\t-\\t-0.00124445154765\\n', 'chr12\\t58197621\\t+\\tchr12\\t58335324\\t+\\t-0.000916143683603\\n', 'chr12\\t58197621\\t+\\tchr12\\t59265931\\t-\\t-9.91669972233e-05\\n', 'chr12\\t58197621\\t+\\tchr12\\t59989848\\t+\\t-0.0010314011813\\n', 'chr12\\t58197621\\t+\\tchr12\\t62102040\\t-\\t-0.00058853485357\\n', 'chr12\\t58197621\\t+\\tchr12\\t62654119\\t+\\t0.030926224607\\n', 'chr12\\t58197621\\t+\\tchr12\\t62860597\\t+\\t-0.000971305510439\\n', 'chr12\\t58197621\\t+\\tchr12\\t62995531\\t-\\t-0.000596867484116\\n']\n",
      "['chr14\\t75408537\\t-\\tchr14\\t75408537\\t-\\t1.0\\n', 'chr14\\t75408537\\t-\\tchr14\\t75469614\\t+\\t0.0821662852934\\n', 'chr14\\t75408537\\t-\\tchr14\\t75471422\\t-\\t-0.000280584028097\\n', 'chr14\\t75408537\\t-\\tchr14\\t75480467\\t-\\t-0.000878721659395\\n', 'chr14\\t75408537\\t-\\tchr14\\t75519924\\t-\\t-0.00216229325571\\n', 'chr14\\t75408537\\t-\\tchr14\\t75530873\\t+\\t-0.000140250266684\\n', 'chr14\\t75408537\\t-\\tchr14\\t75548822\\t-\\t-0.000935215261103\\n', 'chr14\\t75408537\\t-\\tchr14\\t75593856\\t+\\t-0.000242968786202\\n', 'chr14\\t75408537\\t-\\tchr14\\t75598173\\t-\\t-0.00255115873174\\n', 'chr14\\t75408537\\t-\\tchr14\\t75726114\\t+\\t-9.91669972233e-05\\n']\n",
      "['chr16\\t28857921\\t+\\tchr16\\t28857921\\t+\\t1.0\\n', 'chr16\\t28857921\\t+\\tchr16\\t28873487\\t-\\t-0.00120003400248\\n', 'chr16\\t28857921\\t+\\tchr16\\t28889726\\t+\\t-0.00226727123648\\n', 'chr16\\t28857921\\t+\\tchr16\\t28890278\\t-\\t0.0167988381678\\n', 'chr16\\t28857921\\t+\\tchr16\\t28915742\\t-\\t0.0204740404604\\n', 'chr16\\t28857921\\t+\\tchr16\\t28943260\\t+\\t0.0134557089057\\n', 'chr16\\t28857921\\t+\\tchr16\\t28962128\\t+\\t-0.00342439116289\\n', 'chr16\\t28857921\\t+\\tchr16\\t28985542\\t+\\t-0.00616190289123\\n', 'chr16\\t28857921\\t+\\tchr16\\t28996147\\t+\\t0.00761903765046\\n', 'chr16\\t28857921\\t+\\tchr16\\t29127448\\t+\\t-0.00392780814854\\n']\n",
      "['chr17\\t42088556\\t-\\tchr17\\t42088556\\t-\\t1.0\\n', 'chr17\\t42088556\\t-\\tchr17\\t42112003\\t-\\t-0.0115211509602\\n', 'chr17\\t42088556\\t-\\tchr17\\t42148103\\t+\\t-0.000546505591602\\n', 'chr17\\t42088556\\t-\\tchr17\\t42154114\\t-\\t-0.0170829798807\\n', 'chr17\\t42088556\\t-\\tchr17\\t42219274\\t+\\t-0.00186554552446\\n', 'chr17\\t42088556\\t-\\tchr17\\t42253341\\t-\\t0.000581772290533\\n', 'chr17\\t42088556\\t-\\tchr17\\t42264338\\t+\\t-0.00410868664271\\n', 'chr17\\t42088556\\t-\\tchr17\\t42269173\\t-\\t0.00259142406618\\n', 'chr17\\t42088556\\t-\\tchr17\\t42282401\\t-\\t0.00353877254387\\n', 'chr17\\t42088556\\t-\\tchr17\\t42298769\\t+\\t0.000940768798583\\n']\n",
      "['chr20\\t60711791\\t-\\tchr20\\t60711791\\t-\\t1.0\\n', 'chr20\\t60711791\\t-\\tchr20\\t60718822\\t+\\t0.0012226378195\\n', 'chr20\\t60711791\\t-\\tchr20\\t60758085\\t+\\t-0.00622903815005\\n', 'chr20\\t60711791\\t-\\tchr20\\t60813580\\t+\\t0.0441115508805\\n', 'chr20\\t60711791\\t-\\tchr20\\t60877149\\t+\\t0.10403663232\\n', 'chr20\\t60711791\\t-\\tchr20\\t60880488\\t-\\t-0.006434366142\\n', 'chr20\\t60711791\\t-\\tchr20\\t60883011\\t-\\t0.0261442226908\\n', 'chr20\\t60711791\\t-\\tchr20\\t60928051\\t+\\t-0.00401494626558\\n', 'chr20\\t60711791\\t-\\tchr20\\t60962172\\t+\\t0.253101114686\\n', 'chr20\\t60711791\\t-\\tchr20\\t60963688\\t-\\t-0.00589969022058\\n']\n",
      "['chr19\\t49843852\\t-\\tchr19\\t49843852\\t-\\t1.0\\n', 'chr19\\t49843852\\t-\\tchr19\\t49865040\\t+\\t-0.00185564711991\\n', 'chr19\\t49843852\\t-\\tchr19\\t49871962\\t-\\t-0.000757376927565\\n', 'chr19\\t49843852\\t-\\tchr19\\t49891475\\t+\\t-0.00107114583527\\n', 'chr19\\t49843852\\t-\\tchr19\\t49927006\\t+\\t-0.000757376927565\\n', 'chr19\\t49843852\\t-\\tchr19\\t49932658\\t-\\t-0.000757376927565\\n', 'chr19\\t49843852\\t-\\tchr19\\t49949555\\t-\\t0.00715944296279\\n', 'chr19\\t49843852\\t-\\tchr19\\t49956426\\t+\\t-0.0150221009408\\n', 'chr19\\t49843852\\t-\\tchr19\\t49977464\\t+\\t0.0205727997414\\n', 'chr19\\t49843852\\t-\\tchr19\\t49990811\\t+\\t0.0113645265295\\n']\n"
     ]
    }
   ],
   "source": [
    "#matrices_chunks_ind2[0][0:10]\n",
    "for i in matrices_chunks_1000on:\n",
    "    print(i[0:10])"
   ]
  },
  {
   "cell_type": "code",
   "execution_count": null,
   "metadata": {},
   "outputs": [],
   "source": [
    "# matrices_chunks_ind3_7_joined = ''.join(matrices_chunks_ind3_7)"
   ]
  },
  {
   "cell_type": "code",
   "execution_count": 141,
   "metadata": {
    "collapsed": true
   },
   "outputs": [],
   "source": [
    "def write_to_file(entries,filename=\"./test_pairwisemat_5000_to_6000.txt\"):\n",
    "    with open(filename,'w') as outfile:\n",
    "        for i in entries:\n",
    "            outfile.write(i)\n",
    "# matrices_chunks_ind3_7\n",
    "def write_to_file_mult(filename,entries):\n",
    "    with open(filename,'w') as outfile:\n",
    "        for i in entries:\n",
    "            outfile.write(i)"
   ]
  },
  {
   "cell_type": "code",
   "execution_count": 142,
   "metadata": {},
   "outputs": [
    {
     "name": "stdout",
     "output_type": "stream",
     "text": [
      "['./test_pairwisemat_10000_to_11000.txt', './test_pairwisemat_11000_to_12000.txt', './test_pairwisemat_12000_to_13000.txt', './test_pairwisemat_13000_to_14000.txt', './test_pairwisemat_14000_to_15000.txt', './test_pairwisemat_15000_to_15858.txt']\n"
     ]
    }
   ],
   "source": [
    "# mp_pool = mp.Pool(5)\n",
    "filenames = []\n",
    "for i in chunks[10:]:\n",
    "    filename = \"./test_pairwisemat_\"+str(i[0])+\"_to_\"+str(i[1])+\".txt\"\n",
    "    filenames.append(filename)\n",
    "print(filenames)\n",
    "# outmatrices = mp_pool.map(write_to_file,[matrices_chunks_ind2[0]])\n",
    "# mp_pool.close()"
   ]
  },
  {
   "cell_type": "code",
   "execution_count": 85,
   "metadata": {},
   "outputs": [
    {
     "name": "stdout",
     "output_type": "stream",
     "text": [
      "(15858, 15858)\n"
     ]
    }
   ],
   "source": [
    "# print(cormat.shape)"
   ]
  },
  {
   "cell_type": "code",
   "execution_count": 143,
   "metadata": {},
   "outputs": [],
   "source": [
    "mp_pool = mp.Pool(4)\n",
    "# outmatrices = mp_pool.map(write_to_file,[matrices_chunks_ind2[0]])\n",
    "# outmatrices = mp_pool.starmap(write_to_file_mult,[(filenames[0],matrices_chunks_ind3_7[0])])\n",
    "for i in range(len(filenames)):\n",
    "    outmatrices = mp_pool.starmap(write_to_file_mult,[(filenames[i],matrices_chunks_1000on[i])])\n",
    "mp_pool.close()"
   ]
  },
  {
   "cell_type": "markdown",
   "metadata": {},
   "source": [
    "May run faster using https://pandas.pydata.org/pandas-docs/version/0.21/generated/pandas.DataFrame.stack.html. If we want to print out 12,500 x 12,500 = ~ 150 million entries rapidly, we will need to either run this on a computing cluster (Orchestra) or utilize some clever strategy"
   ]
  },
  {
   "cell_type": "code",
   "execution_count": null,
   "metadata": {
    "collapsed": true
   },
   "outputs": [],
   "source": [
    "print(cormat.shape)\n",
    "#we "
   ]
  },
  {
   "cell_type": "markdown",
   "metadata": {},
   "source": [
    "Whatever output we get, we will have to use pairix or tabix to index the coordinates before making a cooler file"
   ]
  },
  {
   "cell_type": "code",
   "execution_count": null,
   "metadata": {
    "collapsed": true
   },
   "outputs": [],
   "source": [
    "import time"
   ]
  },
  {
   "cell_type": "code",
   "execution_count": null,
   "metadata": {
    "collapsed": true
   },
   "outputs": [],
   "source": [
    "n = 100\n",
    "gene_chunks = []\n",
    "for i in range(0,len(hg19gtf_genes_filt.index),n):\n",
    "    gene_chunks.append(hg19gtf_genes_filt[i:i+n])"
   ]
  },
  {
   "cell_type": "code",
   "execution_count": null,
   "metadata": {
    "collapsed": true
   },
   "outputs": [],
   "source": [
    "def create_ouput_line(mat,genesgtf,ind1,ind2):\n",
    "    gene1 = genesgtf.iloc[ind1,[0,3,6]].tolist()\n",
    "    gene2 = genesgtf.iloc[ind2,[0,3,6]].tolist()\n",
    "    gene1[0] = \"chr\"+str(gene1[0])\n",
    "    gene2[0] = \"chr\"+str(gene2[0])\n",
    "    corscore = mat.todense()[ind1,ind2]\n",
    "    outline = [str(n) for n in gene1+gene2+[corscore]]\n",
    "    return(\"\\t\".join(outline)+\"\\n\")"
   ]
  },
  {
   "cell_type": "code",
   "execution_count": null,
   "metadata": {
    "collapsed": true
   },
   "outputs": [],
   "source": [
    "def save_file(intvls,mat=cormat):\n",
    "    #since this is a symmetric matrix, we will output only a half-triangle\n",
    "    output = \"\"\n",
    "    for i in intvls.index:\n",
    "        for j in range(i,intvls.index[-1]):\n",
    "            output += create_ouput_line(mat=mat,genesgtf=intvls,ind1=i,ind2=j)\n",
    "    return(output)"
   ]
  },
  {
   "cell_type": "code",
   "execution_count": null,
   "metadata": {
    "collapsed": true
   },
   "outputs": [],
   "source": [
    "# mp_pool = mp.pool.ThreadPool(4)\n",
    "\n",
    "# a = mp_pool.map(save_file,[gene_chunks[0]])\n",
    "#a = save_file(intvls=gene_chunks[0])"
   ]
  },
  {
   "cell_type": "code",
   "execution_count": null,
   "metadata": {
    "collapsed": true
   },
   "outputs": [],
   "source": [
    "mp_pool.close()"
   ]
  },
  {
   "cell_type": "code",
   "execution_count": null,
   "metadata": {
    "collapsed": true
   },
   "outputs": [],
   "source": [
    "a.get()"
   ]
  },
  {
   "cell_type": "code",
   "execution_count": null,
   "metadata": {
    "collapsed": true
   },
   "outputs": [],
   "source": [
    "from multiprocessing.pool import ThreadPool\n",
    "\n",
    "def foo(word, number):\n",
    "    print (word * number)\n",
    "    r[(word,number)] = number\n",
    "    return(number)\n",
    "\n",
    "words = ['hello', 'world', 'test', 'word', 'another test']\n",
    "numbers = [1,2,3,4,5]\n",
    "pool = ThreadPool(5)\n",
    "results = []\n",
    "for i in range(0, len(words)):\n",
    "    results.append(pool.apply_async(foo, args=(words[i], numbers[i])))\n",
    "\n",
    "pool.close()\n",
    "pool.join()\n",
    "results = [r.get() for r in results]\n",
    "print(results)\n"
   ]
  },
  {
   "cell_type": "code",
   "execution_count": null,
   "metadata": {
    "collapsed": true
   },
   "outputs": [],
   "source": [
    "a.get()"
   ]
  },
  {
   "cell_type": "code",
   "execution_count": null,
   "metadata": {
    "collapsed": true
   },
   "outputs": [],
   "source": [
    "mp_pool.close()"
   ]
  },
  {
   "cell_type": "code",
   "execution_count": null,
   "metadata": {
    "collapsed": true
   },
   "outputs": [],
   "source": [
    "for i in gene_chunks:\n",
    "    print(i)"
   ]
  },
  {
   "cell_type": "code",
   "execution_count": null,
   "metadata": {
    "collapsed": true,
    "scrolled": false
   },
   "outputs": [],
   "source": [
    "counter = 1\n",
    "\n",
    "# for faster writing, https://stackoverflow.com/questions/27384093/fastest-way-to-write-huge-data-in-file\n",
    "\n",
    "genepairs = []\n",
    "\n",
    "t0 = time.time()\n",
    "for i in hg19gtf_genes_filt.index[0:1000]:\n",
    "    for j in hg19gtf_genes_filt.index[0:1000]:\n",
    "        gene1 = hg19gtf_genes_filt.iloc[i,[0,3,6]].tolist()\n",
    "        gene2 = hg19gtf_genes_filt.iloc[j,[0,3,6]].tolist()\n",
    "        gene1[0] = \"chr\"+str(gene1[0])\n",
    "        gene2[0] = \"chr\"+str(gene2[0])\n",
    "        corscore = cormat.todense()[i,j]\n",
    "        outline = [str(n) for n in gene1+gene2+[corscore]]\n",
    "        genepairs.append(outline)\n",
    "d = time.time() - t0\n",
    "print(\"Took %.2f seconds\" %d)"
   ]
  },
  {
   "cell_type": "markdown",
   "metadata": {},
   "source": [
    "Perhaps we could split the list into blocks and loop through them in parallel, joining the outputs at the end?"
   ]
  },
  {
   "cell_type": "code",
   "execution_count": null,
   "metadata": {
    "collapsed": true
   },
   "outputs": [],
   "source": [
    "with open(\"./scrnaseq_10x_bcell_correlation_contacts_all.txt\",'w') as outfile:\n",
    "#     for i in hg19gtf_genes_filt.index[0:1000]:\n",
    "#         for j in hg19gtf_genes_filt.index[0:1000]:\n",
    "#     for i in range(len(hg19gtf_genes_filt.index[0:1000])):\n",
    "#         for j in range(len(hg19gtf_genes_filt.index[0:1000])):\n",
    "    for i in hg19gtf_genes_filt.index[0:5]:\n",
    "        for j in hg19gtf_genes_filt.index[0:5]:\n",
    "#             if i != j:\n",
    "            gene1 = hg19gtf_genes_filt.iloc[i,[0,3,6]].tolist()\n",
    "            gene2 = hg19gtf_genes_filt.iloc[j,[0,3,6]].tolist()\n",
    "            gene1[0] = \"chr\"+str(gene1[0])\n",
    "            gene2[0] = \"chr\"+str(gene2[0])\n",
    "                #print(i,j)\n",
    "            corscore = cormat.todense()[i,j]\n",
    "            outline = [str(n) for n in gene1+gene2+[corscore]]\n",
    "                #print(i,j,outline)\n",
    "            outfile.write(\"\\t\".join(outline)+\"\\n\")\n",
    "            if counter % 10 == 0 or counter == 1:\n",
    "                print('%d lines complete'%counter)\n",
    "            counter += 1\n"
   ]
  },
  {
   "cell_type": "code",
   "execution_count": null,
   "metadata": {
    "collapsed": true
   },
   "outputs": [],
   "source": [
    "#hg19gtf_genes_filt"
   ]
  },
  {
   "cell_type": "code",
   "execution_count": null,
   "metadata": {
    "collapsed": true
   },
   "outputs": [],
   "source": [
    "#12700\n",
    "# hg19gtf_genes_filt.iloc[12700,[0,3,6]].tolist()\n",
    "# cormat.todense()[0,12700]\n",
    "cormat.shape"
   ]
  },
  {
   "cell_type": "code",
   "execution_count": null,
   "metadata": {
    "collapsed": true
   },
   "outputs": [],
   "source": [
    "# def writeout(filename):\n",
    "#     with open(filename,'w') as outfile:\n",
    "#         for i in hg19gtf_genes_filt.index[0:1000]:\n",
    "#             for j in hg19gtf_genes_filt.index[0:1000]:\n",
    "#                 gene1 = hg19gtf_genes_filt.iloc[i,[0,3,6]].tolist()\n",
    "#                 gene2 = hg19gtf_genes_filt.iloc[j,[0,3,6]].tolist()\n",
    "#                 gene1[0] = \"chr\"+str(gene1[0])\n",
    "#                 gene2[0] = \"chr\"+str(gene2[0])\n",
    "#                 corscore = cormat.todense()[i,j]\n",
    "#                 outline = [str(n) for n in gene1+gene2+[corscore]]\n",
    "#                 outfile.write(\"\\t\".join(outline)+\"\\n\")\n",
    "#     return(filename)"
   ]
  },
  {
   "cell_type": "code",
   "execution_count": null,
   "metadata": {
    "collapsed": true
   },
   "outputs": [],
   "source": [
    "# mp_pool = mp.Pool(4)\n",
    "# filenames = mp_pool.map(writeout,[\"./scrnaseq_10x_bcell_correlation_contacts_1000.txt\"])\n",
    "mp_pool.close()"
   ]
  },
  {
   "cell_type": "code",
   "execution_count": null,
   "metadata": {
    "collapsed": true
   },
   "outputs": [],
   "source": [
    "# for i in range(len(filtgenes.index)):\n",
    "#     for "
   ]
  },
  {
   "cell_type": "code",
   "execution_count": null,
   "metadata": {
    "collapsed": true
   },
   "outputs": [],
   "source": [
    "#print([i for i in filtgenes.index])"
   ]
  },
  {
   "cell_type": "markdown",
   "metadata": {},
   "source": [
    "## Export matrix"
   ]
  },
  {
   "cell_type": "markdown",
   "metadata": {
    "collapsed": true
   },
   "source": [
    "We want to export the correlation matrix so that we can convert it into a cooler file (and view the results in HiGlass)"
   ]
  },
  {
   "cell_type": "markdown",
   "metadata": {},
   "source": [
    "## Other approaches"
   ]
  },
  {
   "cell_type": "markdown",
   "metadata": {},
   "source": [
    "### Clustering"
   ]
  },
  {
   "cell_type": "markdown",
   "metadata": {},
   "source": [
    "The clustering analysis turned out differentially-expressed genes for each cluster, so we could calculate a co-expression matrix using just those genes (rather than those with no counts recorded). Nevertheless, now we can perform matrix operations on the coo_matrix to identify the \"blocks\" of co-expressed genes.\n",
    "\n",
    "This could be a job for \"block modelling.\" https://stats.stackexchange.com/questions/138325/clustering-a-correlation-matrix. However, we want to retain the positional ordering of genes in the matrix"
   ]
  },
  {
   "cell_type": "markdown",
   "metadata": {},
   "source": [
    "### Binning genes"
   ]
  },
  {
   "cell_type": "markdown",
   "metadata": {},
   "source": [
    "What we will do is import an ENSEMBL GTF of genes for hg19 and create \"blocks\" from which we can coarse-grain the gene co-expression matrix (and recalculate correlation between all genes being expressed by getting correlation of reads for each block). We can then perform \"cooler\" operations on the matrix to isolate co-expression blocks"
   ]
  },
  {
   "cell_type": "markdown",
   "metadata": {},
   "source": [
    "# Compare co-expression domains and contact scores from HiC data\n",
    "\n",
    "We will perform the following procedure\n",
    "1. For the lower-left diagonal of the matrix, take each diagonal slice parallel to the hypotenuse\n",
    "    * Each slice represents some scale of genomic distance between regions. We would like to compute the whether particular contact-coexpression trends stand out over long genomic distances\n",
    "2. Obtain both the contact scores and the expression correlation of all genes in the genomic bins throughout the slice. \n",
    "3. We ultimately want to calculate some \"threshold\" at which genomic proximity and gene co-expression are potentially significant. \n",
    "* Weight the signal used to compute correlation by the number of genes present (assign an \"uncertainty\" to the reads mapping to the genes in the bin)"
   ]
  },
  {
   "cell_type": "code",
   "execution_count": 156,
   "metadata": {},
   "outputs": [
    {
     "name": "stdout",
     "output_type": "stream",
     "text": [
      "[[0 0 0 ..., 0 0 0]\n",
      " [0 0 0 ..., 0 0 0]\n",
      " [0 0 0 ..., 0 0 0]\n",
      " ..., \n",
      " [0 0 0 ..., 0 0 0]\n",
      " [0 0 0 ..., 0 0 0]\n",
      " [0 0 0 ..., 0 0 0]]\n"
     ]
    }
   ],
   "source": [
    "#test_cooler\n",
    "#ctest_coexp = cooler.Cooler(\"./cooler_files/test_out.cool\")\n",
    "ctest_coexp = cooler.Cooler(\"./bcell_8k/test_pairwisemat_0_to_15858.20kb_sorted.cool\")\n",
    "\n",
    "resolution = ctest_coexp.info['bin-size']\n",
    "balance_weights = cooler.ice\n",
    "mat2 = ctest_coexp.matrix(balance=False).fetch('chr1:1-20,000,000')\n",
    "print(mat2)\n",
    "#probably need a finer resolution\n",
    "#mat2 = ctest_coexp.matrix().fetch()\n",
    "#mat2 = ctest_coexp.matrix()"
   ]
  },
  {
   "cell_type": "code",
   "execution_count": null,
   "metadata": {
    "collapsed": true
   },
   "outputs": [],
   "source": [
    "# for a figure, show plots "
   ]
  },
  {
   "cell_type": "code",
   "execution_count": 157,
   "metadata": {},
   "outputs": [
    {
     "data": {
      "text/plain": [
       "{'bin-size': 20000,\n",
       " 'bin-type': 'fixed',\n",
       " 'creation-date': '2017-12-12T13:17:08.990209',\n",
       " 'format': 'HDF5::Cooler',\n",
       " 'format-url': 'https://github.com/mirnylab/cooler',\n",
       " 'format-version': 2,\n",
       " 'generated-by': 'cooler-0.7.6',\n",
       " 'genome-assembly': 'unknown',\n",
       " 'metadata': {},\n",
       " 'nbins': 156903,\n",
       " 'nchroms': 93,\n",
       " 'nnz': 5585551,\n",
       " 'sum': 15702244}"
      ]
     },
     "execution_count": 157,
     "metadata": {},
     "output_type": "execute_result"
    }
   ],
   "source": [
    "ctest_coexp.info"
   ]
  },
  {
   "cell_type": "code",
   "execution_count": null,
   "metadata": {
    "collapsed": true
   },
   "outputs": [],
   "source": [
    "#mat2 = ctest_coexp.matrix(as_pixels=False,balance=False).fetch('chr1:1-15,000,000')"
   ]
  },
  {
   "cell_type": "code",
   "execution_count": 158,
   "metadata": {},
   "outputs": [
    {
     "data": {
      "image/png": "[encoded data removed]",
      "text/plain": [
       "<matplotlib.figure.Figure at 0x1aaadd9940>"
      ]
     },
     "metadata": {},
     "output_type": "display_data"
    }
   ],
   "source": [
    "plt.matshow(mat2, cmap='YlOrRd')\n",
    "plt.show()"
   ]
  },
  {
   "cell_type": "code",
   "execution_count": 159,
   "metadata": {},
   "outputs": [
    {
     "name": "stdout",
     "output_type": "stream",
     "text": [
      "5000\n",
      "{'genome-assembly': 'hg19', 'library-version': '0.3.0', 'format-url': 'https://github.com/mirnylab/cooler', 'id': None, 'nbins': 619150, 'metadata': {'publication': '', 'QC': {'double-sided': {'total': 3390352656, 'valid': 3147639590, 'filtered-invalid': {'removed-self-circles': 1741768, 'removed-error-pair': 6074295, 'removed-dangling-ends': 234897003}, 'filtered-valid': {'removed-duplicate': 110650005, 'removed-start-near-rsite': '', 'removed-outlier-fragment': 151337031, 'removed-large-small-pair': 657466}}, 'pre-filtering': {'total': 5332721651, 'double-sided': 3390352656, 'unused': 0, 'single-sided': 1942368995}, 'post-filtering': {'total': 2884995088, 'cis': 2085711027, 'trans': 799284061}}, 'enzyme': 'MboI', 'cell-type': 'GM12878', 'species': 'Homo sapiens', 'sex': 'F'}, 'creation-date': '2016-02-25T22:53:09.510744', 'nnz': 1543535265, 'bin-type': 'fixed', 'bin-size': 5000, 'nchroms': 25, 'format-version': 2}\n"
     ]
    },
    {
     "data": {
      "image/png": "[encoded data removed]",
      "text/plain": [
       "<matplotlib.figure.Figure at 0x1ab95fac18>"
      ]
     },
     "metadata": {},
     "output_type": "display_data"
    }
   ],
   "source": [
    "# ctest_hic = cooler.Cooler(\"../data/coolfiles/GSM2644945_Untreated-R1.20000.cool\")\n",
    "ctest_hic = cooler.Cooler(\"./hic_data/Rao2014-GM12878-MboI-allreps-filtered.5kb.cool\")\n",
    "print(ctest_hic.info['bin-size'])\n",
    "#balance_weights = cooler.ice\n",
    "print(ctest_hic.info)\n",
    "mat_hic_untreated = ctest_hic.matrix(balance=True).fetch('chr1:1-20,000,000')\n",
    "plt.matshow(mat_hic_untreated, cmap='YlOrRd')\n",
    "plt.show()"
   ]
  },
  {
   "cell_type": "markdown",
   "metadata": {},
   "source": [
    "Clearly, we cannot compare the two matrices unless we consider regions mutual to both the Hi-C file and the coexpression matrix. But, this would make for an good introductory figure. "
   ]
  },
  {
   "cell_type": "markdown",
   "metadata": {},
   "source": [
    "## Showing the whole-transcriptome co-expression matrix"
   ]
  },
  {
   "cell_type": "code",
   "execution_count": 162,
   "metadata": {},
   "outputs": [
    {
     "data": {
      "text/html": [
       "<div>\n",
       "<style>\n",
       "    .dataframe thead tr:only-child th {\n",
       "        text-align: right;\n",
       "    }\n",
       "\n",
       "    .dataframe thead th {\n",
       "        text-align: left;\n",
       "    }\n",
       "\n",
       "    .dataframe tbody tr th {\n",
       "        vertical-align: top;\n",
       "    }\n",
       "</style>\n",
       "<table border=\"1\" class=\"dataframe\">\n",
       "  <thead>\n",
       "    <tr style=\"text-align: right;\">\n",
       "      <th></th>\n",
       "      <th>0</th>\n",
       "      <th>1</th>\n",
       "    </tr>\n",
       "  </thead>\n",
       "  <tbody>\n",
       "    <tr>\n",
       "      <th>0</th>\n",
       "      <td>chr1</td>\n",
       "      <td>249250621</td>\n",
       "    </tr>\n",
       "    <tr>\n",
       "      <th>1</th>\n",
       "      <td>chr2</td>\n",
       "      <td>243199373</td>\n",
       "    </tr>\n",
       "    <tr>\n",
       "      <th>2</th>\n",
       "      <td>chr3</td>\n",
       "      <td>198022430</td>\n",
       "    </tr>\n",
       "    <tr>\n",
       "      <th>3</th>\n",
       "      <td>chr4</td>\n",
       "      <td>191154276</td>\n",
       "    </tr>\n",
       "    <tr>\n",
       "      <th>4</th>\n",
       "      <td>chr5</td>\n",
       "      <td>180915260</td>\n",
       "    </tr>\n",
       "    <tr>\n",
       "      <th>5</th>\n",
       "      <td>chr6</td>\n",
       "      <td>171115067</td>\n",
       "    </tr>\n",
       "    <tr>\n",
       "      <th>6</th>\n",
       "      <td>chr7</td>\n",
       "      <td>159138663</td>\n",
       "    </tr>\n",
       "    <tr>\n",
       "      <th>7</th>\n",
       "      <td>chrX</td>\n",
       "      <td>155270560</td>\n",
       "    </tr>\n",
       "    <tr>\n",
       "      <th>8</th>\n",
       "      <td>chr8</td>\n",
       "      <td>146364022</td>\n",
       "    </tr>\n",
       "    <tr>\n",
       "      <th>9</th>\n",
       "      <td>chr9</td>\n",
       "      <td>141213431</td>\n",
       "    </tr>\n",
       "    <tr>\n",
       "      <th>10</th>\n",
       "      <td>chr10</td>\n",
       "      <td>135534747</td>\n",
       "    </tr>\n",
       "    <tr>\n",
       "      <th>11</th>\n",
       "      <td>chr11</td>\n",
       "      <td>135006516</td>\n",
       "    </tr>\n",
       "    <tr>\n",
       "      <th>12</th>\n",
       "      <td>chr12</td>\n",
       "      <td>133851895</td>\n",
       "    </tr>\n",
       "    <tr>\n",
       "      <th>13</th>\n",
       "      <td>chr13</td>\n",
       "      <td>115169878</td>\n",
       "    </tr>\n",
       "    <tr>\n",
       "      <th>14</th>\n",
       "      <td>chr14</td>\n",
       "      <td>107349540</td>\n",
       "    </tr>\n",
       "    <tr>\n",
       "      <th>15</th>\n",
       "      <td>chr15</td>\n",
       "      <td>102531392</td>\n",
       "    </tr>\n",
       "    <tr>\n",
       "      <th>16</th>\n",
       "      <td>chr16</td>\n",
       "      <td>90354753</td>\n",
       "    </tr>\n",
       "    <tr>\n",
       "      <th>17</th>\n",
       "      <td>chr17</td>\n",
       "      <td>81195210</td>\n",
       "    </tr>\n",
       "    <tr>\n",
       "      <th>18</th>\n",
       "      <td>chr18</td>\n",
       "      <td>78077248</td>\n",
       "    </tr>\n",
       "    <tr>\n",
       "      <th>19</th>\n",
       "      <td>chr20</td>\n",
       "      <td>63025520</td>\n",
       "    </tr>\n",
       "    <tr>\n",
       "      <th>20</th>\n",
       "      <td>chrY</td>\n",
       "      <td>59373566</td>\n",
       "    </tr>\n",
       "    <tr>\n",
       "      <th>21</th>\n",
       "      <td>chr19</td>\n",
       "      <td>59128983</td>\n",
       "    </tr>\n",
       "    <tr>\n",
       "      <th>22</th>\n",
       "      <td>chr22</td>\n",
       "      <td>51304566</td>\n",
       "    </tr>\n",
       "    <tr>\n",
       "      <th>23</th>\n",
       "      <td>chr21</td>\n",
       "      <td>48129895</td>\n",
       "    </tr>\n",
       "    <tr>\n",
       "      <th>24</th>\n",
       "      <td>chr6_ssto_hap7</td>\n",
       "      <td>4928567</td>\n",
       "    </tr>\n",
       "    <tr>\n",
       "      <th>25</th>\n",
       "      <td>chr6_mcf_hap5</td>\n",
       "      <td>4833398</td>\n",
       "    </tr>\n",
       "    <tr>\n",
       "      <th>26</th>\n",
       "      <td>chr6_cox_hap2</td>\n",
       "      <td>4795371</td>\n",
       "    </tr>\n",
       "    <tr>\n",
       "      <th>27</th>\n",
       "      <td>chr6_mann_hap4</td>\n",
       "      <td>4683263</td>\n",
       "    </tr>\n",
       "    <tr>\n",
       "      <th>28</th>\n",
       "      <td>chr6_apd_hap1</td>\n",
       "      <td>4622290</td>\n",
       "    </tr>\n",
       "    <tr>\n",
       "      <th>29</th>\n",
       "      <td>chr6_qbl_hap6</td>\n",
       "      <td>4611984</td>\n",
       "    </tr>\n",
       "    <tr>\n",
       "      <th>...</th>\n",
       "      <td>...</td>\n",
       "      <td>...</td>\n",
       "    </tr>\n",
       "    <tr>\n",
       "      <th>63</th>\n",
       "      <td>chrUn_gl000237</td>\n",
       "      <td>45867</td>\n",
       "    </tr>\n",
       "    <tr>\n",
       "      <th>64</th>\n",
       "      <td>chrUn_gl000230</td>\n",
       "      <td>43691</td>\n",
       "    </tr>\n",
       "    <tr>\n",
       "      <th>65</th>\n",
       "      <td>chrUn_gl000242</td>\n",
       "      <td>43523</td>\n",
       "    </tr>\n",
       "    <tr>\n",
       "      <th>66</th>\n",
       "      <td>chrUn_gl000243</td>\n",
       "      <td>43341</td>\n",
       "    </tr>\n",
       "    <tr>\n",
       "      <th>67</th>\n",
       "      <td>chrUn_gl000241</td>\n",
       "      <td>42152</td>\n",
       "    </tr>\n",
       "    <tr>\n",
       "      <th>68</th>\n",
       "      <td>chrUn_gl000236</td>\n",
       "      <td>41934</td>\n",
       "    </tr>\n",
       "    <tr>\n",
       "      <th>69</th>\n",
       "      <td>chrUn_gl000240</td>\n",
       "      <td>41933</td>\n",
       "    </tr>\n",
       "    <tr>\n",
       "      <th>70</th>\n",
       "      <td>chr17_gl000206_random</td>\n",
       "      <td>41001</td>\n",
       "    </tr>\n",
       "    <tr>\n",
       "      <th>71</th>\n",
       "      <td>chrUn_gl000232</td>\n",
       "      <td>40652</td>\n",
       "    </tr>\n",
       "    <tr>\n",
       "      <th>72</th>\n",
       "      <td>chrUn_gl000234</td>\n",
       "      <td>40531</td>\n",
       "    </tr>\n",
       "    <tr>\n",
       "      <th>73</th>\n",
       "      <td>chr11_gl000202_random</td>\n",
       "      <td>40103</td>\n",
       "    </tr>\n",
       "    <tr>\n",
       "      <th>74</th>\n",
       "      <td>chrUn_gl000238</td>\n",
       "      <td>39939</td>\n",
       "    </tr>\n",
       "    <tr>\n",
       "      <th>75</th>\n",
       "      <td>chrUn_gl000244</td>\n",
       "      <td>39929</td>\n",
       "    </tr>\n",
       "    <tr>\n",
       "      <th>76</th>\n",
       "      <td>chrUn_gl000248</td>\n",
       "      <td>39786</td>\n",
       "    </tr>\n",
       "    <tr>\n",
       "      <th>77</th>\n",
       "      <td>chr8_gl000196_random</td>\n",
       "      <td>38914</td>\n",
       "    </tr>\n",
       "    <tr>\n",
       "      <th>78</th>\n",
       "      <td>chrUn_gl000249</td>\n",
       "      <td>38502</td>\n",
       "    </tr>\n",
       "    <tr>\n",
       "      <th>79</th>\n",
       "      <td>chrUn_gl000246</td>\n",
       "      <td>38154</td>\n",
       "    </tr>\n",
       "    <tr>\n",
       "      <th>80</th>\n",
       "      <td>chr17_gl000203_random</td>\n",
       "      <td>37498</td>\n",
       "    </tr>\n",
       "    <tr>\n",
       "      <th>81</th>\n",
       "      <td>chr8_gl000197_random</td>\n",
       "      <td>37175</td>\n",
       "    </tr>\n",
       "    <tr>\n",
       "      <th>82</th>\n",
       "      <td>chrUn_gl000245</td>\n",
       "      <td>36651</td>\n",
       "    </tr>\n",
       "    <tr>\n",
       "      <th>83</th>\n",
       "      <td>chrUn_gl000247</td>\n",
       "      <td>36422</td>\n",
       "    </tr>\n",
       "    <tr>\n",
       "      <th>84</th>\n",
       "      <td>chr9_gl000201_random</td>\n",
       "      <td>36148</td>\n",
       "    </tr>\n",
       "    <tr>\n",
       "      <th>85</th>\n",
       "      <td>chrUn_gl000235</td>\n",
       "      <td>34474</td>\n",
       "    </tr>\n",
       "    <tr>\n",
       "      <th>86</th>\n",
       "      <td>chrUn_gl000239</td>\n",
       "      <td>33824</td>\n",
       "    </tr>\n",
       "    <tr>\n",
       "      <th>87</th>\n",
       "      <td>chr21_gl000210_random</td>\n",
       "      <td>27682</td>\n",
       "    </tr>\n",
       "    <tr>\n",
       "      <th>88</th>\n",
       "      <td>chrUn_gl000231</td>\n",
       "      <td>27386</td>\n",
       "    </tr>\n",
       "    <tr>\n",
       "      <th>89</th>\n",
       "      <td>chrUn_gl000229</td>\n",
       "      <td>19913</td>\n",
       "    </tr>\n",
       "    <tr>\n",
       "      <th>90</th>\n",
       "      <td>chrM</td>\n",
       "      <td>16571</td>\n",
       "    </tr>\n",
       "    <tr>\n",
       "      <th>91</th>\n",
       "      <td>chrUn_gl000226</td>\n",
       "      <td>15008</td>\n",
       "    </tr>\n",
       "    <tr>\n",
       "      <th>92</th>\n",
       "      <td>chr18_gl000207_random</td>\n",
       "      <td>4262</td>\n",
       "    </tr>\n",
       "  </tbody>\n",
       "</table>\n",
       "<p>93 rows × 2 columns</p>\n",
       "</div>"
      ],
      "text/plain": [
       "                        0          1\n",
       "0                    chr1  249250621\n",
       "1                    chr2  243199373\n",
       "2                    chr3  198022430\n",
       "3                    chr4  191154276\n",
       "4                    chr5  180915260\n",
       "5                    chr6  171115067\n",
       "6                    chr7  159138663\n",
       "7                    chrX  155270560\n",
       "8                    chr8  146364022\n",
       "9                    chr9  141213431\n",
       "10                  chr10  135534747\n",
       "11                  chr11  135006516\n",
       "12                  chr12  133851895\n",
       "13                  chr13  115169878\n",
       "14                  chr14  107349540\n",
       "15                  chr15  102531392\n",
       "16                  chr16   90354753\n",
       "17                  chr17   81195210\n",
       "18                  chr18   78077248\n",
       "19                  chr20   63025520\n",
       "20                   chrY   59373566\n",
       "21                  chr19   59128983\n",
       "22                  chr22   51304566\n",
       "23                  chr21   48129895\n",
       "24         chr6_ssto_hap7    4928567\n",
       "25          chr6_mcf_hap5    4833398\n",
       "26          chr6_cox_hap2    4795371\n",
       "27         chr6_mann_hap4    4683263\n",
       "28          chr6_apd_hap1    4622290\n",
       "29          chr6_qbl_hap6    4611984\n",
       "..                    ...        ...\n",
       "63         chrUn_gl000237      45867\n",
       "64         chrUn_gl000230      43691\n",
       "65         chrUn_gl000242      43523\n",
       "66         chrUn_gl000243      43341\n",
       "67         chrUn_gl000241      42152\n",
       "68         chrUn_gl000236      41934\n",
       "69         chrUn_gl000240      41933\n",
       "70  chr17_gl000206_random      41001\n",
       "71         chrUn_gl000232      40652\n",
       "72         chrUn_gl000234      40531\n",
       "73  chr11_gl000202_random      40103\n",
       "74         chrUn_gl000238      39939\n",
       "75         chrUn_gl000244      39929\n",
       "76         chrUn_gl000248      39786\n",
       "77   chr8_gl000196_random      38914\n",
       "78         chrUn_gl000249      38502\n",
       "79         chrUn_gl000246      38154\n",
       "80  chr17_gl000203_random      37498\n",
       "81   chr8_gl000197_random      37175\n",
       "82         chrUn_gl000245      36651\n",
       "83         chrUn_gl000247      36422\n",
       "84   chr9_gl000201_random      36148\n",
       "85         chrUn_gl000235      34474\n",
       "86         chrUn_gl000239      33824\n",
       "87  chr21_gl000210_random      27682\n",
       "88         chrUn_gl000231      27386\n",
       "89         chrUn_gl000229      19913\n",
       "90                   chrM      16571\n",
       "91         chrUn_gl000226      15008\n",
       "92  chr18_gl000207_random       4262\n",
       "\n",
       "[93 rows x 2 columns]"
      ]
     },
     "execution_count": 162,
     "metadata": {},
     "output_type": "execute_result"
    }
   ],
   "source": [
    "# import the chromosome sizes file\n",
    "chrsizes = pd.read_csv(\"./hg-data/hg19.chrom.sizes\",header=None,delimiter=\"\\t\")\n",
    "chrsizes"
   ]
  },
  {
   "cell_type": "code",
   "execution_count": 167,
   "metadata": {},
   "outputs": [],
   "source": [
    "coexp_ranges = []\n",
    "for i in chrsizes.index[0:24]:\n",
    "    chrrange = chrsizes.iloc[i,0] + \":1-\"+str(chrsizes.iloc[i,1])\n",
    "    coexp_ranges.append(chrrange)"
   ]
  },
  {
   "cell_type": "code",
   "execution_count": 176,
   "metadata": {
    "scrolled": false
   },
   "outputs": [
    {
     "name": "stdout",
     "output_type": "stream",
     "text": [
      "24\n",
      "[<matplotlib.axes._subplots.AxesSubplot object at 0x1a46ba9978>\n",
      " <matplotlib.axes._subplots.AxesSubplot object at 0x1a46bc2240>]\n",
      "[<matplotlib.axes._subplots.AxesSubplot object at 0x1a68329550>\n",
      " <matplotlib.axes._subplots.AxesSubplot object at 0x1a68322da0>]\n",
      "[<matplotlib.axes._subplots.AxesSubplot object at 0x1a680fba20>\n",
      " <matplotlib.axes._subplots.AxesSubplot object at 0x1aab2176a0>]\n",
      "[<matplotlib.axes._subplots.AxesSubplot object at 0x1a13c5bac8>\n",
      " <matplotlib.axes._subplots.AxesSubplot object at 0x1a0ba8c5c0>]\n",
      "[<matplotlib.axes._subplots.AxesSubplot object at 0x1a147ae0b8>\n",
      " <matplotlib.axes._subplots.AxesSubplot object at 0x1a0cb5dcc0>]\n",
      "[<matplotlib.axes._subplots.AxesSubplot object at 0x1a58a5b9b0>\n",
      " <matplotlib.axes._subplots.AxesSubplot object at 0x1a0cb08cf8>]\n",
      "[<matplotlib.axes._subplots.AxesSubplot object at 0x1a588ce470>\n",
      " <matplotlib.axes._subplots.AxesSubplot object at 0x1a6819c828>]\n",
      "[<matplotlib.axes._subplots.AxesSubplot object at 0x1a0c141320>\n",
      " <matplotlib.axes._subplots.AxesSubplot object at 0x1a0bb77358>]\n",
      "[<matplotlib.axes._subplots.AxesSubplot object at 0x1a589470f0>\n",
      " <matplotlib.axes._subplots.AxesSubplot object at 0x1a13babcc0>]\n",
      "[<matplotlib.axes._subplots.AxesSubplot object at 0x1a68258160>\n",
      " <matplotlib.axes._subplots.AxesSubplot object at 0x1a6803d1d0>]\n",
      "[<matplotlib.axes._subplots.AxesSubplot object at 0x1a0c64e4a8>\n",
      " <matplotlib.axes._subplots.AxesSubplot object at 0x1a68730710>]\n",
      "[<matplotlib.axes._subplots.AxesSubplot object at 0x1a68753860>\n",
      " <matplotlib.axes._subplots.AxesSubplot object at 0x1a0bae4860>]\n"
     ]
    }
   ],
   "source": [
    "bcell_cooler_mats = []\n",
    "\n",
    "cooler_coexp_100kb = cooler.Cooler(\"./bcell_8k/test_pairwisemat_0_to_15858.100kb_sorted.cool\")\n",
    "\n",
    "print(len(coexp_ranges))\n",
    "ncols = 4\n",
    "fig, axes = plt.subplots(12, 2)\n",
    "\n",
    "for row in axes:\n",
    "    print(row)\n",
    "# for i,j in zip(coexp_ranges,coexp_ranges[1:]):\n",
    "#     mat_i = cooler_coexp_100kb.matrix(balance=False).fetch(i)\n",
    "#     mat_j = cooler_coexp_100kb.matrix(balance=False).fetch(j)\n",
    "#     bcell_cooler_mats.append(mat_i)\n",
    "#     bcell_cooler_mats.append(mat_j)\n",
    "#     plt.matshow(mat_i, cmap='YlOrRd')\n",
    "#     plt.title(i+\"\\n\")\n",
    "#     plt.show()\n",
    "#resolution = ctest_coexp.info['bin-size']\n",
    "# balance_weights = cooler.ice\n",
    "# mat2 = ctest_coexp.matrix(balance=False).fetch('chr1:1-20,000,000')\n",
    "# print(mat2)\n"
   ]
  },
  {
   "cell_type": "code",
   "execution_count": null,
   "metadata": {
    "collapsed": true
   },
   "outputs": [],
   "source": []
  },
  {
   "cell_type": "markdown",
   "metadata": {},
   "source": [
    "# OUTDATED Components\n",
    "At some point, we will delete the below sections"
   ]
  },
  {
   "cell_type": "markdown",
   "metadata": {},
   "source": [
    "# Isolate groups of cells\n",
    "We can identify putative groups of cells (from the 10-cluster scheme) and calculate co-expression matrices fo the genes using measurements from each cluster of cells (we will have as any matrices as we have cells). We will calculate these co-expression matrices for the whole set of ~30,000 genes and represent it as a plot. "
   ]
  },
  {
   "cell_type": "code",
   "execution_count": null,
   "metadata": {},
   "outputs": [],
   "source": [
    "mat1_sumxcells = np.sum(mat1,axis=1)\n",
    "zerogenes_ind = np.where(mat1_sumxcells != mat1_sumxcells.min())[0].tolist()\n",
    "\n",
    "mask = genes_df.index.isin(zerogenes_ind)\n",
    "nonzero_genes = genes_df[~mask]"
   ]
  },
  {
   "cell_type": "code",
   "execution_count": null,
   "metadata": {
    "collapsed": true
   },
   "outputs": [],
   "source": [
    "nonzero_genes.shape"
   ]
  },
  {
   "cell_type": "code",
   "execution_count": null,
   "metadata": {
    "collapsed": true
   },
   "outputs": [],
   "source": [
    "def get_cluster(clusterid,celldf,cluster_ids):\n",
    "    cells = cluster_ids[cluster_ids.Cluster == clusterid]\n",
    "    cells_ind = cells.index\n",
    "    return(celldf.tocsr()[:,cells_ind].tocoo())"
   ]
  },
  {
   "cell_type": "code",
   "execution_count": null,
   "metadata": {
    "collapsed": true
   },
   "outputs": [],
   "source": [
    "mp_pool = mp.Pool(4)\n",
    "clusters = [(i,mat,cluster_10_ids) for i in set(cluster_10_ids.iloc[:,1])]\n",
    "cellgroups = mp_pool.starmap(get_cluster, clusters)\n",
    "mp_pool.close()"
   ]
  },
  {
   "cell_type": "code",
   "execution_count": null,
   "metadata": {
    "collapsed": true
   },
   "outputs": [],
   "source": [
    "mat1 = cellgroups[0]\n",
    "print(type(mat1))"
   ]
  },
  {
   "cell_type": "markdown",
   "metadata": {
    "collapsed": true
   },
   "source": [
    "## Calcuate co-ex"
   ]
  },
  {
   "cell_type": "code",
   "execution_count": null,
   "metadata": {
    "collapsed": true
   },
   "outputs": [],
   "source": [
    "def calculate_sparsemat_correlation(sparsemat):\n",
    "    #A = sparsemat + 1e-120 #add an infinitesmal pseudocount #I should probably add random \"noise\" to preserve the correlations\n",
    "    A = sparsemat # + We want to input some random noise so that the preponderance of zeroes does not turn up nan-level correlations \n",
    "    n = A.shape[1] #gets the number of cells; shape[0[] would give the number of variables\n",
    "    rowsum = A.sum(1)\n",
    "    \n",
    "    #compute covariance matrix\n",
    "    centering = rowsum.dot(rowsum.T.conjugate()) / n\n",
    "    C = (A.dot(A.T.conjugate()) - centering) / (n - 1)\n",
    "\n",
    "    # The correlation coefficients are given by\n",
    "    # C_{i,j} / sqrt(C_{i} * C_{j})\n",
    "    d = np.diag(C)\n",
    "    coeffs = C / np.sqrt(np.outer(d, d))\n",
    "\n",
    "    return C#coeffs\n"
   ]
  },
  {
   "cell_type": "code",
   "execution_count": null,
   "metadata": {
    "collapsed": true
   },
   "outputs": [],
   "source": [
    "# from scipy.sparse import random\n",
    "# from scipy import stats\n",
    "# class CustomRandomState(object):\n",
    "#     def randint(self, k):\n",
    "#         i = np.random.randint(k)\n",
    "#         return i - i % 2\n",
    "# rs = CustomRandomState()\n",
    "# rvs = stats.poisson(2, loc=1).rvs\n",
    "# S = random(1000, 10000, density=0.25, random_state=rs, data_rvs=rvs)\n",
    "# print(S.A)\n",
    "# print(np.corrcoef(S.A))"
   ]
  },
  {
   "cell_type": "code",
   "execution_count": null,
   "metadata": {
    "collapsed": true
   },
   "outputs": [],
   "source": [
    "# def calculate_corr(pd_df):\n",
    "#     return pd_df.T.corr(method=\"pearson\") #pearson is default"
   ]
  },
  {
   "cell_type": "code",
   "execution_count": null,
   "metadata": {
    "collapsed": true
   },
   "outputs": [],
   "source": [
    "for i in cellgroups:\n",
    "    print(i.shape)"
   ]
  },
  {
   "cell_type": "code",
   "execution_count": null,
   "metadata": {
    "collapsed": true
   },
   "outputs": [],
   "source": [
    "#keey the clusters that have more than 'ncell' cells\n",
    "ncell = 1\n",
    "inds = [None for i in range(len(cellgroups))]\n",
    "for i in range(len(cellgroups)):\n",
    "    if cellgroups[i].shape[1] > ncell:\n",
    "        inds[i] = i\n",
    "inds = [i for i in inds if i is not None]\n",
    "print(inds)\n",
    "#corrdfs_actual = [corrdfs[i] for i in inds]\n",
    "cellgroups_keep = [cellgroups[i] for i in inds]\n",
    "for i in [j for j in cellgroups_keep]:\n",
    "    print(i.shape)"
   ]
  },
  {
   "cell_type": "code",
   "execution_count": null,
   "metadata": {
    "collapsed": true
   },
   "outputs": [],
   "source": [
    "# https://stackoverflow.com/questions/44553858/compute-a-pairwise-distance-matrix-is-a-scalable-big-data-ready-approach-avail\n",
    "# https://stackoverflow.com/questions/19231268/correlation-coefficients-for-sparse-matrix-in-python\n",
    "# https://stackoverflow.com/questions/34872854/how-to-ignore-zeros-when-calculating-correlations-between-columns-for-sparse-mat"
   ]
  },
  {
   "cell_type": "code",
   "execution_count": null,
   "metadata": {
    "collapsed": true
   },
   "outputs": [],
   "source": [
    "mat1 = cellgroups_keep[0]\n",
    "print(mat1.shape)"
   ]
  },
  {
   "cell_type": "markdown",
   "metadata": {},
   "source": [
    "### Outdated: correlations with the full set (TOO LONG!)"
   ]
  },
  {
   "cell_type": "code",
   "execution_count": null,
   "metadata": {
    "collapsed": true
   },
   "outputs": [],
   "source": [
    "# convert in a numpy array\n",
    "m = np.array(mat1.todense())\n",
    "\n",
    "# create the distance matrix using pdist\n",
    "m1 = m + 1e-119 #add an infinitesmal to pseudocount \n",
    "\n",
    "sparsecorr = calculate_sparsemat_correlation(m1)"
   ]
  },
  {
   "cell_type": "code",
   "execution_count": null,
   "metadata": {
    "collapsed": true
   },
   "outputs": [],
   "source": [
    "scipy.sparse.random()"
   ]
  },
  {
   "cell_type": "code",
   "execution_count": null,
   "metadata": {
    "collapsed": true
   },
   "outputs": [],
   "source": [
    "d = ds.pdist(m[1:100,1:100], 'correlation')\n",
    "\n",
    "d= ds.squareform(d)\n",
    "print(np.amax(np.sum(np.corrcoef(m1[1:100,1:100]),axis=1)))"
   ]
  },
  {
   "cell_type": "code",
   "execution_count": null,
   "metadata": {
    "collapsed": true
   },
   "outputs": [],
   "source": [
    "mp_pool = mp.Pool(4)\n",
    "\n",
    "#cellgroups_keep_T = [i.transpose() for i in cellgroups_keep]\n",
    "# corrdfs = mp_pool.map(calculate_corr,cellgroups_keep)\n",
    "corrdfs = mp_pool.map(calculate_sparsemat_covariance,cellgroups_keep)\n",
    "\n",
    "\n",
    "print(corrdfs[0])\n",
    "#print(cluster_0)\n",
    "#print(cluster_0.shape)\n",
    "#cluster_0.corr()\n",
    "#cov_cluster_0 = calculate_sparsemat_correlation(cluster_0)\n",
    "#cluster_0.sum(1).dot(cluster_0.sum(1).T.conjugate()).shape"
   ]
  },
  {
   "cell_type": "code",
   "execution_count": null,
   "metadata": {
    "collapsed": true
   },
   "outputs": [],
   "source": [
    "# Now, for associate each position on the correlation matrix with a gene from the "
   ]
  },
  {
   "cell_type": "code",
   "execution_count": null,
   "metadata": {
    "collapsed": true
   },
   "outputs": [],
   "source": [
    "#corrdfs_actual[3]"
   ]
  },
  {
   "cell_type": "code",
   "execution_count": null,
   "metadata": {
    "collapsed": true
   },
   "outputs": [],
   "source": [
    "def plot_coo_matrix(m):\n",
    "#     if not isinstance(m, scipy.sparse.coo_matrix):\n",
    "#         m = scipy.sparse.coo_matrix(m)\n",
    "    ax = plt.figure()\n",
    "#    ax = fig.add_subplot(111, axisbg='black')\n",
    "#    ax.plot(m.col, m.row, 's', ms=1)\n",
    "#    ax.set_xlim(0, m.shape[1])\n",
    "#    ax.set_ylim(0, m.shape[0])\n",
    "#    ax.set_aspect('equal')\n",
    "    for spine in ax.spines.values():\n",
    "        spine.set_visible(False)\n",
    "    ax.invert_yaxis()\n",
    "    ax.set_aspect('equal')\n",
    "    ax.stet_xticks([])\n",
    "    ax.set_yticks([])\n",
    "    return ax\n"
   ]
  },
  {
   "cell_type": "code",
   "execution_count": null,
   "metadata": {
    "collapsed": true
   },
   "outputs": [],
   "source": [
    "a = plot_coo_matrix(corrdfs[0])\n",
    "a.figure"
   ]
  },
  {
   "cell_type": "code",
   "execution_count": null,
   "metadata": {
    "collapsed": true
   },
   "outputs": [],
   "source": [
    "# #from https://stackoverflow.com/questions/19231268/correlation-coefficients-for-sparse-matrix-in-python\n",
    "# def sparse_corrcoef(A, B=None):\n",
    "\n",
    "#     if B is not None:\n",
    "#         A = sparse.vstack((A, B), format='csr')\n",
    "\n",
    "#     A = A.astype(np.float64)\n",
    "#     n = A.shape[1]\n",
    "#     print(n)\n",
    "\n",
    "#     # Compute the covariance matrix\n",
    "#     rowsum = A.sum(1)\n",
    "#     centering = rowsum.dot(rowsum.T.conjugate()) / n\n",
    "#     C = (A.dot(A.T.conjugate()) - centering) / (n - 1)\n",
    "\n",
    "#     # The correlation coefficients are given by\n",
    "#     # C_{i,j} / sqrt(C_{i} * C_{j})\n",
    "#     d = np.diag(C)\n",
    "#     coeffs = C / np.sqrt(np.outer(d, d))\n",
    "\n",
    "#     return coeffs"
   ]
  },
  {
   "cell_type": "code",
   "execution_count": null,
   "metadata": {
    "collapsed": true,
    "scrolled": true
   },
   "outputs": [],
   "source": [
    "# for i in cellgroups:\n",
    "#     print(i.shape)\n",
    "# #cellgroups[4]\n",
    "# #mat_csr = mat.tocsr()\n",
    "# #mat_csr[2,cellgroups[0].tolist()]\n",
    "# #    mat_group = mat.tocsc[0:100] cells_ind"
   ]
  },
  {
   "cell_type": "code",
   "execution_count": null,
   "metadata": {
    "collapsed": true
   },
   "outputs": [],
   "source": [
    "# test_corr = sparse_corrcoef(A=cellgroups[0])"
   ]
  },
  {
   "cell_type": "code",
   "execution_count": null,
   "metadata": {
    "collapsed": true
   },
   "outputs": [],
   "source": [
    "#import statsmodels"
   ]
  },
  {
   "cell_type": "code",
   "execution_count": null,
   "metadata": {
    "collapsed": true
   },
   "outputs": [],
   "source": [
    "test_corr_nona = np.nan_to_num(test_corr) #replace all NA with 0"
   ]
  },
  {
   "cell_type": "code",
   "execution_count": null,
   "metadata": {
    "collapsed": true
   },
   "outputs": [],
   "source": [
    "test_corr_sparse = scipy.sparse.coo_matrix(test_corr)\n",
    "#print(type(test_corr_sparse))\n",
    "\n",
    "#ax = sparse_corrcoef(test_corr)\n",
    "#ax.figure"
   ]
  },
  {
   "cell_type": "code",
   "execution_count": null,
   "metadata": {
    "collapsed": true
   },
   "outputs": [],
   "source": [
    "print(np.amax(np.sum(a=test_corr_nona,axis=0))) #so this does work\n",
    "test_corr_nona_sparse = scipy.sparse.coo_matrix(test_corr_nona) #store as a sparce matrix"
   ]
  },
  {
   "cell_type": "code",
   "execution_count": null,
   "metadata": {
    "collapsed": true
   },
   "outputs": [],
   "source": [
    "#import cooler\n",
    "test_corr_nona_sparse.todense()"
   ]
  },
  {
   "cell_type": "markdown",
   "metadata": {},
   "source": [
    "### Computing correlations for clusters of cells -- DEPRECATED!"
   ]
  },
  {
   "cell_type": "code",
   "execution_count": null,
   "metadata": {
    "collapsed": true
   },
   "outputs": [],
   "source": [
    "mp_pool = mp.Pool(4)\n",
    "inputmats = [(i,genes_df) for i in cellgroups_keep]\n",
    "#print(inputmats)\n",
    "filtgenes = mp_pool.starmap(filter_genes,inputmats)\n",
    "#cormats = mp_pool.starmap(calculate_correlation_matrices,inputmats)\n",
    "mp_pool.close()"
   ]
  },
  {
   "cell_type": "code",
   "execution_count": null,
   "metadata": {
    "collapsed": true
   },
   "outputs": [],
   "source": [
    "for i in cellgroups_keep:\n",
    "    print(i)"
   ]
  },
  {
   "cell_type": "code",
   "execution_count": null,
   "metadata": {
    "collapsed": true
   },
   "outputs": [],
   "source": [
    "#mp_pool = mp.Pool(4)\n",
    "#cormats = mp_pool.starmap_async(calculate_correlation_matrices,inputmats)\n",
    "mp_pool.close()"
   ]
  },
  {
   "cell_type": "code",
   "execution_count": null,
   "metadata": {
    "collapsed": true
   },
   "outputs": [],
   "source": [
    "cormats = []\n",
    "for i in inputmats:\n",
    "    cormats.append(calculate_correlation_matrices(i[0],i[1]))"
   ]
  },
  {
   "cell_type": "code",
   "execution_count": null,
   "metadata": {
    "collapsed": true
   },
   "outputs": [],
   "source": [
    "for i in cormats:\n",
    "    print(i.shape)"
   ]
  },
  {
   "cell_type": "code",
   "execution_count": null,
   "metadata": {
    "collapsed": true
   },
   "outputs": [],
   "source": [
    "cormats[0].todense()"
   ]
  },
  {
   "cell_type": "code",
   "execution_count": null,
   "metadata": {
    "collapsed": true
   },
   "outputs": [],
   "source": [
    "cormats[1].todense()"
   ]
  },
  {
   "cell_type": "markdown",
   "metadata": {},
   "source": [
    "We can also perform a distance calculation"
   ]
  },
  {
   "cell_type": "code",
   "execution_count": null,
   "metadata": {
    "collapsed": true
   },
   "outputs": [],
   "source": [
    "d = ds.pdist(mat1_nonzerogenes_sparse.todense(), 'correlation')"
   ]
  }
 ],
 "metadata": {
  "kernelspec": {
   "display_name": "Python 3",
   "language": "python",
   "name": "python3"
  },
  "language_info": {
   "codemirror_mode": {
    "name": "ipython",
    "version": 3
   },
   "file_extension": ".py",
   "mimetype": "text/x-python",
   "name": "python",
   "nbconvert_exporter": "python",
   "pygments_lexer": "ipython3",
   "version": "3.6.3"
  }
 },
 "nbformat": 4,
 "nbformat_minor": 2
}
